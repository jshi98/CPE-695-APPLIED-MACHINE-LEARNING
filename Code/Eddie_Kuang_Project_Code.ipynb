{
 "cells": [
  {
   "cell_type": "markdown",
   "id": "cda13289",
   "metadata": {},
   "source": [
    "Eddie Kuang"
   ]
  },
  {
   "cell_type": "code",
   "execution_count": 1,
   "id": "c98ffde2",
   "metadata": {},
   "outputs": [],
   "source": [
    "import numpy as np\n",
    "import pandas as pd\n",
    "import os"
   ]
  },
  {
   "cell_type": "code",
   "execution_count": 2,
   "id": "2cbf41cb",
   "metadata": {},
   "outputs": [],
   "source": [
    "#os.chdir(\"desktop\")"
   ]
  },
  {
   "cell_type": "markdown",
   "id": "fe467bbc",
   "metadata": {},
   "source": [
    "Urban data"
   ]
  },
  {
   "cell_type": "code",
   "execution_count": 3,
   "id": "d8f04141",
   "metadata": {},
   "outputs": [],
   "source": [
    "urban=pd.read_csv(\"urban.csv\")"
   ]
  },
  {
   "cell_type": "code",
   "execution_count": 4,
   "id": "81bbc1bb",
   "metadata": {},
   "outputs": [
    {
     "data": {
      "text/html": [
       "<div>\n",
       "<style scoped>\n",
       "    .dataframe tbody tr th:only-of-type {\n",
       "        vertical-align: middle;\n",
       "    }\n",
       "\n",
       "    .dataframe tbody tr th {\n",
       "        vertical-align: top;\n",
       "    }\n",
       "\n",
       "    .dataframe thead th {\n",
       "        text-align: right;\n",
       "    }\n",
       "</style>\n",
       "<table border=\"1\" class=\"dataframe\">\n",
       "  <thead>\n",
       "    <tr style=\"text-align: right;\">\n",
       "      <th></th>\n",
       "      <th>Age</th>\n",
       "      <th>Gender</th>\n",
       "      <th>Marital Status</th>\n",
       "      <th>Number of Children</th>\n",
       "      <th>Occupation</th>\n",
       "      <th>Salary</th>\n",
       "      <th>Standard of Living</th>\n",
       "      <th>Party Membership</th>\n",
       "      <th>Rate of Voter Turnout</th>\n",
       "      <th>Most Important Issue</th>\n",
       "      <th>Engagement with Campaign</th>\n",
       "      <th>Votes for Democrat (Last 8 years)</th>\n",
       "      <th>Votes for Republican (Last 8 years)</th>\n",
       "      <th>Votes for Other Candidate (Last 8 years)</th>\n",
       "    </tr>\n",
       "  </thead>\n",
       "  <tbody>\n",
       "    <tr>\n",
       "      <th>0</th>\n",
       "      <td>81</td>\n",
       "      <td>Female</td>\n",
       "      <td>Widowed</td>\n",
       "      <td>4.0</td>\n",
       "      <td>Human Resources</td>\n",
       "      <td>47612.41</td>\n",
       "      <td>Medium</td>\n",
       "      <td>Democrat</td>\n",
       "      <td>High</td>\n",
       "      <td>National Security</td>\n",
       "      <td>High</td>\n",
       "      <td>7</td>\n",
       "      <td>1</td>\n",
       "      <td>1</td>\n",
       "    </tr>\n",
       "    <tr>\n",
       "      <th>1</th>\n",
       "      <td>54</td>\n",
       "      <td>Female</td>\n",
       "      <td>Widowed</td>\n",
       "      <td>NaN</td>\n",
       "      <td>Lawyer</td>\n",
       "      <td>25896.61</td>\n",
       "      <td>Low</td>\n",
       "      <td>Democrat</td>\n",
       "      <td>Low</td>\n",
       "      <td>Economy</td>\n",
       "      <td>Low</td>\n",
       "      <td>7</td>\n",
       "      <td>3</td>\n",
       "      <td>0</td>\n",
       "    </tr>\n",
       "    <tr>\n",
       "      <th>2</th>\n",
       "      <td>27</td>\n",
       "      <td>Male</td>\n",
       "      <td>Married</td>\n",
       "      <td>1.0</td>\n",
       "      <td>Artist</td>\n",
       "      <td>43106.86</td>\n",
       "      <td>Low</td>\n",
       "      <td>Republican</td>\n",
       "      <td>Medium</td>\n",
       "      <td>Economy</td>\n",
       "      <td>Low</td>\n",
       "      <td>3</td>\n",
       "      <td>5</td>\n",
       "      <td>1</td>\n",
       "    </tr>\n",
       "    <tr>\n",
       "      <th>3</th>\n",
       "      <td>42</td>\n",
       "      <td>Male</td>\n",
       "      <td>Divorced</td>\n",
       "      <td>5.0</td>\n",
       "      <td>Real Estate Agent</td>\n",
       "      <td>19210.61</td>\n",
       "      <td>Medium</td>\n",
       "      <td>Democrat</td>\n",
       "      <td>Low</td>\n",
       "      <td>Environment</td>\n",
       "      <td>Low</td>\n",
       "      <td>6</td>\n",
       "      <td>3</td>\n",
       "      <td>2</td>\n",
       "    </tr>\n",
       "    <tr>\n",
       "      <th>4</th>\n",
       "      <td>55</td>\n",
       "      <td>Female</td>\n",
       "      <td>Single</td>\n",
       "      <td>0.0</td>\n",
       "      <td>Retail Worker</td>\n",
       "      <td>41092.56</td>\n",
       "      <td>High</td>\n",
       "      <td>Democrat</td>\n",
       "      <td>High</td>\n",
       "      <td>Education</td>\n",
       "      <td>High</td>\n",
       "      <td>7</td>\n",
       "      <td>4</td>\n",
       "      <td>2</td>\n",
       "    </tr>\n",
       "  </tbody>\n",
       "</table>\n",
       "</div>"
      ],
      "text/plain": [
       "   Age  Gender Marital Status  Number of Children         Occupation  \\\n",
       "0   81  Female        Widowed                 4.0    Human Resources   \n",
       "1   54  Female        Widowed                 NaN             Lawyer   \n",
       "2   27    Male        Married                 1.0             Artist   \n",
       "3   42    Male       Divorced                 5.0  Real Estate Agent   \n",
       "4   55  Female         Single                 0.0      Retail Worker   \n",
       "\n",
       "     Salary Standard of Living Party Membership Rate of Voter Turnout  \\\n",
       "0  47612.41             Medium         Democrat                  High   \n",
       "1  25896.61                Low         Democrat                   Low   \n",
       "2  43106.86                Low       Republican                Medium   \n",
       "3  19210.61             Medium         Democrat                   Low   \n",
       "4  41092.56               High         Democrat                  High   \n",
       "\n",
       "  Most Important Issue Engagement with Campaign  \\\n",
       "0    National Security                     High   \n",
       "1              Economy                      Low   \n",
       "2              Economy                      Low   \n",
       "3          Environment                      Low   \n",
       "4            Education                     High   \n",
       "\n",
       "   Votes for Democrat (Last 8 years)  Votes for Republican (Last 8 years)  \\\n",
       "0                                  7                                    1   \n",
       "1                                  7                                    3   \n",
       "2                                  3                                    5   \n",
       "3                                  6                                    3   \n",
       "4                                  7                                    4   \n",
       "\n",
       "   Votes for Other Candidate (Last 8 years)  \n",
       "0                                         1  \n",
       "1                                         0  \n",
       "2                                         1  \n",
       "3                                         2  \n",
       "4                                         2  "
      ]
     },
     "execution_count": 4,
     "metadata": {},
     "output_type": "execute_result"
    }
   ],
   "source": [
    "urban.head()"
   ]
  },
  {
   "cell_type": "code",
   "execution_count": 5,
   "id": "3084f7bc",
   "metadata": {},
   "outputs": [
    {
     "name": "stdout",
     "output_type": "stream",
     "text": [
      "<class 'pandas.core.frame.DataFrame'>\n",
      "RangeIndex: 789865 entries, 0 to 789864\n",
      "Data columns (total 14 columns):\n",
      " #   Column                                    Non-Null Count   Dtype  \n",
      "---  ------                                    --------------   -----  \n",
      " 0   Age                                       789865 non-null  int64  \n",
      " 1   Gender                                    789865 non-null  object \n",
      " 2   Marital Status                            789865 non-null  object \n",
      " 3   Number of Children                        750376 non-null  float64\n",
      " 4   Occupation                                789865 non-null  object \n",
      " 5   Salary                                    789865 non-null  float64\n",
      " 6   Standard of Living                        789865 non-null  object \n",
      " 7   Party Membership                          789865 non-null  object \n",
      " 8   Rate of Voter Turnout                     789865 non-null  object \n",
      " 9   Most Important Issue                      789865 non-null  object \n",
      " 10  Engagement with Campaign                  789865 non-null  object \n",
      " 11  Votes for Democrat (Last 8 years)         789865 non-null  int64  \n",
      " 12  Votes for Republican (Last 8 years)       789865 non-null  int64  \n",
      " 13  Votes for Other Candidate (Last 8 years)  789865 non-null  int64  \n",
      "dtypes: float64(2), int64(4), object(8)\n",
      "memory usage: 84.4+ MB\n"
     ]
    }
   ],
   "source": [
    "urban.info()  #Checking missing values"
   ]
  },
  {
   "cell_type": "code",
   "execution_count": 6,
   "id": "b2c19dc2",
   "metadata": {},
   "outputs": [],
   "source": [
    "import matplotlib.pyplot as plt"
   ]
  },
  {
   "cell_type": "code",
   "execution_count": 7,
   "id": "dfbf0f3d",
   "metadata": {},
   "outputs": [
    {
     "data": {
      "text/plain": [
       "Text(0, 0.5, 'Frequencies')"
      ]
     },
     "execution_count": 7,
     "metadata": {},
     "output_type": "execute_result"
    },
    {
     "data": {
      "image/png": "[encoded data removed]",
      "text/plain": [
       "<Figure size 432x288 with 1 Axes>"
      ]
     },
     "metadata": {
      "needs_background": "light"
     },
     "output_type": "display_data"
    }
   ],
   "source": [
    "bins=np.arange(min(urban[\"Number of Children\"]), max(urban[\"Number of Children\"])+1)\n",
    "plt.hist(urban[\"Number of Children\"], bins=bins, edgecolor='black')   #Check distribution of data for the number of children.\n",
    "plt.xlabel(\"Number of Children\")\n",
    "plt.ylabel(\"Frequencies\")"
   ]
  },
  {
   "cell_type": "markdown",
   "id": "1ef74e3c",
   "metadata": {},
   "source": [
    "A bit of left skewness so the median will be used to fill in the number of children."
   ]
  },
  {
   "cell_type": "markdown",
   "id": "91bf13da",
   "metadata": {},
   "source": [
    "Converting categorical values to numbers."
   ]
  },
  {
   "cell_type": "code",
   "execution_count": 8,
   "id": "657aaf45",
   "metadata": {},
   "outputs": [],
   "source": [
    "median_num_child=np.nanmedian(urban[\"Number of Children\"])"
   ]
  },
  {
   "cell_type": "code",
   "execution_count": 9,
   "id": "b71e225b",
   "metadata": {},
   "outputs": [
    {
     "data": {
      "text/plain": [
       "2.0"
      ]
     },
     "execution_count": 9,
     "metadata": {},
     "output_type": "execute_result"
    }
   ],
   "source": [
    "median_num_child"
   ]
  },
  {
   "cell_type": "code",
   "execution_count": 10,
   "id": "adea011c",
   "metadata": {},
   "outputs": [],
   "source": [
    "urban[\"Number of Children\"]=urban[\"Number of Children\"].fillna(median_num_child)"
   ]
  },
  {
   "cell_type": "code",
   "execution_count": 11,
   "id": "f36447a4",
   "metadata": {},
   "outputs": [
    {
     "name": "stdout",
     "output_type": "stream",
     "text": [
      "<class 'pandas.core.frame.DataFrame'>\n",
      "RangeIndex: 789865 entries, 0 to 789864\n",
      "Data columns (total 14 columns):\n",
      " #   Column                                    Non-Null Count   Dtype  \n",
      "---  ------                                    --------------   -----  \n",
      " 0   Age                                       789865 non-null  int64  \n",
      " 1   Gender                                    789865 non-null  object \n",
      " 2   Marital Status                            789865 non-null  object \n",
      " 3   Number of Children                        789865 non-null  float64\n",
      " 4   Occupation                                789865 non-null  object \n",
      " 5   Salary                                    789865 non-null  float64\n",
      " 6   Standard of Living                        789865 non-null  object \n",
      " 7   Party Membership                          789865 non-null  object \n",
      " 8   Rate of Voter Turnout                     789865 non-null  object \n",
      " 9   Most Important Issue                      789865 non-null  object \n",
      " 10  Engagement with Campaign                  789865 non-null  object \n",
      " 11  Votes for Democrat (Last 8 years)         789865 non-null  int64  \n",
      " 12  Votes for Republican (Last 8 years)       789865 non-null  int64  \n",
      " 13  Votes for Other Candidate (Last 8 years)  789865 non-null  int64  \n",
      "dtypes: float64(2), int64(4), object(8)\n",
      "memory usage: 84.4+ MB\n"
     ]
    }
   ],
   "source": [
    "urban.info()"
   ]
  },
  {
   "cell_type": "code",
   "execution_count": 12,
   "id": "d5ca387c",
   "metadata": {},
   "outputs": [
    {
     "data": {
      "text/plain": [
       "array(['Female', 'Male', 'Other'], dtype=object)"
      ]
     },
     "execution_count": 12,
     "metadata": {},
     "output_type": "execute_result"
    }
   ],
   "source": [
    "urban[\"Gender\"].unique()"
   ]
  },
  {
   "cell_type": "code",
   "execution_count": 13,
   "id": "d6c3f562",
   "metadata": {},
   "outputs": [],
   "source": [
    "urban[\"Gender\"]=urban[\"Gender\"].map({'Female':0, 'Male':1, 'Other':2})"
   ]
  },
  {
   "cell_type": "code",
   "execution_count": 14,
   "id": "af9b110a",
   "metadata": {},
   "outputs": [
    {
     "data": {
      "text/plain": [
       "array(['Widowed', 'Married', 'Divorced', 'Single'], dtype=object)"
      ]
     },
     "execution_count": 14,
     "metadata": {},
     "output_type": "execute_result"
    }
   ],
   "source": [
    "urban[\"Marital Status\"].unique()"
   ]
  },
  {
   "cell_type": "code",
   "execution_count": 15,
   "id": "6e1ddf7e",
   "metadata": {},
   "outputs": [],
   "source": [
    "urban[\"Marital Status\"]=urban[\"Marital Status\"].map({'Married':0, 'Widowed':1, 'Single':2, 'Divorced':3})"
   ]
  },
  {
   "cell_type": "code",
   "execution_count": 16,
   "id": "8828053c",
   "metadata": {},
   "outputs": [
    {
     "data": {
      "text/plain": [
       "array(['Human Resources', 'Lawyer', 'Artist', 'Real Estate Agent',\n",
       "       'Retail Worker', 'Journalist', 'Doctor', 'Data Scientist',\n",
       "       'Healthcare Worker', 'Software Developer', 'Finance Advisor',\n",
       "       'Banker', 'Technician', 'IT Specialist', 'Chef', 'Scientist',\n",
       "       'Engineer', 'Teacher', 'Marketing Manager', 'Administrator'],\n",
       "      dtype=object)"
      ]
     },
     "execution_count": 16,
     "metadata": {},
     "output_type": "execute_result"
    }
   ],
   "source": [
    "urban[\"Occupation\"].unique()"
   ]
  },
  {
   "cell_type": "code",
   "execution_count": 17,
   "id": "ea0e940e",
   "metadata": {},
   "outputs": [],
   "source": [
    "urban[\"Occupation\"]=urban[\"Occupation\"].map({'Human Resources':0, 'Lawyer':1, 'Artist':2, 'Real Estate Agent':3,\n",
    "       'Retail Worker':4, 'Journalist':5, 'Doctor':6, 'Data Scientist':7,\n",
    "       'Healthcare Worker':8, 'Software Developer':9, 'Finance Advisor':10,\n",
    "       'Banker':11, 'Technician':12, 'IT Specialist':13, 'Chef':14, 'Scientist':15,\n",
    "       'Engineer':16, 'Teacher':17, 'Marketing Manager':18, 'Administrator':19})"
   ]
  },
  {
   "cell_type": "code",
   "execution_count": 18,
   "id": "aaa5eb2d",
   "metadata": {},
   "outputs": [
    {
     "data": {
      "text/plain": [
       "array(['Medium', 'Low', 'High'], dtype=object)"
      ]
     },
     "execution_count": 18,
     "metadata": {},
     "output_type": "execute_result"
    }
   ],
   "source": [
    "urban[\"Standard of Living\"].unique()"
   ]
  },
  {
   "cell_type": "code",
   "execution_count": 19,
   "id": "d62ba605",
   "metadata": {},
   "outputs": [],
   "source": [
    "urban[\"Standard of Living\"]=urban[\"Standard of Living\"].map({'Low':0, 'High':1, 'Medium':2})"
   ]
  },
  {
   "cell_type": "code",
   "execution_count": 20,
   "id": "0da55b1f",
   "metadata": {},
   "outputs": [
    {
     "data": {
      "text/plain": [
       "array(['Democrat', 'Republican'], dtype=object)"
      ]
     },
     "execution_count": 20,
     "metadata": {},
     "output_type": "execute_result"
    }
   ],
   "source": [
    "urban[\"Party Membership\"].unique()"
   ]
  },
  {
   "cell_type": "code",
   "execution_count": 21,
   "id": "6d3b6aed",
   "metadata": {},
   "outputs": [],
   "source": [
    "urban[\"Party Membership\"]=urban[\"Party Membership\"].map({\"Republican\":0, \"Democrat\":1 })"
   ]
  },
  {
   "cell_type": "code",
   "execution_count": 22,
   "id": "1a53a868",
   "metadata": {},
   "outputs": [
    {
     "data": {
      "text/plain": [
       "array(['High', 'Low', 'Medium'], dtype=object)"
      ]
     },
     "execution_count": 22,
     "metadata": {},
     "output_type": "execute_result"
    }
   ],
   "source": [
    "urban[\"Rate of Voter Turnout\"].unique()"
   ]
  },
  {
   "cell_type": "code",
   "execution_count": 23,
   "id": "d43a96e6",
   "metadata": {},
   "outputs": [],
   "source": [
    "urban[\"Rate of Voter Turnout\"]=urban[\"Rate of Voter Turnout\"].map({'Low':0, 'High':1, 'Medium':2})"
   ]
  },
  {
   "cell_type": "code",
   "execution_count": 24,
   "id": "c04e84ff",
   "metadata": {},
   "outputs": [
    {
     "data": {
      "text/plain": [
       "array(['National Security', 'Economy', 'Environment', 'Education',\n",
       "       'Healthcare'], dtype=object)"
      ]
     },
     "execution_count": 24,
     "metadata": {},
     "output_type": "execute_result"
    }
   ],
   "source": [
    "urban[\"Most Important Issue\"].unique()"
   ]
  },
  {
   "cell_type": "code",
   "execution_count": 25,
   "id": "434f765c",
   "metadata": {},
   "outputs": [],
   "source": [
    "urban[\"Most Important Issue\"]=urban[\"Most Important Issue\"].map({'National Security':0, 'Economy':1, 'Environment':2, 'Education':3,\n",
    "       'Healthcare':4})"
   ]
  },
  {
   "cell_type": "code",
   "execution_count": 26,
   "id": "8795f59f",
   "metadata": {},
   "outputs": [
    {
     "data": {
      "text/plain": [
       "array(['High', 'Low', 'Medium'], dtype=object)"
      ]
     },
     "execution_count": 26,
     "metadata": {},
     "output_type": "execute_result"
    }
   ],
   "source": [
    "urban[\"Engagement with Campaign\"].unique()"
   ]
  },
  {
   "cell_type": "code",
   "execution_count": 27,
   "id": "bc25d5cf",
   "metadata": {},
   "outputs": [],
   "source": [
    "urban[\"Engagement with Campaign\"]=urban[\"Engagement with Campaign\"].map({'Low':0, 'High':1, 'Medium':2})"
   ]
  },
  {
   "cell_type": "code",
   "execution_count": 28,
   "id": "7665c346",
   "metadata": {},
   "outputs": [
    {
     "data": {
      "text/html": [
       "<div>\n",
       "<style scoped>\n",
       "    .dataframe tbody tr th:only-of-type {\n",
       "        vertical-align: middle;\n",
       "    }\n",
       "\n",
       "    .dataframe tbody tr th {\n",
       "        vertical-align: top;\n",
       "    }\n",
       "\n",
       "    .dataframe thead th {\n",
       "        text-align: right;\n",
       "    }\n",
       "</style>\n",
       "<table border=\"1\" class=\"dataframe\">\n",
       "  <thead>\n",
       "    <tr style=\"text-align: right;\">\n",
       "      <th></th>\n",
       "      <th>Age</th>\n",
       "      <th>Gender</th>\n",
       "      <th>Marital Status</th>\n",
       "      <th>Number of Children</th>\n",
       "      <th>Occupation</th>\n",
       "      <th>Salary</th>\n",
       "      <th>Standard of Living</th>\n",
       "      <th>Party Membership</th>\n",
       "      <th>Rate of Voter Turnout</th>\n",
       "      <th>Most Important Issue</th>\n",
       "      <th>Engagement with Campaign</th>\n",
       "      <th>Votes for Democrat (Last 8 years)</th>\n",
       "      <th>Votes for Republican (Last 8 years)</th>\n",
       "      <th>Votes for Other Candidate (Last 8 years)</th>\n",
       "    </tr>\n",
       "  </thead>\n",
       "  <tbody>\n",
       "    <tr>\n",
       "      <th>0</th>\n",
       "      <td>81</td>\n",
       "      <td>0</td>\n",
       "      <td>1</td>\n",
       "      <td>4.0</td>\n",
       "      <td>0</td>\n",
       "      <td>47612.41</td>\n",
       "      <td>2</td>\n",
       "      <td>1</td>\n",
       "      <td>1</td>\n",
       "      <td>0</td>\n",
       "      <td>1</td>\n",
       "      <td>7</td>\n",
       "      <td>1</td>\n",
       "      <td>1</td>\n",
       "    </tr>\n",
       "    <tr>\n",
       "      <th>1</th>\n",
       "      <td>54</td>\n",
       "      <td>0</td>\n",
       "      <td>1</td>\n",
       "      <td>2.0</td>\n",
       "      <td>1</td>\n",
       "      <td>25896.61</td>\n",
       "      <td>0</td>\n",
       "      <td>1</td>\n",
       "      <td>0</td>\n",
       "      <td>1</td>\n",
       "      <td>0</td>\n",
       "      <td>7</td>\n",
       "      <td>3</td>\n",
       "      <td>0</td>\n",
       "    </tr>\n",
       "    <tr>\n",
       "      <th>2</th>\n",
       "      <td>27</td>\n",
       "      <td>1</td>\n",
       "      <td>0</td>\n",
       "      <td>1.0</td>\n",
       "      <td>2</td>\n",
       "      <td>43106.86</td>\n",
       "      <td>0</td>\n",
       "      <td>0</td>\n",
       "      <td>2</td>\n",
       "      <td>1</td>\n",
       "      <td>0</td>\n",
       "      <td>3</td>\n",
       "      <td>5</td>\n",
       "      <td>1</td>\n",
       "    </tr>\n",
       "    <tr>\n",
       "      <th>3</th>\n",
       "      <td>42</td>\n",
       "      <td>1</td>\n",
       "      <td>3</td>\n",
       "      <td>5.0</td>\n",
       "      <td>3</td>\n",
       "      <td>19210.61</td>\n",
       "      <td>2</td>\n",
       "      <td>1</td>\n",
       "      <td>0</td>\n",
       "      <td>2</td>\n",
       "      <td>0</td>\n",
       "      <td>6</td>\n",
       "      <td>3</td>\n",
       "      <td>2</td>\n",
       "    </tr>\n",
       "    <tr>\n",
       "      <th>4</th>\n",
       "      <td>55</td>\n",
       "      <td>0</td>\n",
       "      <td>2</td>\n",
       "      <td>0.0</td>\n",
       "      <td>4</td>\n",
       "      <td>41092.56</td>\n",
       "      <td>1</td>\n",
       "      <td>1</td>\n",
       "      <td>1</td>\n",
       "      <td>3</td>\n",
       "      <td>1</td>\n",
       "      <td>7</td>\n",
       "      <td>4</td>\n",
       "      <td>2</td>\n",
       "    </tr>\n",
       "  </tbody>\n",
       "</table>\n",
       "</div>"
      ],
      "text/plain": [
       "   Age  Gender  Marital Status  Number of Children  Occupation    Salary  \\\n",
       "0   81       0               1                 4.0           0  47612.41   \n",
       "1   54       0               1                 2.0           1  25896.61   \n",
       "2   27       1               0                 1.0           2  43106.86   \n",
       "3   42       1               3                 5.0           3  19210.61   \n",
       "4   55       0               2                 0.0           4  41092.56   \n",
       "\n",
       "   Standard of Living  Party Membership  Rate of Voter Turnout  \\\n",
       "0                   2                 1                      1   \n",
       "1                   0                 1                      0   \n",
       "2                   0                 0                      2   \n",
       "3                   2                 1                      0   \n",
       "4                   1                 1                      1   \n",
       "\n",
       "   Most Important Issue  Engagement with Campaign  \\\n",
       "0                     0                         1   \n",
       "1                     1                         0   \n",
       "2                     1                         0   \n",
       "3                     2                         0   \n",
       "4                     3                         1   \n",
       "\n",
       "   Votes for Democrat (Last 8 years)  Votes for Republican (Last 8 years)  \\\n",
       "0                                  7                                    1   \n",
       "1                                  7                                    3   \n",
       "2                                  3                                    5   \n",
       "3                                  6                                    3   \n",
       "4                                  7                                    4   \n",
       "\n",
       "   Votes for Other Candidate (Last 8 years)  \n",
       "0                                         1  \n",
       "1                                         0  \n",
       "2                                         1  \n",
       "3                                         2  \n",
       "4                                         2  "
      ]
     },
     "execution_count": 28,
     "metadata": {},
     "output_type": "execute_result"
    }
   ],
   "source": [
    "urban.head()"
   ]
  },
  {
   "cell_type": "code",
   "execution_count": 29,
   "id": "b1e06afa",
   "metadata": {},
   "outputs": [],
   "source": [
    "from sklearn.preprocessing import StandardScaler"
   ]
  },
  {
   "cell_type": "code",
   "execution_count": 30,
   "id": "d0d1330d",
   "metadata": {},
   "outputs": [],
   "source": [
    "scaler=StandardScaler()"
   ]
  },
  {
   "cell_type": "code",
   "execution_count": 31,
   "id": "16232785",
   "metadata": {},
   "outputs": [],
   "source": [
    "urban2=scaler.fit_transform(urban)"
   ]
  },
  {
   "cell_type": "code",
   "execution_count": 32,
   "id": "c151045e",
   "metadata": {},
   "outputs": [],
   "source": [
    "urban2=pd.DataFrame(urban2, columns=urban.columns)    #Standardize the data for clustering."
   ]
  },
  {
   "cell_type": "code",
   "execution_count": 33,
   "id": "5f37da38",
   "metadata": {},
   "outputs": [
    {
     "data": {
      "text/html": [
       "<div>\n",
       "<style scoped>\n",
       "    .dataframe tbody tr th:only-of-type {\n",
       "        vertical-align: middle;\n",
       "    }\n",
       "\n",
       "    .dataframe tbody tr th {\n",
       "        vertical-align: top;\n",
       "    }\n",
       "\n",
       "    .dataframe thead th {\n",
       "        text-align: right;\n",
       "    }\n",
       "</style>\n",
       "<table border=\"1\" class=\"dataframe\">\n",
       "  <thead>\n",
       "    <tr style=\"text-align: right;\">\n",
       "      <th></th>\n",
       "      <th>Age</th>\n",
       "      <th>Gender</th>\n",
       "      <th>Marital Status</th>\n",
       "      <th>Number of Children</th>\n",
       "      <th>Occupation</th>\n",
       "      <th>Salary</th>\n",
       "      <th>Standard of Living</th>\n",
       "      <th>Party Membership</th>\n",
       "      <th>Rate of Voter Turnout</th>\n",
       "      <th>Most Important Issue</th>\n",
       "      <th>Engagement with Campaign</th>\n",
       "      <th>Votes for Democrat (Last 8 years)</th>\n",
       "      <th>Votes for Republican (Last 8 years)</th>\n",
       "      <th>Votes for Other Candidate (Last 8 years)</th>\n",
       "    </tr>\n",
       "  </thead>\n",
       "  <tbody>\n",
       "    <tr>\n",
       "      <th>0</th>\n",
       "      <td>1.280930</td>\n",
       "      <td>-0.979386</td>\n",
       "      <td>-0.447482</td>\n",
       "      <td>0.915817</td>\n",
       "      <td>-1.646711</td>\n",
       "      <td>-0.137914</td>\n",
       "      <td>1.224335</td>\n",
       "      <td>0.664299</td>\n",
       "      <td>-0.139622</td>\n",
       "      <td>-1.413970</td>\n",
       "      <td>-0.233348</td>\n",
       "      <td>0.955903</td>\n",
       "      <td>-0.956373</td>\n",
       "      <td>0.000539</td>\n",
       "    </tr>\n",
       "    <tr>\n",
       "      <th>1</th>\n",
       "      <td>-0.000449</td>\n",
       "      <td>-0.979386</td>\n",
       "      <td>-0.447482</td>\n",
       "      <td>-0.282506</td>\n",
       "      <td>-1.473296</td>\n",
       "      <td>-0.580006</td>\n",
       "      <td>-1.226513</td>\n",
       "      <td>0.664299</td>\n",
       "      <td>-1.816719</td>\n",
       "      <td>-0.707750</td>\n",
       "      <td>-2.019385</td>\n",
       "      <td>0.955903</td>\n",
       "      <td>-0.096058</td>\n",
       "      <td>-1.223574</td>\n",
       "    </tr>\n",
       "    <tr>\n",
       "      <th>2</th>\n",
       "      <td>-1.281828</td>\n",
       "      <td>0.724124</td>\n",
       "      <td>-1.341690</td>\n",
       "      <td>-0.881667</td>\n",
       "      <td>-1.299882</td>\n",
       "      <td>-0.229638</td>\n",
       "      <td>-1.226513</td>\n",
       "      <td>-1.505345</td>\n",
       "      <td>1.537475</td>\n",
       "      <td>-0.707750</td>\n",
       "      <td>-2.019385</td>\n",
       "      <td>-0.765389</td>\n",
       "      <td>0.764257</td>\n",
       "      <td>0.000539</td>\n",
       "    </tr>\n",
       "    <tr>\n",
       "      <th>3</th>\n",
       "      <td>-0.569951</td>\n",
       "      <td>0.724124</td>\n",
       "      <td>1.340935</td>\n",
       "      <td>1.514979</td>\n",
       "      <td>-1.126467</td>\n",
       "      <td>-0.716120</td>\n",
       "      <td>1.224335</td>\n",
       "      <td>0.664299</td>\n",
       "      <td>-1.816719</td>\n",
       "      <td>-0.001529</td>\n",
       "      <td>-2.019385</td>\n",
       "      <td>0.525580</td>\n",
       "      <td>-0.096058</td>\n",
       "      <td>1.224653</td>\n",
       "    </tr>\n",
       "    <tr>\n",
       "      <th>4</th>\n",
       "      <td>0.047009</td>\n",
       "      <td>-0.979386</td>\n",
       "      <td>0.446727</td>\n",
       "      <td>-1.480829</td>\n",
       "      <td>-0.953052</td>\n",
       "      <td>-0.270645</td>\n",
       "      <td>-0.001089</td>\n",
       "      <td>0.664299</td>\n",
       "      <td>-0.139622</td>\n",
       "      <td>0.704692</td>\n",
       "      <td>-0.233348</td>\n",
       "      <td>0.955903</td>\n",
       "      <td>0.334099</td>\n",
       "      <td>1.224653</td>\n",
       "    </tr>\n",
       "  </tbody>\n",
       "</table>\n",
       "</div>"
      ],
      "text/plain": [
       "        Age    Gender  Marital Status  Number of Children  Occupation  \\\n",
       "0  1.280930 -0.979386       -0.447482            0.915817   -1.646711   \n",
       "1 -0.000449 -0.979386       -0.447482           -0.282506   -1.473296   \n",
       "2 -1.281828  0.724124       -1.341690           -0.881667   -1.299882   \n",
       "3 -0.569951  0.724124        1.340935            1.514979   -1.126467   \n",
       "4  0.047009 -0.979386        0.446727           -1.480829   -0.953052   \n",
       "\n",
       "     Salary  Standard of Living  Party Membership  Rate of Voter Turnout  \\\n",
       "0 -0.137914            1.224335          0.664299              -0.139622   \n",
       "1 -0.580006           -1.226513          0.664299              -1.816719   \n",
       "2 -0.229638           -1.226513         -1.505345               1.537475   \n",
       "3 -0.716120            1.224335          0.664299              -1.816719   \n",
       "4 -0.270645           -0.001089          0.664299              -0.139622   \n",
       "\n",
       "   Most Important Issue  Engagement with Campaign  \\\n",
       "0             -1.413970                 -0.233348   \n",
       "1             -0.707750                 -2.019385   \n",
       "2             -0.707750                 -2.019385   \n",
       "3             -0.001529                 -2.019385   \n",
       "4              0.704692                 -0.233348   \n",
       "\n",
       "   Votes for Democrat (Last 8 years)  Votes for Republican (Last 8 years)  \\\n",
       "0                           0.955903                            -0.956373   \n",
       "1                           0.955903                            -0.096058   \n",
       "2                          -0.765389                             0.764257   \n",
       "3                           0.525580                            -0.096058   \n",
       "4                           0.955903                             0.334099   \n",
       "\n",
       "   Votes for Other Candidate (Last 8 years)  \n",
       "0                                  0.000539  \n",
       "1                                 -1.223574  \n",
       "2                                  0.000539  \n",
       "3                                  1.224653  \n",
       "4                                  1.224653  "
      ]
     },
     "execution_count": 33,
     "metadata": {},
     "output_type": "execute_result"
    }
   ],
   "source": [
    "urban2.head()"
   ]
  },
  {
   "cell_type": "code",
   "execution_count": 34,
   "id": "7092f588",
   "metadata": {},
   "outputs": [
    {
     "data": {
      "text/html": [
       "<style>#sk-container-id-1 {\n",
       "  /* Definition of color scheme common for light and dark mode */\n",
       "  --sklearn-color-text: black;\n",
       "  --sklearn-color-line: gray;\n",
       "  /* Definition of color scheme for unfitted estimators */\n",
       "  --sklearn-color-unfitted-level-0: #fff5e6;\n",
       "  --sklearn-color-unfitted-level-1: #f6e4d2;\n",
       "  --sklearn-color-unfitted-level-2: #ffe0b3;\n",
       "  --sklearn-color-unfitted-level-3: chocolate;\n",
       "  /* Definition of color scheme for fitted estimators */\n",
       "  --sklearn-color-fitted-level-0: #f0f8ff;\n",
       "  --sklearn-color-fitted-level-1: #d4ebff;\n",
       "  --sklearn-color-fitted-level-2: #b3dbfd;\n",
       "  --sklearn-color-fitted-level-3: cornflowerblue;\n",
       "\n",
       "  /* Specific color for light theme */\n",
       "  --sklearn-color-text-on-default-background: var(--sg-text-color, var(--theme-code-foreground, var(--jp-content-font-color1, black)));\n",
       "  --sklearn-color-background: var(--sg-background-color, var(--theme-background, var(--jp-layout-color0, white)));\n",
       "  --sklearn-color-border-box: var(--sg-text-color, var(--theme-code-foreground, var(--jp-content-font-color1, black)));\n",
       "  --sklearn-color-icon: #696969;\n",
       "\n",
       "  @media (prefers-color-scheme: dark) {\n",
       "    /* Redefinition of color scheme for dark theme */\n",
       "    --sklearn-color-text-on-default-background: var(--sg-text-color, var(--theme-code-foreground, var(--jp-content-font-color1, white)));\n",
       "    --sklearn-color-background: var(--sg-background-color, var(--theme-background, var(--jp-layout-color0, #111)));\n",
       "    --sklearn-color-border-box: var(--sg-text-color, var(--theme-code-foreground, var(--jp-content-font-color1, white)));\n",
       "    --sklearn-color-icon: #878787;\n",
       "  }\n",
       "}\n",
       "\n",
       "#sk-container-id-1 {\n",
       "  color: var(--sklearn-color-text);\n",
       "}\n",
       "\n",
       "#sk-container-id-1 pre {\n",
       "  padding: 0;\n",
       "}\n",
       "\n",
       "#sk-container-id-1 input.sk-hidden--visually {\n",
       "  border: 0;\n",
       "  clip: rect(1px 1px 1px 1px);\n",
       "  clip: rect(1px, 1px, 1px, 1px);\n",
       "  height: 1px;\n",
       "  margin: -1px;\n",
       "  overflow: hidden;\n",
       "  padding: 0;\n",
       "  position: absolute;\n",
       "  width: 1px;\n",
       "}\n",
       "\n",
       "#sk-container-id-1 div.sk-dashed-wrapped {\n",
       "  border: 1px dashed var(--sklearn-color-line);\n",
       "  margin: 0 0.4em 0.5em 0.4em;\n",
       "  box-sizing: border-box;\n",
       "  padding-bottom: 0.4em;\n",
       "  background-color: var(--sklearn-color-background);\n",
       "}\n",
       "\n",
       "#sk-container-id-1 div.sk-container {\n",
       "  /* jupyter's `normalize.less` sets `[hidden] { display: none; }`\n",
       "     but bootstrap.min.css set `[hidden] { display: none !important; }`\n",
       "     so we also need the `!important` here to be able to override the\n",
       "     default hidden behavior on the sphinx rendered scikit-learn.org.\n",
       "     See: https://github.com/scikit-learn/scikit-learn/issues/21755 */\n",
       "  display: inline-block !important;\n",
       "  position: relative;\n",
       "}\n",
       "\n",
       "#sk-container-id-1 div.sk-text-repr-fallback {\n",
       "  display: none;\n",
       "}\n",
       "\n",
       "div.sk-parallel-item,\n",
       "div.sk-serial,\n",
       "div.sk-item {\n",
       "  /* draw centered vertical line to link estimators */\n",
       "  background-image: linear-gradient(var(--sklearn-color-text-on-default-background), var(--sklearn-color-text-on-default-background));\n",
       "  background-size: 2px 100%;\n",
       "  background-repeat: no-repeat;\n",
       "  background-position: center center;\n",
       "}\n",
       "\n",
       "/* Parallel-specific style estimator block */\n",
       "\n",
       "#sk-container-id-1 div.sk-parallel-item::after {\n",
       "  content: \"\";\n",
       "  width: 100%;\n",
       "  border-bottom: 2px solid var(--sklearn-color-text-on-default-background);\n",
       "  flex-grow: 1;\n",
       "}\n",
       "\n",
       "#sk-container-id-1 div.sk-parallel {\n",
       "  display: flex;\n",
       "  align-items: stretch;\n",
       "  justify-content: center;\n",
       "  background-color: var(--sklearn-color-background);\n",
       "  position: relative;\n",
       "}\n",
       "\n",
       "#sk-container-id-1 div.sk-parallel-item {\n",
       "  display: flex;\n",
       "  flex-direction: column;\n",
       "}\n",
       "\n",
       "#sk-container-id-1 div.sk-parallel-item:first-child::after {\n",
       "  align-self: flex-end;\n",
       "  width: 50%;\n",
       "}\n",
       "\n",
       "#sk-container-id-1 div.sk-parallel-item:last-child::after {\n",
       "  align-self: flex-start;\n",
       "  width: 50%;\n",
       "}\n",
       "\n",
       "#sk-container-id-1 div.sk-parallel-item:only-child::after {\n",
       "  width: 0;\n",
       "}\n",
       "\n",
       "/* Serial-specific style estimator block */\n",
       "\n",
       "#sk-container-id-1 div.sk-serial {\n",
       "  display: flex;\n",
       "  flex-direction: column;\n",
       "  align-items: center;\n",
       "  background-color: var(--sklearn-color-background);\n",
       "  padding-right: 1em;\n",
       "  padding-left: 1em;\n",
       "}\n",
       "\n",
       "\n",
       "/* Toggleable style: style used for estimator/Pipeline/ColumnTransformer box that is\n",
       "clickable and can be expanded/collapsed.\n",
       "- Pipeline and ColumnTransformer use this feature and define the default style\n",
       "- Estimators will overwrite some part of the style using the `sk-estimator` class\n",
       "*/\n",
       "\n",
       "/* Pipeline and ColumnTransformer style (default) */\n",
       "\n",
       "#sk-container-id-1 div.sk-toggleable {\n",
       "  /* Default theme specific background. It is overwritten whether we have a\n",
       "  specific estimator or a Pipeline/ColumnTransformer */\n",
       "  background-color: var(--sklearn-color-background);\n",
       "}\n",
       "\n",
       "/* Toggleable label */\n",
       "#sk-container-id-1 label.sk-toggleable__label {\n",
       "  cursor: pointer;\n",
       "  display: block;\n",
       "  width: 100%;\n",
       "  margin-bottom: 0;\n",
       "  padding: 0.5em;\n",
       "  box-sizing: border-box;\n",
       "  text-align: center;\n",
       "}\n",
       "\n",
       "#sk-container-id-1 label.sk-toggleable__label-arrow:before {\n",
       "  /* Arrow on the left of the label */\n",
       "  content: \"▸\";\n",
       "  float: left;\n",
       "  margin-right: 0.25em;\n",
       "  color: var(--sklearn-color-icon);\n",
       "}\n",
       "\n",
       "#sk-container-id-1 label.sk-toggleable__label-arrow:hover:before {\n",
       "  color: var(--sklearn-color-text);\n",
       "}\n",
       "\n",
       "/* Toggleable content - dropdown */\n",
       "\n",
       "#sk-container-id-1 div.sk-toggleable__content {\n",
       "  max-height: 0;\n",
       "  max-width: 0;\n",
       "  overflow: hidden;\n",
       "  text-align: left;\n",
       "  /* unfitted */\n",
       "  background-color: var(--sklearn-color-unfitted-level-0);\n",
       "}\n",
       "\n",
       "#sk-container-id-1 div.sk-toggleable__content.fitted {\n",
       "  /* fitted */\n",
       "  background-color: var(--sklearn-color-fitted-level-0);\n",
       "}\n",
       "\n",
       "#sk-container-id-1 div.sk-toggleable__content pre {\n",
       "  margin: 0.2em;\n",
       "  border-radius: 0.25em;\n",
       "  color: var(--sklearn-color-text);\n",
       "  /* unfitted */\n",
       "  background-color: var(--sklearn-color-unfitted-level-0);\n",
       "}\n",
       "\n",
       "#sk-container-id-1 div.sk-toggleable__content.fitted pre {\n",
       "  /* unfitted */\n",
       "  background-color: var(--sklearn-color-fitted-level-0);\n",
       "}\n",
       "\n",
       "#sk-container-id-1 input.sk-toggleable__control:checked~div.sk-toggleable__content {\n",
       "  /* Expand drop-down */\n",
       "  max-height: 200px;\n",
       "  max-width: 100%;\n",
       "  overflow: auto;\n",
       "}\n",
       "\n",
       "#sk-container-id-1 input.sk-toggleable__control:checked~label.sk-toggleable__label-arrow:before {\n",
       "  content: \"▾\";\n",
       "}\n",
       "\n",
       "/* Pipeline/ColumnTransformer-specific style */\n",
       "\n",
       "#sk-container-id-1 div.sk-label input.sk-toggleable__control:checked~label.sk-toggleable__label {\n",
       "  color: var(--sklearn-color-text);\n",
       "  background-color: var(--sklearn-color-unfitted-level-2);\n",
       "}\n",
       "\n",
       "#sk-container-id-1 div.sk-label.fitted input.sk-toggleable__control:checked~label.sk-toggleable__label {\n",
       "  background-color: var(--sklearn-color-fitted-level-2);\n",
       "}\n",
       "\n",
       "/* Estimator-specific style */\n",
       "\n",
       "/* Colorize estimator box */\n",
       "#sk-container-id-1 div.sk-estimator input.sk-toggleable__control:checked~label.sk-toggleable__label {\n",
       "  /* unfitted */\n",
       "  background-color: var(--sklearn-color-unfitted-level-2);\n",
       "}\n",
       "\n",
       "#sk-container-id-1 div.sk-estimator.fitted input.sk-toggleable__control:checked~label.sk-toggleable__label {\n",
       "  /* fitted */\n",
       "  background-color: var(--sklearn-color-fitted-level-2);\n",
       "}\n",
       "\n",
       "#sk-container-id-1 div.sk-label label.sk-toggleable__label,\n",
       "#sk-container-id-1 div.sk-label label {\n",
       "  /* The background is the default theme color */\n",
       "  color: var(--sklearn-color-text-on-default-background);\n",
       "}\n",
       "\n",
       "/* On hover, darken the color of the background */\n",
       "#sk-container-id-1 div.sk-label:hover label.sk-toggleable__label {\n",
       "  color: var(--sklearn-color-text);\n",
       "  background-color: var(--sklearn-color-unfitted-level-2);\n",
       "}\n",
       "\n",
       "/* Label box, darken color on hover, fitted */\n",
       "#sk-container-id-1 div.sk-label.fitted:hover label.sk-toggleable__label.fitted {\n",
       "  color: var(--sklearn-color-text);\n",
       "  background-color: var(--sklearn-color-fitted-level-2);\n",
       "}\n",
       "\n",
       "/* Estimator label */\n",
       "\n",
       "#sk-container-id-1 div.sk-label label {\n",
       "  font-family: monospace;\n",
       "  font-weight: bold;\n",
       "  display: inline-block;\n",
       "  line-height: 1.2em;\n",
       "}\n",
       "\n",
       "#sk-container-id-1 div.sk-label-container {\n",
       "  text-align: center;\n",
       "}\n",
       "\n",
       "/* Estimator-specific */\n",
       "#sk-container-id-1 div.sk-estimator {\n",
       "  font-family: monospace;\n",
       "  border: 1px dotted var(--sklearn-color-border-box);\n",
       "  border-radius: 0.25em;\n",
       "  box-sizing: border-box;\n",
       "  margin-bottom: 0.5em;\n",
       "  /* unfitted */\n",
       "  background-color: var(--sklearn-color-unfitted-level-0);\n",
       "}\n",
       "\n",
       "#sk-container-id-1 div.sk-estimator.fitted {\n",
       "  /* fitted */\n",
       "  background-color: var(--sklearn-color-fitted-level-0);\n",
       "}\n",
       "\n",
       "/* on hover */\n",
       "#sk-container-id-1 div.sk-estimator:hover {\n",
       "  /* unfitted */\n",
       "  background-color: var(--sklearn-color-unfitted-level-2);\n",
       "}\n",
       "\n",
       "#sk-container-id-1 div.sk-estimator.fitted:hover {\n",
       "  /* fitted */\n",
       "  background-color: var(--sklearn-color-fitted-level-2);\n",
       "}\n",
       "\n",
       "/* Specification for estimator info (e.g. \"i\" and \"?\") */\n",
       "\n",
       "/* Common style for \"i\" and \"?\" */\n",
       "\n",
       ".sk-estimator-doc-link,\n",
       "a:link.sk-estimator-doc-link,\n",
       "a:visited.sk-estimator-doc-link {\n",
       "  float: right;\n",
       "  font-size: smaller;\n",
       "  line-height: 1em;\n",
       "  font-family: monospace;\n",
       "  background-color: var(--sklearn-color-background);\n",
       "  border-radius: 1em;\n",
       "  height: 1em;\n",
       "  width: 1em;\n",
       "  text-decoration: none !important;\n",
       "  margin-left: 1ex;\n",
       "  /* unfitted */\n",
       "  border: var(--sklearn-color-unfitted-level-1) 1pt solid;\n",
       "  color: var(--sklearn-color-unfitted-level-1);\n",
       "}\n",
       "\n",
       ".sk-estimator-doc-link.fitted,\n",
       "a:link.sk-estimator-doc-link.fitted,\n",
       "a:visited.sk-estimator-doc-link.fitted {\n",
       "  /* fitted */\n",
       "  border: var(--sklearn-color-fitted-level-1) 1pt solid;\n",
       "  color: var(--sklearn-color-fitted-level-1);\n",
       "}\n",
       "\n",
       "/* On hover */\n",
       "div.sk-estimator:hover .sk-estimator-doc-link:hover,\n",
       ".sk-estimator-doc-link:hover,\n",
       "div.sk-label-container:hover .sk-estimator-doc-link:hover,\n",
       ".sk-estimator-doc-link:hover {\n",
       "  /* unfitted */\n",
       "  background-color: var(--sklearn-color-unfitted-level-3);\n",
       "  color: var(--sklearn-color-background);\n",
       "  text-decoration: none;\n",
       "}\n",
       "\n",
       "div.sk-estimator.fitted:hover .sk-estimator-doc-link.fitted:hover,\n",
       ".sk-estimator-doc-link.fitted:hover,\n",
       "div.sk-label-container:hover .sk-estimator-doc-link.fitted:hover,\n",
       ".sk-estimator-doc-link.fitted:hover {\n",
       "  /* fitted */\n",
       "  background-color: var(--sklearn-color-fitted-level-3);\n",
       "  color: var(--sklearn-color-background);\n",
       "  text-decoration: none;\n",
       "}\n",
       "\n",
       "/* Span, style for the box shown on hovering the info icon */\n",
       ".sk-estimator-doc-link span {\n",
       "  display: none;\n",
       "  z-index: 9999;\n",
       "  position: relative;\n",
       "  font-weight: normal;\n",
       "  right: .2ex;\n",
       "  padding: .5ex;\n",
       "  margin: .5ex;\n",
       "  width: min-content;\n",
       "  min-width: 20ex;\n",
       "  max-width: 50ex;\n",
       "  color: var(--sklearn-color-text);\n",
       "  box-shadow: 2pt 2pt 4pt #999;\n",
       "  /* unfitted */\n",
       "  background: var(--sklearn-color-unfitted-level-0);\n",
       "  border: .5pt solid var(--sklearn-color-unfitted-level-3);\n",
       "}\n",
       "\n",
       ".sk-estimator-doc-link.fitted span {\n",
       "  /* fitted */\n",
       "  background: var(--sklearn-color-fitted-level-0);\n",
       "  border: var(--sklearn-color-fitted-level-3);\n",
       "}\n",
       "\n",
       ".sk-estimator-doc-link:hover span {\n",
       "  display: block;\n",
       "}\n",
       "\n",
       "/* \"?\"-specific style due to the `<a>` HTML tag */\n",
       "\n",
       "#sk-container-id-1 a.estimator_doc_link {\n",
       "  float: right;\n",
       "  font-size: 1rem;\n",
       "  line-height: 1em;\n",
       "  font-family: monospace;\n",
       "  background-color: var(--sklearn-color-background);\n",
       "  border-radius: 1rem;\n",
       "  height: 1rem;\n",
       "  width: 1rem;\n",
       "  text-decoration: none;\n",
       "  /* unfitted */\n",
       "  color: var(--sklearn-color-unfitted-level-1);\n",
       "  border: var(--sklearn-color-unfitted-level-1) 1pt solid;\n",
       "}\n",
       "\n",
       "#sk-container-id-1 a.estimator_doc_link.fitted {\n",
       "  /* fitted */\n",
       "  border: var(--sklearn-color-fitted-level-1) 1pt solid;\n",
       "  color: var(--sklearn-color-fitted-level-1);\n",
       "}\n",
       "\n",
       "/* On hover */\n",
       "#sk-container-id-1 a.estimator_doc_link:hover {\n",
       "  /* unfitted */\n",
       "  background-color: var(--sklearn-color-unfitted-level-3);\n",
       "  color: var(--sklearn-color-background);\n",
       "  text-decoration: none;\n",
       "}\n",
       "\n",
       "#sk-container-id-1 a.estimator_doc_link.fitted:hover {\n",
       "  /* fitted */\n",
       "  background-color: var(--sklearn-color-fitted-level-3);\n",
       "}\n",
       "</style><div id=\"sk-container-id-1\" class=\"sk-top-container\"><div class=\"sk-text-repr-fallback\"><pre>PCA()</pre><b>In a Jupyter environment, please rerun this cell to show the HTML representation or trust the notebook. <br />On GitHub, the HTML representation is unable to render, please try loading this page with nbviewer.org.</b></div><div class=\"sk-container\" hidden><div class=\"sk-item\"><div class=\"sk-estimator fitted sk-toggleable\"><input class=\"sk-toggleable__control sk-hidden--visually\" id=\"sk-estimator-id-1\" type=\"checkbox\" checked><label for=\"sk-estimator-id-1\" class=\"sk-toggleable__label fitted sk-toggleable__label-arrow fitted\">&nbsp;&nbsp;PCA<a class=\"sk-estimator-doc-link fitted\" rel=\"noreferrer\" target=\"_blank\" href=\"https://scikit-learn.org/1.5/modules/generated/sklearn.decomposition.PCA.html\">?<span>Documentation for PCA</span></a><span class=\"sk-estimator-doc-link fitted\">i<span>Fitted</span></span></label><div class=\"sk-toggleable__content fitted\"><pre>PCA()</pre></div> </div></div></div></div>"
      ],
      "text/plain": [
       "PCA()"
      ]
     },
     "execution_count": 34,
     "metadata": {},
     "output_type": "execute_result"
    }
   ],
   "source": [
    "from sklearn.decomposition import PCA\n",
    "\n",
    "pca = PCA()\n",
    "pca.fit(urban2)"
   ]
  },
  {
   "cell_type": "code",
   "execution_count": 35,
   "id": "41bc3c76",
   "metadata": {},
   "outputs": [
    {
     "data": {
      "text/plain": [
       "Text(0.5, 1.0, 'Num of Components vs Variance Explained (Urban)')"
      ]
     },
     "execution_count": 35,
     "metadata": {},
     "output_type": "execute_result"
    },
    {
     "data": {
      "image/png": "[encoded data removed]",
      "text/plain": [
       "<Figure size 432x288 with 1 Axes>"
      ]
     },
     "metadata": {
      "needs_background": "light"
     },
     "output_type": "display_data"
    }
   ],
   "source": [
    "plt.plot(np.cumsum(pca.explained_variance_ratio_))  #Plot number of components vs variance explained ratio\n",
    "plt.xlabel(\"Number of Components\")\n",
    "plt.ylabel(\"Explained Variance\")\n",
    "plt.title(\"Num of Components vs Variance Explained (Urban)\")"
   ]
  },
  {
   "cell_type": "markdown",
   "id": "3b45bcf1",
   "metadata": {},
   "source": [
    "Seems like around 90%-95% is around 10 components so 10 components will be used for n_components for pca."
   ]
  },
  {
   "cell_type": "code",
   "execution_count": 36,
   "id": "81bb7b78",
   "metadata": {},
   "outputs": [],
   "source": [
    "pca=PCA(n_components=10)   #Fitting n_components for PCA as 10\n",
    "pca_x=pca.fit_transform(urban2)"
   ]
  },
  {
   "cell_type": "code",
   "execution_count": 37,
   "id": "c33a1d94",
   "metadata": {},
   "outputs": [],
   "source": [
    "components = pca.components_"
   ]
  },
  {
   "cell_type": "code",
   "execution_count": 38,
   "id": "d7c0c2b3",
   "metadata": {},
   "outputs": [
    {
     "name": "stdout",
     "output_type": "stream",
     "text": [
      "[[-1.43907535e-03 -1.06185355e-03  6.39848870e-04  9.37231396e-05\n",
      "  -1.67551492e-02  1.51965680e-03  1.06686425e-03  6.02091711e-01\n",
      "  -1.87491301e-02 -6.09806093e-04 -8.43329373e-02  5.61158112e-01\n",
      "  -5.61100982e-01  1.04303800e-03]\n",
      " [ 1.47279789e-02  1.30095510e-02  2.77632280e-03 -3.02587703e-03\n",
      "  -7.14154546e-03 -8.77349146e-04  6.37844502e-04  3.74307970e-02\n",
      "   7.15309005e-01 -1.10726679e-03  6.94653108e-01  4.48628761e-02\n",
      "  -4.31067878e-02  7.85610975e-03]\n",
      " [-4.03302252e-01 -1.96919246e-01  3.44740294e-01 -6.90967050e-02\n",
      "   2.42774552e-01 -3.71193609e-01  2.58738706e-01  1.34659689e-03\n",
      "   5.87507113e-03  4.54384892e-01  1.54154116e-03  2.43190378e-03\n",
      "  -2.17783242e-03  4.52509656e-01]\n",
      " [ 3.02712944e-01 -3.56728702e-01  1.18491873e-01  4.21439939e-01\n",
      "  -1.78786893e-01  4.31254578e-01  1.29203683e-01 -1.35482081e-03\n",
      "   6.41615473e-03  5.83152853e-01 -3.71177868e-03 -2.38521670e-03\n",
      "   2.50187692e-03 -1.21172300e-01]\n",
      " [-3.43234000e-01  4.35688825e-01  3.62190860e-01  5.21251521e-01\n",
      "  -1.47738892e-02 -1.05623838e-01 -4.49498319e-01  2.05823740e-04\n",
      "   1.00751349e-03  1.15543308e-01  1.97886501e-03  1.64784013e-03\n",
      "   8.03053132e-04 -2.50396306e-01]\n",
      " [-2.03739620e-01  1.36096005e-02 -5.85655695e-01  2.70468266e-01\n",
      "   6.44143495e-01  2.67397404e-01 -1.37583083e-01  4.95151799e-03\n",
      "   2.75203595e-03  1.01615426e-01  8.95816882e-03  7.92603383e-03\n",
      "  -6.90565904e-03  1.62047548e-01]\n",
      " [ 3.12232546e-01  5.39085783e-01  7.65019368e-02  2.79827522e-01\n",
      "   2.36543862e-01 -8.75827411e-02  6.77484707e-01  1.20476032e-03\n",
      "  -2.67450493e-03 -6.73146479e-02 -1.15698915e-02  2.13341489e-03\n",
      "  -2.41101163e-03 -2.11662669e-02]\n",
      " [-3.85928719e-01  3.29099141e-01  1.49486331e-01 -4.85883584e-01\n",
      "   1.62196361e-02  6.10832479e-01  1.86139136e-01  2.94789965e-04\n",
      "   5.45348553e-03  1.93382546e-01 -2.89694609e-03 -8.30913767e-04\n",
      "   1.14213370e-03 -1.97128291e-01]\n",
      " [ 2.42715396e-01  3.54914115e-01  8.11552286e-02  3.55747742e-04\n",
      "  -2.26958022e-01  2.73791459e-01 -2.62478859e-01 -3.91781859e-03\n",
      "  -6.24188205e-03  2.30005504e-02 -1.56819078e-02 -2.65662950e-03\n",
      "   2.95238164e-03  7.82513271e-01]\n",
      " [ 3.78165846e-01 -1.59390474e-01  5.51409191e-01 -1.62744266e-01\n",
      "   6.14657178e-01  1.57185392e-01 -2.55766601e-01  5.44331619e-03\n",
      "  -1.56890656e-03 -1.71653945e-01 -2.59064630e-04  5.54043968e-03\n",
      "  -6.93241668e-03 -5.95335099e-02]]\n"
     ]
    }
   ],
   "source": [
    "print(components)"
   ]
  },
  {
   "cell_type": "code",
   "execution_count": 39,
   "id": "0f592add",
   "metadata": {},
   "outputs": [],
   "source": [
    "feature_names = [\"Age\", \"Gender\", \"Marital Status\", \"Number of Children\", \"Occupation\", \"Salary\", \"Standard of Living\", \"Party Membership\", \"Rate of Voter Turnout\", \"Most Important Issue\", \"Engagement with Campaign\", \"Votes for Democrat (Last 8 years)\", \"Votes for Republican (Last 8 years)\", \"Votes for Other Candidate (Last 8 years)\"]  \n",
    "components_df = pd.DataFrame(components, columns=feature_names, index=[f'PC{i+1}' for i in range(components.shape[0])])"
   ]
  },
  {
   "cell_type": "code",
   "execution_count": 40,
   "id": "10c2e3f2",
   "metadata": {},
   "outputs": [
    {
     "name": "stdout",
     "output_type": "stream",
     "text": [
      "           Age    Gender  Marital Status  Number of Children  Occupation  \\\n",
      "PC1  -0.001439 -0.001062        0.000640            0.000094   -0.016755   \n",
      "PC2   0.014728  0.013010        0.002776           -0.003026   -0.007142   \n",
      "PC3  -0.403302 -0.196919        0.344740           -0.069097    0.242775   \n",
      "PC4   0.302713 -0.356729        0.118492            0.421440   -0.178787   \n",
      "PC5  -0.343234  0.435689        0.362191            0.521252   -0.014774   \n",
      "PC6  -0.203740  0.013610       -0.585656            0.270468    0.644143   \n",
      "PC7   0.312233  0.539086        0.076502            0.279828    0.236544   \n",
      "PC8  -0.385929  0.329099        0.149486           -0.485884    0.016220   \n",
      "PC9   0.242715  0.354914        0.081155            0.000356   -0.226958   \n",
      "PC10  0.378166 -0.159390        0.551409           -0.162744    0.614657   \n",
      "\n",
      "        Salary  Standard of Living  Party Membership  Rate of Voter Turnout  \\\n",
      "PC1   0.001520            0.001067          0.602092              -0.018749   \n",
      "PC2  -0.000877            0.000638          0.037431               0.715309   \n",
      "PC3  -0.371194            0.258739          0.001347               0.005875   \n",
      "PC4   0.431255            0.129204         -0.001355               0.006416   \n",
      "PC5  -0.105624           -0.449498          0.000206               0.001008   \n",
      "PC6   0.267397           -0.137583          0.004952               0.002752   \n",
      "PC7  -0.087583            0.677485          0.001205              -0.002675   \n",
      "PC8   0.610832            0.186139          0.000295               0.005453   \n",
      "PC9   0.273791           -0.262479         -0.003918              -0.006242   \n",
      "PC10  0.157185           -0.255767          0.005443              -0.001569   \n",
      "\n",
      "      Most Important Issue  Engagement with Campaign  \\\n",
      "PC1              -0.000610                 -0.084333   \n",
      "PC2              -0.001107                  0.694653   \n",
      "PC3               0.454385                  0.001542   \n",
      "PC4               0.583153                 -0.003712   \n",
      "PC5               0.115543                  0.001979   \n",
      "PC6               0.101615                  0.008958   \n",
      "PC7              -0.067315                 -0.011570   \n",
      "PC8               0.193383                 -0.002897   \n",
      "PC9               0.023001                 -0.015682   \n",
      "PC10             -0.171654                 -0.000259   \n",
      "\n",
      "      Votes for Democrat (Last 8 years)  Votes for Republican (Last 8 years)  \\\n",
      "PC1                            0.561158                            -0.561101   \n",
      "PC2                            0.044863                            -0.043107   \n",
      "PC3                            0.002432                            -0.002178   \n",
      "PC4                           -0.002385                             0.002502   \n",
      "PC5                            0.001648                             0.000803   \n",
      "PC6                            0.007926                            -0.006906   \n",
      "PC7                            0.002133                            -0.002411   \n",
      "PC8                           -0.000831                             0.001142   \n",
      "PC9                           -0.002657                             0.002952   \n",
      "PC10                           0.005540                            -0.006932   \n",
      "\n",
      "      Votes for Other Candidate (Last 8 years)  \n",
      "PC1                                   0.001043  \n",
      "PC2                                   0.007856  \n",
      "PC3                                   0.452510  \n",
      "PC4                                  -0.121172  \n",
      "PC5                                  -0.250396  \n",
      "PC6                                   0.162048  \n",
      "PC7                                  -0.021166  \n",
      "PC8                                  -0.197128  \n",
      "PC9                                   0.782513  \n",
      "PC10                                 -0.059534  \n"
     ]
    }
   ],
   "source": [
    "print(components_df)"
   ]
  },
  {
   "cell_type": "code",
   "execution_count": 41,
   "id": "88a939de",
   "metadata": {},
   "outputs": [],
   "source": [
    "from sklearn.mixture import GaussianMixture"
   ]
  },
  {
   "cell_type": "code",
   "execution_count": 42,
   "id": "da678e9f",
   "metadata": {},
   "outputs": [],
   "source": [
    "def bic_scorer(estimator, X):\n",
    "    return -estimator.bic(X)"
   ]
  },
  {
   "cell_type": "code",
   "execution_count": null,
   "id": "9ae0b75c",
   "metadata": {},
   "outputs": [],
   "source": []
  },
  {
   "cell_type": "code",
   "execution_count": 43,
   "id": "08de8b21",
   "metadata": {},
   "outputs": [],
   "source": [
    "aic=[]    #Checking AIC score for best components\n",
    "for i in range(1,8):\n",
    "    gm=GaussianMixture(n_components=i, random_state=43)\n",
    "    gm.fit(pca_x)\n",
    "    aic.append(gm.aic(pca_x))"
   ]
  },
  {
   "cell_type": "code",
   "execution_count": 44,
   "id": "76070c5d",
   "metadata": {},
   "outputs": [
    {
     "data": {
      "text/plain": [
       "Text(0.5, 1.0, 'AIC vs Clusters (Urban)')"
      ]
     },
     "execution_count": 44,
     "metadata": {},
     "output_type": "execute_result"
    },
    {
     "data": {
      "image/png": "[encoded data removed]",
      "text/plain": [
       "<Figure size 432x288 with 1 Axes>"
      ]
     },
     "metadata": {
      "needs_background": "light"
     },
     "output_type": "display_data"
    }
   ],
   "source": [
    "plt.plot(range(1,8), aic, marker='o') #Plot the AIC vs Components\n",
    "plt.xlabel(\"Clusters\")\n",
    "plt.ylabel(\"AIC\")\n",
    "plt.title(\"AIC vs Clusters (Urban)\")"
   ]
  },
  {
   "cell_type": "markdown",
   "id": "a65aaa74",
   "metadata": {},
   "source": [
    "The AIC is lowest at 6 components before going back up."
   ]
  },
  {
   "cell_type": "code",
   "execution_count": null,
   "id": "f8ba664f",
   "metadata": {},
   "outputs": [],
   "source": []
  },
  {
   "cell_type": "code",
   "execution_count": null,
   "id": "088ad754",
   "metadata": {},
   "outputs": [],
   "source": []
  },
  {
   "cell_type": "code",
   "execution_count": 45,
   "id": "67cb3862",
   "metadata": {},
   "outputs": [],
   "source": [
    "gm=GaussianMixture(n_components=6, random_state=40).fit(pca_x)   #Using 6 components for gmm."
   ]
  },
  {
   "cell_type": "code",
   "execution_count": 46,
   "id": "54b48857",
   "metadata": {},
   "outputs": [],
   "source": [
    "pred=gm.predict(pca_x)"
   ]
  },
  {
   "cell_type": "code",
   "execution_count": 47,
   "id": "d651b3c3",
   "metadata": {},
   "outputs": [
    {
     "name": "stdout",
     "output_type": "stream",
     "text": [
      "[3 3 1 ... 4 3 4]\n"
     ]
    }
   ],
   "source": [
    "print(pred)"
   ]
  },
  {
   "cell_type": "code",
   "execution_count": 48,
   "id": "36e7b565",
   "metadata": {},
   "outputs": [
    {
     "name": "stdout",
     "output_type": "stream",
     "text": [
      "Cluster Means: [[ 0.97914359  0.03534403  0.46215705 -0.13276494  0.21355273  0.23131676\n",
      "   0.27281953  0.05234944 -0.20173304  0.89352148]\n",
      " [-2.25018054 -0.17557201  0.0964011  -0.44267052 -0.49289479 -0.29431636\n",
      "  -0.27073935  0.39359517 -0.0263413   0.12702105]\n",
      " [ 0.99787841  0.00997083 -0.3171239  -0.18370833 -0.39280494  0.64805756\n",
      "  -0.06063945 -0.22564663 -0.11139975 -0.5771179 ]\n",
      " [ 1.00868168  0.04402974  0.0184533   0.17320601  0.22681409 -0.86991184\n",
      "  -0.14293073  0.01860081  0.19591503 -0.21558002]\n",
      " [-2.26316732  0.00776336 -0.01495793  0.24454241  0.35382333  0.15112476\n",
      "   0.19631195 -0.36180873 -0.01172941 -0.12446961]\n",
      " [ 0.0402878  -0.01212196 -3.38380467  3.92803427 -0.9613394   2.43852635\n",
      "  -0.79617319  5.54475467  2.49244374  1.42377833]]\n",
      "Cluster Covariances: [[[ 2.40599602e-01 -6.14265016e-02  3.62483481e-03 -1.19075724e-03\n",
      "    7.00527241e-04  1.27762231e-04  1.21667886e-03 -2.89258120e-04\n",
      "    3.41283644e-03  5.13949437e-04]\n",
      "  [-6.14265016e-02  1.12667612e+00 -6.01228397e-03  8.39083773e-04\n",
      "   -7.26471675e-03  9.00136172e-03 -1.79180394e-04 -2.99382553e-03\n",
      "   -2.33101828e-03 -6.54604213e-03]\n",
      "  [ 3.62483481e-03 -6.01228397e-03  7.73457067e-01  1.57784262e-01\n",
      "   -1.02164032e-01  7.34739888e-02 -9.09959719e-02  1.77140296e-01\n",
      "    1.22759378e-01 -1.63791473e-01]\n",
      "  [-1.19075724e-03  8.39083773e-04  1.57784262e-01  7.98087412e-01\n",
      "    1.56842884e-02  1.57416127e-02  5.99424879e-02 -2.44590362e-01\n",
      "   -1.41158490e-01 -1.55457604e-02]\n",
      "  [ 7.00527241e-04 -7.26471675e-03 -1.02164032e-01  1.56842884e-02\n",
      "    9.23439162e-01  1.46920183e-01 -2.05720427e-02  2.80035486e-02\n",
      "    1.55005113e-02 -9.52727519e-02]\n",
      "  [ 1.27762231e-04  9.00136172e-03  7.34739888e-02  1.57416127e-02\n",
      "    1.46920183e-01  4.63333137e-01 -7.36138459e-02 -1.09261732e-01\n",
      "    6.01946070e-02 -1.68087757e-01]\n",
      "  [ 1.21667886e-03 -1.79180394e-04 -9.09959719e-02  5.99424879e-02\n",
      "   -2.05720427e-02 -7.36138459e-02  9.45605977e-01  3.74399595e-02\n",
      "    6.00548357e-02 -1.19739904e-01]\n",
      "  [-2.89258120e-04 -2.99382553e-03  1.77140296e-01 -2.44590362e-01\n",
      "    2.80035486e-02 -1.09261732e-01  3.74399595e-02  6.48062015e-01\n",
      "   -1.54069870e-01 -1.42632418e-01]\n",
      "  [ 3.41283644e-03 -2.33101828e-03  1.22759378e-01 -1.41158490e-01\n",
      "    1.55005113e-02  6.01946070e-02  6.00548357e-02 -1.54069870e-01\n",
      "    8.91573290e-01  4.86431887e-02]\n",
      "  [ 5.13949437e-04 -6.54604213e-03 -1.63791473e-01 -1.55457604e-02\n",
      "   -9.52727519e-02 -1.68087757e-01 -1.19739904e-01 -1.42632418e-01\n",
      "    4.86431887e-02  5.25203525e-01]]\n",
      "\n",
      " [[ 2.41809900e-01 -7.87175000e-02 -2.37098838e-03  3.05355509e-03\n",
      "    4.76238082e-03 -5.51283856e-03 -2.37467445e-05 -3.90315106e-03\n",
      "    7.45012172e-03 -7.51830782e-03]\n",
      "  [-7.87175000e-02  1.35544196e+00  5.92105097e-03 -3.18801831e-02\n",
      "   -3.54576607e-02 -1.86820531e-02 -3.23529350e-02  2.90746055e-02\n",
      "   -2.67176010e-03  1.60066677e-02]\n",
      "  [-2.37098838e-03  5.92105097e-03  8.74259705e-01  1.65700727e-01\n",
      "   -5.78505842e-03  1.03916903e-01 -1.17983959e-02  1.81891933e-01\n",
      "    1.00009132e-01  3.97208295e-02]\n",
      "  [ 3.05355509e-03 -3.18801831e-02  1.65700727e-01  6.88311323e-01\n",
      "   -1.24408572e-01 -1.87913150e-01 -5.16264250e-02 -8.20017529e-02\n",
      "   -1.03000478e-01 -1.04839122e-02]\n",
      "  [ 4.76238082e-03 -3.54576607e-02 -5.78505842e-03 -1.24408572e-01\n",
      "    7.77022708e-01 -8.59232623e-02 -1.35157834e-01  2.43825983e-01\n",
      "    2.23157870e-02  7.96085767e-02]\n",
      "  [-5.51283856e-03 -1.86820531e-02  1.03916903e-01 -1.87913150e-01\n",
      "   -8.59232623e-02  8.62736061e-01 -4.01760579e-02 -4.64108809e-02\n",
      "   -6.78402632e-02 -1.32028468e-02]\n",
      "  [-2.37467445e-05 -3.23529350e-02 -1.17983959e-02 -5.16264250e-02\n",
      "   -1.35157834e-01 -4.01760579e-02  9.25459253e-01  1.45882503e-01\n",
      "    1.94208033e-02  4.81784661e-02]\n",
      "  [-3.90315106e-03  2.90746055e-02  1.81891933e-01 -8.20017529e-02\n",
      "    2.43825983e-01 -4.64108809e-02  1.45882503e-01  4.81835491e-01\n",
      "   -1.49048287e-01 -1.41458708e-01]\n",
      "  [ 7.45012172e-03 -2.67176010e-03  1.00009132e-01 -1.03000478e-01\n",
      "    2.23157870e-02 -6.78402632e-02  1.94208033e-02 -1.49048287e-01\n",
      "    9.25842193e-01 -3.13472535e-02]\n",
      "  [-7.51830782e-03  1.60066677e-02  3.97208295e-02 -1.04839122e-02\n",
      "    7.96085767e-02 -1.32028468e-02  4.81784661e-02 -1.41458708e-01\n",
      "   -3.13472535e-02  9.42610918e-01]]\n",
      "\n",
      " [[ 2.40362851e-01 -6.51987714e-02 -2.43610705e-03  2.17967240e-03\n",
      "   -1.08289957e-03 -8.11398807e-03  3.30340943e-04 -1.47963838e-03\n",
      "    3.29530199e-03 -6.56350338e-03]\n",
      "  [-6.51987714e-02  1.14503713e+00 -3.32804414e-03 -5.50268015e-03\n",
      "   -4.33345661e-03  7.28325419e-03  4.79083300e-04  1.57702729e-04\n",
      "    2.14624216e-03 -9.70864872e-03]\n",
      "  [-2.43610705e-03 -3.32804414e-03  7.79268568e-01  1.10671769e-01\n",
      "   -1.39971101e-01  2.50160985e-01 -4.82989755e-02  1.64907277e-01\n",
      "    7.31018809e-02 -1.07676084e-01]\n",
      "  [ 2.17967240e-03 -5.50268015e-03  1.10671769e-01  8.14260484e-01\n",
      "    4.03796201e-03 -3.28358541e-02  3.01218606e-02 -2.54169354e-01\n",
      "   -1.17580286e-01 -1.14099491e-01]\n",
      "  [-1.08289957e-03 -4.33345661e-03 -1.39971101e-01  4.03796201e-03\n",
      "    8.67812956e-01  2.15788674e-01 -3.39439020e-02  8.50018474e-03\n",
      "   -5.65112871e-03 -1.46515730e-01]\n",
      "  [-8.11398807e-03  7.28325419e-03  2.50160985e-01 -3.28358541e-02\n",
      "    2.15788674e-01  6.03266304e-01  5.24063527e-02 -6.81445828e-02\n",
      "   -2.06360518e-02  2.15073480e-01]\n",
      "  [ 3.30340943e-04  4.79083300e-04 -4.82989755e-02  3.01218606e-02\n",
      "   -3.39439020e-02  5.24063527e-02  9.78868827e-01  3.60916344e-02\n",
      "    1.82090479e-02 -2.37367720e-02]\n",
      "  [-1.47963838e-03  1.57702729e-04  1.64907277e-01 -2.54169354e-01\n",
      "    8.50018474e-03 -6.81445828e-02  3.60916344e-02  6.43121731e-01\n",
      "   -1.66656749e-01 -1.55730803e-01]\n",
      "  [ 3.29530199e-03  2.14624216e-03  7.31018809e-02 -1.17580286e-01\n",
      "   -5.65112871e-03 -2.06360518e-02  1.82090479e-02 -1.66656749e-01\n",
      "    9.23044444e-01 -6.20196811e-02]\n",
      "  [-6.56350338e-03 -9.70864872e-03 -1.07676084e-01 -1.14099491e-01\n",
      "   -1.46515730e-01  2.15073480e-01 -2.37367720e-02 -1.55730803e-01\n",
      "   -6.20196811e-02  7.07301348e-01]]\n",
      "\n",
      " [[ 2.41620461e-01 -6.01398726e-02  1.35821770e-03 -9.42257984e-04\n",
      "   -1.56604404e-05 -5.26477970e-04  9.38804727e-04 -2.34263317e-04\n",
      "    1.92001560e-03 -7.45507424e-04]\n",
      "  [-6.01398726e-02  1.11588805e+00 -4.79840901e-03  2.57386577e-03\n",
      "   -3.59772583e-03  7.88698101e-03  2.67747596e-03 -2.78974517e-03\n",
      "    1.64850774e-03 -3.85292147e-03]\n",
      "  [ 1.35821770e-03 -4.79840901e-03  7.93595928e-01  1.55700497e-01\n",
      "   -8.71801857e-02  7.73195344e-02 -8.15331738e-02  1.77105509e-01\n",
      "    1.17869752e-01 -1.22231164e-01]\n",
      "  [-9.42257984e-04  2.57386577e-03  1.55700497e-01  8.08653172e-01\n",
      "    1.25607774e-02  1.70011100e-02  5.53527508e-02 -2.50404141e-01\n",
      "   -1.43969385e-01 -1.89455440e-02]\n",
      "  [-1.56604404e-05 -3.59772583e-03 -8.71801857e-02  1.25607774e-02\n",
      "    9.27592576e-01  1.42277522e-01 -1.25315997e-02  3.09364059e-02\n",
      "    1.38053161e-02 -6.50637896e-02]\n",
      "  [-5.26477970e-04  7.88698101e-03  7.73195344e-02  1.70011100e-02\n",
      "    1.42277522e-01  4.56914117e-01 -6.73398716e-02 -1.08824410e-01\n",
      "    6.10466313e-02 -1.59404518e-01]\n",
      "  [ 9.38804727e-04  2.67747596e-03 -8.15331738e-02  5.53527508e-02\n",
      "   -1.25315997e-02 -6.73398716e-02  9.57900902e-01  4.48453991e-02\n",
      "    5.69344096e-02 -1.03748513e-01]\n",
      "  [-2.34263317e-04 -2.78974517e-03  1.77105509e-01 -2.50404141e-01\n",
      "    3.09364059e-02 -1.08824410e-01  4.48453991e-02  6.46606695e-01\n",
      "   -1.51618182e-01 -1.28742741e-01]\n",
      "  [ 1.92001560e-03  1.64850774e-03  1.17869752e-01 -1.43969385e-01\n",
      "    1.38053161e-02  6.10466313e-02  5.69344096e-02 -1.51618182e-01\n",
      "    8.92368833e-01  3.67214125e-02]\n",
      "  [-7.45507424e-04 -3.85292147e-03 -1.22231164e-01 -1.89455440e-02\n",
      "   -6.50637896e-02 -1.59404518e-01 -1.03748513e-01 -1.28742741e-01\n",
      "    3.67214125e-02  5.95921097e-01]]\n",
      "\n",
      " [[ 2.42777246e-01 -7.54820182e-02 -1.02996153e-03  4.81630488e-03\n",
      "    1.96762497e-03 -7.96240982e-03 -2.29356412e-03 -4.02519368e-03\n",
      "    7.81408604e-03 -1.09942549e-02]\n",
      "  [-7.54820182e-02  1.28841291e+00  8.70276794e-03 -3.01603457e-02\n",
      "   -3.57479066e-02 -1.76483807e-02 -1.86348481e-02  3.97888176e-02\n",
      "   -5.92904327e-03  1.68137738e-02]\n",
      "  [-1.02996153e-03  8.70276794e-03  8.74272384e-01  1.68015147e-01\n",
      "   -1.46352834e-02  9.65667075e-02 -1.88121618e-02  1.86161321e-01\n",
      "    9.43992895e-02  4.23270863e-02]\n",
      "  [ 4.81630488e-03 -3.01603457e-02  1.68015147e-01  7.40226804e-01\n",
      "   -8.12175683e-02 -1.69314626e-01 -3.03960080e-02 -1.36630936e-01\n",
      "   -1.11831351e-01 -1.80794772e-02]\n",
      "  [ 1.96762497e-03 -3.57479066e-02 -1.46352834e-02 -8.12175683e-02\n",
      "    8.52303789e-01 -5.00757220e-02 -8.26774353e-02  1.92596668e-01\n",
      "    2.50314184e-02  5.64134001e-02]\n",
      "  [-7.96240982e-03 -1.76483807e-02  9.65667075e-02 -1.69314626e-01\n",
      "   -5.00757220e-02  8.84485630e-01 -2.43303792e-02 -7.83178404e-02\n",
      "   -6.17552130e-02 -2.75063233e-02]\n",
      "  [-2.29356412e-03 -1.86348481e-02 -1.88121618e-02 -3.03960080e-02\n",
      "   -8.26774353e-02 -2.43303792e-02  9.53407339e-01  1.26545432e-01\n",
      "    2.42338057e-02  2.74960574e-02]\n",
      "  [-4.02519368e-03  3.97888176e-02  1.86161321e-01 -1.36630936e-01\n",
      "    1.92596668e-01 -7.83178404e-02  1.26545432e-01  5.51311555e-01\n",
      "   -1.45446477e-01 -1.29410932e-01]\n",
      "  [ 7.81408604e-03 -5.92904327e-03  9.43992895e-02 -1.11831351e-01\n",
      "    2.50314184e-02 -6.17552130e-02  2.42338057e-02 -1.45446477e-01\n",
      "    9.28852011e-01 -3.56850148e-02]\n",
      "  [-1.09942549e-02  1.68137738e-02  4.23270863e-02 -1.80794772e-02\n",
      "    5.64134001e-02 -2.75063233e-02  2.74960574e-02 -1.29410932e-01\n",
      "   -3.56850148e-02  9.51711945e-01]]\n",
      "\n",
      " [[ 2.47833833e+00 -1.54889892e-04 -9.91469112e-03  5.44946669e-03\n",
      "   -3.52394904e-02  5.40737311e-02  6.36954043e-03 -3.07391935e-04\n",
      "    3.76648712e-02 -1.18767181e-03]\n",
      "  [-1.54889892e-04  1.18958482e+00 -1.75216768e-02 -1.29424240e-02\n",
      "   -1.94303789e-02 -6.89333172e-03  9.64691196e-03  1.83553936e-02\n",
      "    2.89139770e-02 -5.86798200e-03]\n",
      "  [-9.91469112e-03 -1.75216768e-02  2.17395976e+00 -1.35636222e+00\n",
      "    3.20178182e-01 -8.04731009e-01  2.74542376e-01 -1.88467252e+00\n",
      "   -8.19203625e-01 -4.67997142e-01]\n",
      "  [ 5.44946669e-03 -1.29424240e-02 -1.35636222e+00  2.57031242e+00\n",
      "   -3.83969516e-01  9.15862392e-01 -3.15559642e-01  2.17135541e+00\n",
      "    9.58932574e-01  5.44358708e-01]\n",
      "  [-3.52394904e-02 -1.94303789e-02  3.20178182e-01 -3.83969516e-01\n",
      "    1.07173782e+00 -2.28806868e-01  9.10490849e-02 -5.24541471e-01\n",
      "   -2.44425948e-01 -1.20858192e-01]\n",
      "  [ 5.40737311e-02 -6.89333172e-03 -8.04731009e-01  9.15862392e-01\n",
      "   -2.28806868e-01  1.52372735e+00 -1.88731994e-01  1.30321325e+00\n",
      "    5.57274221e-01  3.33139241e-01]\n",
      "  [ 6.36954043e-03  9.64691196e-03  2.74542376e-01 -3.15559642e-01\n",
      "    9.10490849e-02 -1.88731994e-01  1.05308046e+00 -4.38557531e-01\n",
      "   -1.87945155e-01 -1.10877414e-01]\n",
      "  [-3.07391935e-04  1.83553936e-02 -1.88467252e+00  2.17135541e+00\n",
      "   -5.24541471e-01  1.30321325e+00 -4.38557531e-01  4.06905473e+00\n",
      "    1.34646216e+00  7.62074819e-01]\n",
      "  [ 3.76648712e-02  2.89139770e-02 -8.19203625e-01  9.58932574e-01\n",
      "   -2.44425948e-01  5.57274221e-01 -1.87945155e-01  1.34646216e+00\n",
      "    1.57422691e+00  3.39815714e-01]\n",
      "  [-1.18767181e-03 -5.86798200e-03 -4.67997142e-01  5.44358708e-01\n",
      "   -1.20858192e-01  3.33139241e-01 -1.10877414e-01  7.62074819e-01\n",
      "    3.39815714e-01  1.19658847e+00]]]\n"
     ]
    }
   ],
   "source": [
    "print(\"Cluster Means:\", gm.means_)\n",
    "print(\"Cluster Covariances:\", gm.covariances_)"
   ]
  },
  {
   "cell_type": "code",
   "execution_count": 49,
   "id": "4fcec6ab",
   "metadata": {},
   "outputs": [],
   "source": [
    "mean=np.array(gm.means_)"
   ]
  },
  {
   "cell_type": "code",
   "execution_count": 50,
   "id": "c86ca147",
   "metadata": {},
   "outputs": [
    {
     "data": {
      "text/plain": [
       "Text(0.5, 1.0, 'Cluster Means-6 components (Urban)')"
      ]
     },
     "execution_count": 50,
     "metadata": {},
     "output_type": "execute_result"
    },
    {
     "data": {
      "image/png": "[encoded data removed]",
      "text/plain": [
       "<Figure size 432x288 with 1 Axes>"
      ]
     },
     "metadata": {
      "needs_background": "light"
     },
     "output_type": "display_data"
    }
   ],
   "source": [
    "plt.scatter(mean[:,0], mean[:,1], marker='x', color='red')\n",
    "plt.title(\"Cluster Means-6 components (Urban)\")"
   ]
  },
  {
   "cell_type": "markdown",
   "id": "48cde374",
   "metadata": {},
   "source": [
    "It seems here that 6 might be overfitting based on the cluster of the centroids. They are not well seperated. This might suggest overfiting so we will try 4 components instead even thought the bic suggest 6."
   ]
  },
  {
   "cell_type": "code",
   "execution_count": 51,
   "id": "940714b7",
   "metadata": {},
   "outputs": [],
   "source": [
    "#plot for data GMM\n",
    "from matplotlib.patches import Ellipse\n",
    "\n",
    "def plot_gaussian_ellipses(gmm, ax, data):\n",
    "    for i in range(gmm.n_components):\n",
    "        mean = gmm.means_[i]\n",
    "        cov = gmm.covariances_[i]\n",
    "\n",
    "        # Convert 1D array (diag type) to 2D diagonal matrix\n",
    "        if cov.ndim == 1:\n",
    "            cov = np.diag(cov)\n",
    "\n",
    "        # Eigenvalues and eigenvectors for ellipse plotting\n",
    "        v, w = np.linalg.eigh(cov)\n",
    "        v = 2.0 * np.sqrt(2.0) * np.sqrt(v)  # Multiply by 2 for better visibility\n",
    "        u = w[:, 0]\n",
    "        angle = np.arctan2(u[1], u[0])\n",
    "\n",
    "        ell = Ellipse(mean, v[0], v[1], 180.0 * angle / np.pi, color='r', alpha=0.5)\n",
    "        ax.add_patch(ell)"
   ]
  },
  {
   "cell_type": "code",
   "execution_count": null,
   "id": "4b18d564",
   "metadata": {},
   "outputs": [],
   "source": []
  },
  {
   "cell_type": "code",
   "execution_count": 52,
   "id": "091d5f69",
   "metadata": {},
   "outputs": [],
   "source": [
    "gm2=GaussianMixture(n_components=4, random_state=40).fit(pca_x) #Using 4 components\n",
    "pred2=gm2.predict(pca_x)"
   ]
  },
  {
   "cell_type": "code",
   "execution_count": 53,
   "id": "c6d8a49d",
   "metadata": {},
   "outputs": [
    {
     "name": "stdout",
     "output_type": "stream",
     "text": [
      "Cluster Means: [[ 9.81335250e-01  2.24349863e-02  2.64587472e-01 -1.99053592e-01\n",
      "   4.38490939e-03  5.49115722e-01  2.25335308e-01 -3.60883255e-02\n",
      "  -2.31603922e-01  5.58866148e-01]\n",
      " [-2.25787530e+00 -6.69875385e-02  3.04527462e-02 -3.56554863e-02\n",
      "   8.59300038e-03 -3.04992306e-02  5.88458916e-03 -5.38096887e-02\n",
      "  -1.76878939e-02 -2.19339783e-02]\n",
      " [ 3.98992079e-02 -1.22365498e-02 -3.38173806e+00  3.92510534e+00\n",
      "  -9.60730021e-01  2.43664390e+00 -7.95850915e-01  5.54057159e+00\n",
      "   2.49058442e+00  1.42298562e+00]\n",
      " [ 1.00915680e+00  3.61169113e-02 -1.65314200e-01  9.80158311e-02\n",
      "   1.47401521e-02 -5.18198786e-01 -1.79888985e-01 -7.20858056e-02\n",
      "   1.49838834e-01 -5.06695925e-01]]\n",
      "Cluster Covariances: [[[ 2.40840198e-01 -6.26321288e-02  1.81628163e-03 -1.10501734e-03\n",
      "   -7.04665949e-04 -2.46828135e-04  2.09979818e-03 -7.54808408e-05\n",
      "    2.42452837e-03 -1.14569777e-03]\n",
      "  [-6.26321288e-02  1.13156682e+00 -6.46784053e-04  1.35255686e-03\n",
      "   -1.47241738e-03  3.91111289e-03  1.34596981e-03 -9.98665409e-04\n",
      "   -1.85161280e-03  1.81723040e-03]\n",
      "  [ 1.81628163e-03 -6.46784053e-04  8.30996654e-01  1.77900534e-01\n",
      "   -3.80444500e-02 -2.72541184e-02 -7.65397198e-02  2.04608693e-01\n",
      "    1.32039474e-01 -6.32780431e-02]\n",
      "  [-1.10501734e-03  1.35255686e-03  1.77900534e-01  8.06178150e-01\n",
      "    4.11041381e-02 -2.41884986e-02  6.36634324e-02 -2.34205032e-01\n",
      "   -1.36511347e-01  1.86286912e-02]\n",
      "  [-7.04665949e-04 -1.47241738e-03 -3.80444500e-02  4.11041381e-02\n",
      "    9.88884926e-01  3.19943033e-02 -9.37102719e-03  5.76413439e-02\n",
      "    2.41820105e-02  1.37373691e-02]\n",
      "  [-2.46828135e-04  3.91111289e-03 -2.72541184e-02 -2.41884986e-02\n",
      "    3.19943033e-02  6.49817074e-01 -8.98226359e-02 -1.57052620e-01\n",
      "    3.66370539e-02 -3.28592419e-01]\n",
      "  [ 2.09979818e-03  1.34596981e-03 -7.65397198e-02  6.36634324e-02\n",
      "   -9.37102719e-03 -8.98226359e-02  9.47537189e-01  4.20761375e-02\n",
      "    6.02983743e-02 -9.58542447e-02]\n",
      "  [-7.54808408e-05 -9.98665409e-04  2.04608693e-01 -2.34205032e-01\n",
      "    5.76413439e-02 -1.57052620e-01  4.20761375e-02  6.61737750e-01\n",
      "   -1.50099102e-01 -9.75789591e-02]\n",
      "  [ 2.42452837e-03 -1.85161280e-03  1.32039474e-01 -1.36511347e-01\n",
      "    2.41820105e-02  3.66370539e-02  6.02983743e-02 -1.50099102e-01\n",
      "    8.95039431e-01  6.47599096e-02]\n",
      "  [-1.14569777e-03  1.81723040e-03 -6.32780431e-02  1.86286912e-02\n",
      "    1.37373691e-02 -3.28592419e-01 -9.58542447e-02 -9.75789591e-02\n",
      "    6.47599096e-02  6.92833024e-01]]\n",
      "\n",
      " [[ 2.42420017e-01 -7.73761513e-02 -1.22552849e-03  1.94203835e-03\n",
      "    4.52116814e-04 -8.36201032e-03 -2.83248632e-03 -1.60736459e-03\n",
      "    7.62001724e-03 -8.79004777e-03]\n",
      "  [-7.73761513e-02  1.32385860e+00  2.63784655e-03 -4.35651250e-04\n",
      "    1.85792025e-03  1.65242425e-03 -3.55125236e-03  1.97518033e-03\n",
      "   -3.95411748e-03  5.35115144e-03]\n",
      "  [-1.22552849e-03  2.63784655e-03  8.77257281e-01  1.48596237e-01\n",
      "   -3.37985720e-02  8.75846145e-02 -2.85142247e-02  2.04741216e-01\n",
      "    9.62997610e-02  4.80303811e-02]\n",
      "  [ 1.94203835e-03 -4.35651250e-04  1.48596237e-01  8.33103806e-01\n",
      "    4.16870056e-02 -1.02976640e-01  3.84578855e-02 -2.39717186e-01\n",
      "   -1.05807082e-01 -5.67190484e-02]\n",
      "  [ 4.52116814e-04  1.85792025e-03 -3.37985720e-02  4.16870056e-02\n",
      "    9.94739775e-01  2.63900970e-02 -8.57891502e-03  5.90245500e-02\n",
      "    2.69101822e-02  1.44502249e-02]\n",
      "  [-8.36201032e-03  1.65242425e-03  8.75846145e-02 -1.02976640e-01\n",
      "    2.63900970e-02  9.23534697e-01  1.94467562e-02 -1.46574978e-01\n",
      "   -6.26689300e-02 -4.87302141e-02]\n",
      "  [-2.83248632e-03 -3.55125236e-03 -2.85142247e-02  3.84578855e-02\n",
      "   -8.57891502e-03  1.94467562e-02  9.94687995e-01  4.92339056e-02\n",
      "    2.39220429e-02  7.56597912e-03]\n",
      "  [-1.60736459e-03  1.97518033e-03  2.04741216e-01 -2.39717186e-01\n",
      "    5.90245500e-02 -1.46574978e-01  4.92339056e-02  6.60794142e-01\n",
      "   -1.49574219e-01 -8.84501343e-02]\n",
      "  [ 7.62001724e-03 -3.95411748e-03  9.62997610e-02 -1.05807082e-01\n",
      "    2.69101822e-02 -6.26689300e-02  2.39220429e-02 -1.49574219e-01\n",
      "    9.27680395e-01 -3.48059508e-02]\n",
      "  [-8.79004777e-03  5.35115144e-03  4.80303811e-02 -5.67190484e-02\n",
      "    1.44502249e-02 -4.87302141e-02  7.56597912e-03 -8.84501343e-02\n",
      "   -3.48059508e-02  9.63274305e-01]]\n",
      "\n",
      " [[ 2.47812330e+00 -2.18989767e-04 -1.09062752e-02  6.84604454e-03\n",
      "   -3.56193017e-02  5.43861408e-02  6.02724520e-03  1.66263581e-03\n",
      "    3.83090068e-02 -6.07102505e-04]\n",
      "  [-2.18989767e-04  1.18965709e+00 -1.78987576e-02 -1.28030332e-02\n",
      "   -1.95338730e-02 -7.07787209e-03  9.62544611e-03  1.90152109e-02\n",
      "    2.94800720e-02 -5.72940104e-03]\n",
      "  [-1.09062752e-02 -1.78987576e-02  2.17882519e+00 -1.36361248e+00\n",
      "    3.21675757e-01 -8.09575103e-01  2.75352517e-01 -1.89536080e+00\n",
      "   -8.23758766e-01 -4.69814279e-01]\n",
      "  [ 6.84604454e-03 -1.28030332e-02 -1.36361248e+00  2.58041073e+00\n",
      "   -3.86156966e-01  9.22270463e-01 -3.16745204e-01  2.18602434e+00\n",
      "    9.65736843e-01  5.47339168e-01]\n",
      "  [-3.56193017e-02 -1.95338730e-02  3.21675757e-01 -3.86156966e-01\n",
      "    1.07229780e+00 -2.30436897e-01  9.14213731e-02 -5.27440495e-01\n",
      "   -2.45715772e-01 -1.21335743e-01]\n",
      "  [ 5.43861408e-02 -7.07787209e-03 -8.09575103e-01  9.22270463e-01\n",
      "   -2.30436897e-01  1.52701171e+00 -1.89677904e-01  1.31259892e+00\n",
      "    5.61571405e-01  3.35150286e-01]\n",
      "  [ 6.02724520e-03  9.62544611e-03  2.75352517e-01 -3.16745204e-01\n",
      "    9.14213731e-02 -1.89677904e-01  1.05323057e+00 -4.40268689e-01\n",
      "   -1.88689540e-01 -1.11097760e-01]\n",
      "  [ 1.66263581e-03  1.90152109e-02 -1.89536080e+00  2.18602434e+00\n",
      "   -5.27440495e-01  1.31259892e+00 -4.40268689e-01  4.08970911e+00\n",
      "    1.35558479e+00  7.66237413e-01]\n",
      "  [ 3.83090068e-02  2.94800720e-02 -8.23758766e-01  9.65736843e-01\n",
      "   -2.45715772e-01  5.61571405e-01 -1.88689540e-01  1.35558479e+00\n",
      "    1.57789701e+00  3.41922853e-01]\n",
      "  [-6.07102505e-04 -5.72940104e-03 -4.69814279e-01  5.47339168e-01\n",
      "   -1.21335743e-01  3.35150286e-01 -1.11097760e-01  7.66237413e-01\n",
      "    3.41922853e-01  1.19701902e+00]]\n",
      "\n",
      " [[ 2.40823405e-01 -6.20698142e-02  7.76095922e-04 -2.65782825e-04\n",
      "   -3.81822456e-04 -2.54846088e-04  1.08982385e-03 -1.31706144e-03\n",
      "    1.69494841e-03 -5.37996145e-04]\n",
      "  [-6.20698142e-02  1.12728514e+00  2.42366230e-04 -8.16641936e-04\n",
      "   -1.86957876e-04  2.51062632e-03  3.66285307e-03  8.72524747e-04\n",
      "    3.04130213e-03  7.80019714e-04]\n",
      "  [ 7.76095922e-04  2.42366230e-04  8.35831237e-01  1.76180273e-01\n",
      "   -3.30908292e-02 -1.83770674e-02 -7.08258433e-02  2.01416731e-01\n",
      "    1.30968153e-01 -5.55079008e-02]\n",
      "  [-2.65782825e-04 -8.16641936e-04  1.76180273e-01  8.16102882e-01\n",
      "    4.03518728e-02 -2.88186352e-02  6.15386307e-02 -2.37932040e-01\n",
      "   -1.35924328e-01  1.27609330e-02]\n",
      "  [-3.81822456e-04 -1.86957876e-04 -3.30908292e-02  4.03518728e-02\n",
      "    9.92368673e-01  2.47623028e-02 -5.86294649e-03  5.88617450e-02\n",
      "    2.59738737e-02  2.13384663e-02]\n",
      "  [-2.54846088e-04  2.51062632e-03 -1.83770674e-02 -2.88186352e-02\n",
      "    2.47623028e-02  6.64195763e-01 -8.18186144e-02 -1.59174117e-01\n",
      "    3.07630682e-02 -3.05508908e-01]\n",
      "  [ 1.08982385e-03  3.66285307e-03 -7.08258433e-02  6.15386307e-02\n",
      "   -5.86294649e-03 -8.18186144e-02  9.54434589e-01  4.65776011e-02\n",
      "    5.81910719e-02 -9.02804310e-02]\n",
      "  [-1.31706144e-03  8.72524747e-04  2.01416731e-01 -2.37932040e-01\n",
      "    5.88617450e-02 -1.59174117e-01  4.65776011e-02  6.60165678e-01\n",
      "   -1.47699987e-01 -9.28941684e-02]\n",
      "  [ 1.69494841e-03  3.04130213e-03  1.30968153e-01 -1.35924328e-01\n",
      "    2.59738737e-02  3.07630682e-02  5.81910719e-02 -1.47699987e-01\n",
      "    8.96561233e-01  5.69086312e-02]\n",
      "  [-5.37996145e-04  7.80019714e-04 -5.55079008e-02  1.27609330e-02\n",
      "    2.13384663e-02 -3.05508908e-01 -9.02804310e-02 -9.28941684e-02\n",
      "    5.69086312e-02  7.03911527e-01]]]\n"
     ]
    }
   ],
   "source": [
    "print(\"Cluster Means:\", gm2.means_)\n",
    "print(\"Cluster Covariances:\", gm2.covariances_)"
   ]
  },
  {
   "cell_type": "code",
   "execution_count": 54,
   "id": "50134d7f",
   "metadata": {},
   "outputs": [],
   "source": [
    "mean2=np.array(gm2.means_)"
   ]
  },
  {
   "cell_type": "code",
   "execution_count": 55,
   "id": "482a38fc",
   "metadata": {},
   "outputs": [
    {
     "data": {
      "text/plain": [
       "Text(0.5, 1.0, 'Cluster Means with 4 components (Urban)')"
      ]
     },
     "execution_count": 55,
     "metadata": {},
     "output_type": "execute_result"
    },
    {
     "data": {
      "image/png": "[encoded data removed]",
      "text/plain": [
       "<Figure size 432x288 with 1 Axes>"
      ]
     },
     "metadata": {
      "needs_background": "light"
     },
     "output_type": "display_data"
    }
   ],
   "source": [
    "plt.scatter(mean2[:,0], mean2[:,1], marker='x', color='red')\n",
    "plt.title(\"Cluster Means with 4 components (Urban)\")"
   ]
  },
  {
   "cell_type": "markdown",
   "id": "c29556f9",
   "metadata": {},
   "source": [
    "Here even with 4 components, 2 of them are close and looking at the bic the bic from 3 to 4 is very minimal so let's try with 3 again."
   ]
  },
  {
   "cell_type": "code",
   "execution_count": 56,
   "id": "32dac39e",
   "metadata": {},
   "outputs": [],
   "source": [
    "gm3=GaussianMixture(n_components=3, random_state=4).fit(pca_x)  #Using 3 components.\n",
    "pred3=gm3.predict(pca_x)"
   ]
  },
  {
   "cell_type": "code",
   "execution_count": 57,
   "id": "75537f9a",
   "metadata": {},
   "outputs": [],
   "source": [
    "mean3=np.array(gm3.means_)"
   ]
  },
  {
   "cell_type": "code",
   "execution_count": 58,
   "id": "708c931a",
   "metadata": {},
   "outputs": [
    {
     "data": {
      "text/plain": [
       "Text(0.5, 1.0, 'Centroids with 3 components (Urban)')"
      ]
     },
     "execution_count": 58,
     "metadata": {},
     "output_type": "execute_result"
    },
    {
     "data": {
      "image/png": "[encoded data removed]",
      "text/plain": [
       "<Figure size 432x288 with 1 Axes>"
      ]
     },
     "metadata": {
      "needs_background": "light"
     },
     "output_type": "display_data"
    }
   ],
   "source": [
    "plt.scatter(mean3[:,0], mean3[:,1], marker='x', color='red')\n",
    "plt.title(\"Centroids with 3 components (Urban)\")"
   ]
  },
  {
   "cell_type": "markdown",
   "id": "d18dfaa6",
   "metadata": {},
   "source": [
    "3 components look a lot better in terms of being spread out from each other. "
   ]
  },
  {
   "cell_type": "code",
   "execution_count": 59,
   "id": "154e3cfc",
   "metadata": {},
   "outputs": [
    {
     "name": "stdout",
     "output_type": "stream",
     "text": [
      "               Age    Gender  Marital Status  Number of Children  Occupation  \\\n",
      "Cluster                                                                        \n",
      "0        53.987892  0.574418        1.501406            2.470703    9.431493   \n",
      "1        54.048862  0.576017        1.498727            2.473116    9.641882   \n",
      "2        54.303936  0.576438        1.483829            2.477594    9.482920   \n",
      "\n",
      "                Salary  Standard of Living  Party Membership  \\\n",
      "Cluster                                                        \n",
      "0         49961.077672            1.001485          1.000000   \n",
      "1         49994.875508            0.999745          0.000000   \n",
      "2        502959.490814            0.994415          0.702819   \n",
      "\n",
      "         Rate of Voter Turnout  Most Important Issue  \\\n",
      "Cluster                                                \n",
      "0                     1.080062              2.001836   \n",
      "1                     1.090456              2.002413   \n",
      "2                     1.083907              2.017665   \n",
      "\n",
      "         Engagement with Campaign  Votes for Democrat (Last 8 years)  \\\n",
      "Cluster                                                                \n",
      "0                        1.100196                           6.003769   \n",
      "1                        1.199827                           2.003160   \n",
      "2                        1.124692                           4.791401   \n",
      "\n",
      "         Votes for Republican (Last 8 years)  \\\n",
      "Cluster                                        \n",
      "0                                   1.998375   \n",
      "1                                   5.999474   \n",
      "2                                   3.175347   \n",
      "\n",
      "         Votes for Other Candidate (Last 8 years)  \n",
      "Cluster                                            \n",
      "0                                        0.999309  \n",
      "1                                        1.000200  \n",
      "2                                        0.997272  \n"
     ]
    }
   ],
   "source": [
    "urban['Cluster'] = pred3\n",
    "\n",
    "# Calculate mean values of features for each cluster\n",
    "cluster_means = urban.groupby('Cluster').mean()\n",
    "\n",
    "print(cluster_means)"
   ]
  },
  {
   "cell_type": "code",
   "execution_count": 60,
   "id": "3f341770",
   "metadata": {},
   "outputs": [
    {
     "data": {
      "image/png": "[encoded data removed]",
      "text/plain": [
       "<Figure size 720x576 with 2 Axes>"
      ]
     },
     "metadata": {
      "needs_background": "light"
     },
     "output_type": "display_data"
    }
   ],
   "source": [
    "fig, ax = plt.subplots(figsize=(10, 8))\n",
    "labels = gm3.predict(pca_x)\n",
    "scatter = ax.scatter(pca_x[:, 0], pca_x[:, 1], c=labels, cmap='viridis', marker='o', edgecolor='k', s=50)\n",
    "\n",
    "# Plot Gaussian ellipses\n",
    "plot_gaussian_ellipses(gm3, ax, pca_x)\n",
    "\n",
    "plt.title('GMM Clusters with Gaussian Ellipses')\n",
    "plt.xlabel('Principal Component 1')\n",
    "plt.ylabel('Principal Component 2')\n",
    "plt.colorbar(scatter, label='Cluster Label')\n",
    "plt.show()"
   ]
  },
  {
   "cell_type": "code",
   "execution_count": 61,
   "id": "c203dcf1",
   "metadata": {},
   "outputs": [],
   "source": [
    "probabilities = gm3.predict_proba(pca_x)"
   ]
  },
  {
   "cell_type": "code",
   "execution_count": null,
   "id": "6f41c5e3",
   "metadata": {},
   "outputs": [],
   "source": []
  },
  {
   "cell_type": "code",
   "execution_count": 62,
   "id": "3b00983e",
   "metadata": {},
   "outputs": [
    {
     "data": {
      "image/png": "[encoded data removed]",
      "text/plain": [
       "<Figure size 432x288 with 2 Axes>"
      ]
     },
     "metadata": {
      "needs_background": "light"
     },
     "output_type": "display_data"
    }
   ],
   "source": [
    "# Scatter plot of the data points colored by their highest cluster probability\n",
    "plt.scatter(pca_x[:, 0], pca_x[:, 1], c=probabilities, cmap='viridis', alpha=0.6)\n",
    "plt.scatter(mean3[:,0], mean3[:,1], marker='x', color='black')\n",
    "plt.colorbar(label='Max Probability of Cluster')\n",
    "plt.title('Data Points Colored by Highest Cluster Probability')\n",
    "plt.xlabel('PCA Component 1')\n",
    "plt.ylabel('PCA Component 2')\n",
    "plt.show()"
   ]
  },
  {
   "cell_type": "code",
   "execution_count": 63,
   "id": "f002524c",
   "metadata": {},
   "outputs": [
    {
     "data": {
      "text/plain": [
       "7370"
      ]
     },
     "execution_count": 63,
     "metadata": {},
     "output_type": "execute_result"
    }
   ],
   "source": [
    "(urban.loc[:,'Salary']>250000).sum()  #Check high salary earners"
   ]
  },
  {
   "cell_type": "markdown",
   "id": "147f06e5",
   "metadata": {},
   "source": [
    "It seems there are pretty significant number of people with very high salary, which doesn't show in the plot due to too many data points."
   ]
  },
  {
   "cell_type": "markdown",
   "id": "39ba77f1",
   "metadata": {},
   "source": [
    "Rural data"
   ]
  },
  {
   "cell_type": "code",
   "execution_count": 64,
   "id": "298e29fb",
   "metadata": {},
   "outputs": [],
   "source": [
    "rural=pd.read_csv(\"rural.csv\")"
   ]
  },
  {
   "cell_type": "code",
   "execution_count": 65,
   "id": "f013fea3",
   "metadata": {},
   "outputs": [
    {
     "name": "stdout",
     "output_type": "stream",
     "text": [
      "<class 'pandas.core.frame.DataFrame'>\n",
      "RangeIndex: 120835 entries, 0 to 120834\n",
      "Data columns (total 14 columns):\n",
      " #   Column                                    Non-Null Count   Dtype  \n",
      "---  ------                                    --------------   -----  \n",
      " 0   Age                                       120835 non-null  int64  \n",
      " 1   Gender                                    120835 non-null  object \n",
      " 2   Marital Status                            120835 non-null  object \n",
      " 3   Number of Children                        114781 non-null  float64\n",
      " 4   Occupation                                120835 non-null  object \n",
      " 5   Salary                                    120835 non-null  float64\n",
      " 6   Standard of Living                        120835 non-null  object \n",
      " 7   Party Membership                          120835 non-null  object \n",
      " 8   Rate of Voter Turnout                     120835 non-null  object \n",
      " 9   Most Important Issue                      120835 non-null  object \n",
      " 10  Engagement with Campaign                  120835 non-null  object \n",
      " 11  Votes for Democrat (Last 8 years)         120835 non-null  int64  \n",
      " 12  Votes for Republican (Last 8 years)       120835 non-null  int64  \n",
      " 13  Votes for Other Candidate (Last 8 years)  120835 non-null  int64  \n",
      "dtypes: float64(2), int64(4), object(8)\n",
      "memory usage: 12.9+ MB\n"
     ]
    }
   ],
   "source": [
    "rural.info()"
   ]
  },
  {
   "cell_type": "code",
   "execution_count": 66,
   "id": "2d3dbf8e",
   "metadata": {},
   "outputs": [
    {
     "data": {
      "text/plain": [
       "(array([19266., 19117., 19274., 19053., 38071.]),\n",
       " array([0., 1., 2., 3., 4., 5.]),\n",
       " <BarContainer object of 5 artists>)"
      ]
     },
     "execution_count": 66,
     "metadata": {},
     "output_type": "execute_result"
    },
    {
     "data": {
      "image/png": "[encoded data removed]",
      "text/plain": [
       "<Figure size 432x288 with 1 Axes>"
      ]
     },
     "metadata": {
      "needs_background": "light"
     },
     "output_type": "display_data"
    }
   ],
   "source": [
    "bins=np.arange(min(rural[\"Number of Children\"]), max(rural[\"Number of Children\"])+1)  #Check distribution of number of children.\n",
    "plt.hist(rural[\"Number of Children\"], bins=bins, edgecolor='black')"
   ]
  },
  {
   "cell_type": "markdown",
   "id": "663da3a1",
   "metadata": {},
   "source": [
    "Similarly, the number of children is also left skewed. So the median will be used for inpute the data for number of children."
   ]
  },
  {
   "cell_type": "code",
   "execution_count": 67,
   "id": "95e1c6c4",
   "metadata": {},
   "outputs": [],
   "source": [
    "median=np.nanmedian(rural['Number of Children']) #Calculate the median"
   ]
  },
  {
   "cell_type": "code",
   "execution_count": 68,
   "id": "1ad033b7",
   "metadata": {},
   "outputs": [
    {
     "name": "stdout",
     "output_type": "stream",
     "text": [
      "2.0\n"
     ]
    }
   ],
   "source": [
    "print(median)"
   ]
  },
  {
   "cell_type": "code",
   "execution_count": 69,
   "id": "397631a7",
   "metadata": {},
   "outputs": [],
   "source": [
    "rural['Number of Children']=rural['Number of Children'].fillna(median)  #Fill the na with the median."
   ]
  },
  {
   "cell_type": "code",
   "execution_count": 70,
   "id": "08b8556f",
   "metadata": {},
   "outputs": [
    {
     "name": "stdout",
     "output_type": "stream",
     "text": [
      "<class 'pandas.core.frame.DataFrame'>\n",
      "RangeIndex: 120835 entries, 0 to 120834\n",
      "Data columns (total 14 columns):\n",
      " #   Column                                    Non-Null Count   Dtype  \n",
      "---  ------                                    --------------   -----  \n",
      " 0   Age                                       120835 non-null  int64  \n",
      " 1   Gender                                    120835 non-null  object \n",
      " 2   Marital Status                            120835 non-null  object \n",
      " 3   Number of Children                        120835 non-null  float64\n",
      " 4   Occupation                                120835 non-null  object \n",
      " 5   Salary                                    120835 non-null  float64\n",
      " 6   Standard of Living                        120835 non-null  object \n",
      " 7   Party Membership                          120835 non-null  object \n",
      " 8   Rate of Voter Turnout                     120835 non-null  object \n",
      " 9   Most Important Issue                      120835 non-null  object \n",
      " 10  Engagement with Campaign                  120835 non-null  object \n",
      " 11  Votes for Democrat (Last 8 years)         120835 non-null  int64  \n",
      " 12  Votes for Republican (Last 8 years)       120835 non-null  int64  \n",
      " 13  Votes for Other Candidate (Last 8 years)  120835 non-null  int64  \n",
      "dtypes: float64(2), int64(4), object(8)\n",
      "memory usage: 12.9+ MB\n"
     ]
    }
   ],
   "source": [
    "rural.info()"
   ]
  },
  {
   "cell_type": "code",
   "execution_count": 71,
   "id": "e317b5e2",
   "metadata": {},
   "outputs": [
    {
     "data": {
      "text/plain": [
       "array(['Male', 'Female', 'Other'], dtype=object)"
      ]
     },
     "execution_count": 71,
     "metadata": {},
     "output_type": "execute_result"
    }
   ],
   "source": [
    "rural[\"Gender\"].unique()"
   ]
  },
  {
   "cell_type": "code",
   "execution_count": 72,
   "id": "dd9b8507",
   "metadata": {},
   "outputs": [],
   "source": [
    "rural[\"Gender\"]=rural[\"Gender\"].map({'Female':0, 'Male':1, 'Other':2})"
   ]
  },
  {
   "cell_type": "code",
   "execution_count": 73,
   "id": "ea88b2ee",
   "metadata": {},
   "outputs": [
    {
     "data": {
      "text/plain": [
       "array(['Widowed', 'Divorced', 'Single', 'Married'], dtype=object)"
      ]
     },
     "execution_count": 73,
     "metadata": {},
     "output_type": "execute_result"
    }
   ],
   "source": [
    "rural[\"Marital Status\"].unique()"
   ]
  },
  {
   "cell_type": "code",
   "execution_count": 74,
   "id": "1607a29d",
   "metadata": {},
   "outputs": [],
   "source": [
    "rural[\"Marital Status\"]=rural[\"Marital Status\"].map({'Married':0, 'Widowed':1, 'Single':2, 'Divorced':3})"
   ]
  },
  {
   "cell_type": "code",
   "execution_count": 75,
   "id": "87397074",
   "metadata": {},
   "outputs": [
    {
     "data": {
      "text/plain": [
       "array(['Police Officer', 'Retail Worker', 'Mechanic', 'Technician',\n",
       "       'Construction Worker', 'Electrician', 'Teacher', 'Unemployed',\n",
       "       'Healthcare Worker', 'Farmer'], dtype=object)"
      ]
     },
     "execution_count": 75,
     "metadata": {},
     "output_type": "execute_result"
    }
   ],
   "source": [
    "rural[\"Occupation\"].unique()"
   ]
  },
  {
   "cell_type": "code",
   "execution_count": 76,
   "id": "3216a2b5",
   "metadata": {},
   "outputs": [],
   "source": [
    "rural[\"Occupation\"]=rural[\"Occupation\"].map({'Police Officer':0, 'Retail Worker':1, 'Mechanic':2, 'Technician':3,\n",
    "       'Construction Worker':4, 'Electrician':5, 'Teacher':6, 'Unemployed':7,\n",
    "       'Healthcare Worker':8, 'Farmer':9})\n"
   ]
  },
  {
   "cell_type": "code",
   "execution_count": 77,
   "id": "648cdb44",
   "metadata": {},
   "outputs": [
    {
     "data": {
      "text/plain": [
       "array(['High', 'Low', 'Medium'], dtype=object)"
      ]
     },
     "execution_count": 77,
     "metadata": {},
     "output_type": "execute_result"
    }
   ],
   "source": [
    "rural[\"Standard of Living\"].unique()"
   ]
  },
  {
   "cell_type": "code",
   "execution_count": 78,
   "id": "1f7d1067",
   "metadata": {},
   "outputs": [],
   "source": [
    "rural[\"Standard of Living\"]=rural[\"Standard of Living\"].map({'Low':0, 'High':1, 'Medium':2})"
   ]
  },
  {
   "cell_type": "code",
   "execution_count": 79,
   "id": "6ecf0187",
   "metadata": {},
   "outputs": [
    {
     "data": {
      "text/plain": [
       "array(['Republican', 'Democrat'], dtype=object)"
      ]
     },
     "execution_count": 79,
     "metadata": {},
     "output_type": "execute_result"
    }
   ],
   "source": [
    "rural[\"Party Membership\"].unique()"
   ]
  },
  {
   "cell_type": "code",
   "execution_count": 80,
   "id": "b6f69232",
   "metadata": {},
   "outputs": [],
   "source": [
    "rural[\"Party Membership\"]=rural[\"Party Membership\"].map({\"Republican\":0, \"Democrat\":1 })"
   ]
  },
  {
   "cell_type": "code",
   "execution_count": 81,
   "id": "c72b36e0",
   "metadata": {},
   "outputs": [
    {
     "data": {
      "text/plain": [
       "array(['High', 'Medium', 'Low'], dtype=object)"
      ]
     },
     "execution_count": 81,
     "metadata": {},
     "output_type": "execute_result"
    }
   ],
   "source": [
    "rural[\"Rate of Voter Turnout\"].unique()"
   ]
  },
  {
   "cell_type": "code",
   "execution_count": 82,
   "id": "3bd9ca99",
   "metadata": {},
   "outputs": [],
   "source": [
    "rural[\"Rate of Voter Turnout\"]=rural[\"Rate of Voter Turnout\"].map({'Low':0, 'High':1, 'Medium':2})"
   ]
  },
  {
   "cell_type": "code",
   "execution_count": 83,
   "id": "45eb813e",
   "metadata": {},
   "outputs": [
    {
     "data": {
      "text/plain": [
       "array(['Healthcare', 'Education', 'National Security', 'Economy',\n",
       "       'Environment'], dtype=object)"
      ]
     },
     "execution_count": 83,
     "metadata": {},
     "output_type": "execute_result"
    }
   ],
   "source": [
    "rural[\"Most Important Issue\"].unique()"
   ]
  },
  {
   "cell_type": "code",
   "execution_count": 84,
   "id": "b3eaad1e",
   "metadata": {},
   "outputs": [],
   "source": [
    "rural[\"Most Important Issue\"]=rural[\"Most Important Issue\"].map({'National Security':0, 'Economy':1, 'Environment':2, 'Education':3,\n",
    "       'Healthcare':4})\n"
   ]
  },
  {
   "cell_type": "code",
   "execution_count": 85,
   "id": "7bfb9392",
   "metadata": {},
   "outputs": [
    {
     "data": {
      "text/plain": [
       "array(['High', 'Medium', 'Low'], dtype=object)"
      ]
     },
     "execution_count": 85,
     "metadata": {},
     "output_type": "execute_result"
    }
   ],
   "source": [
    "rural[\"Engagement with Campaign\"].unique()"
   ]
  },
  {
   "cell_type": "code",
   "execution_count": 86,
   "id": "9252f03c",
   "metadata": {},
   "outputs": [],
   "source": [
    "rural[\"Engagement with Campaign\"]=rural[\"Engagement with Campaign\"].map({'Low':0, 'High':1, 'Medium':2})"
   ]
  },
  {
   "cell_type": "code",
   "execution_count": 87,
   "id": "b04a3df0",
   "metadata": {},
   "outputs": [
    {
     "data": {
      "text/html": [
       "<div>\n",
       "<style scoped>\n",
       "    .dataframe tbody tr th:only-of-type {\n",
       "        vertical-align: middle;\n",
       "    }\n",
       "\n",
       "    .dataframe tbody tr th {\n",
       "        vertical-align: top;\n",
       "    }\n",
       "\n",
       "    .dataframe thead th {\n",
       "        text-align: right;\n",
       "    }\n",
       "</style>\n",
       "<table border=\"1\" class=\"dataframe\">\n",
       "  <thead>\n",
       "    <tr style=\"text-align: right;\">\n",
       "      <th></th>\n",
       "      <th>Age</th>\n",
       "      <th>Gender</th>\n",
       "      <th>Marital Status</th>\n",
       "      <th>Number of Children</th>\n",
       "      <th>Occupation</th>\n",
       "      <th>Salary</th>\n",
       "      <th>Standard of Living</th>\n",
       "      <th>Party Membership</th>\n",
       "      <th>Rate of Voter Turnout</th>\n",
       "      <th>Most Important Issue</th>\n",
       "      <th>Engagement with Campaign</th>\n",
       "      <th>Votes for Democrat (Last 8 years)</th>\n",
       "      <th>Votes for Republican (Last 8 years)</th>\n",
       "      <th>Votes for Other Candidate (Last 8 years)</th>\n",
       "    </tr>\n",
       "  </thead>\n",
       "  <tbody>\n",
       "    <tr>\n",
       "      <th>0</th>\n",
       "      <td>25</td>\n",
       "      <td>1</td>\n",
       "      <td>1</td>\n",
       "      <td>5.0</td>\n",
       "      <td>0</td>\n",
       "      <td>53262.31</td>\n",
       "      <td>1</td>\n",
       "      <td>0</td>\n",
       "      <td>1</td>\n",
       "      <td>4</td>\n",
       "      <td>1</td>\n",
       "      <td>1</td>\n",
       "      <td>5</td>\n",
       "      <td>2</td>\n",
       "    </tr>\n",
       "    <tr>\n",
       "      <th>1</th>\n",
       "      <td>35</td>\n",
       "      <td>0</td>\n",
       "      <td>3</td>\n",
       "      <td>4.0</td>\n",
       "      <td>1</td>\n",
       "      <td>66507.59</td>\n",
       "      <td>0</td>\n",
       "      <td>0</td>\n",
       "      <td>1</td>\n",
       "      <td>3</td>\n",
       "      <td>1</td>\n",
       "      <td>0</td>\n",
       "      <td>8</td>\n",
       "      <td>0</td>\n",
       "    </tr>\n",
       "    <tr>\n",
       "      <th>2</th>\n",
       "      <td>19</td>\n",
       "      <td>0</td>\n",
       "      <td>3</td>\n",
       "      <td>4.0</td>\n",
       "      <td>2</td>\n",
       "      <td>67971.54</td>\n",
       "      <td>2</td>\n",
       "      <td>1</td>\n",
       "      <td>1</td>\n",
       "      <td>4</td>\n",
       "      <td>1</td>\n",
       "      <td>5</td>\n",
       "      <td>3</td>\n",
       "      <td>2</td>\n",
       "    </tr>\n",
       "    <tr>\n",
       "      <th>3</th>\n",
       "      <td>88</td>\n",
       "      <td>0</td>\n",
       "      <td>3</td>\n",
       "      <td>0.0</td>\n",
       "      <td>0</td>\n",
       "      <td>58364.10</td>\n",
       "      <td>1</td>\n",
       "      <td>1</td>\n",
       "      <td>1</td>\n",
       "      <td>4</td>\n",
       "      <td>1</td>\n",
       "      <td>7</td>\n",
       "      <td>1</td>\n",
       "      <td>2</td>\n",
       "    </tr>\n",
       "    <tr>\n",
       "      <th>4</th>\n",
       "      <td>71</td>\n",
       "      <td>0</td>\n",
       "      <td>2</td>\n",
       "      <td>4.0</td>\n",
       "      <td>3</td>\n",
       "      <td>75162.78</td>\n",
       "      <td>2</td>\n",
       "      <td>0</td>\n",
       "      <td>2</td>\n",
       "      <td>3</td>\n",
       "      <td>2</td>\n",
       "      <td>2</td>\n",
       "      <td>6</td>\n",
       "      <td>1</td>\n",
       "    </tr>\n",
       "  </tbody>\n",
       "</table>\n",
       "</div>"
      ],
      "text/plain": [
       "   Age  Gender  Marital Status  Number of Children  Occupation    Salary  \\\n",
       "0   25       1               1                 5.0           0  53262.31   \n",
       "1   35       0               3                 4.0           1  66507.59   \n",
       "2   19       0               3                 4.0           2  67971.54   \n",
       "3   88       0               3                 0.0           0  58364.10   \n",
       "4   71       0               2                 4.0           3  75162.78   \n",
       "\n",
       "   Standard of Living  Party Membership  Rate of Voter Turnout  \\\n",
       "0                   1                 0                      1   \n",
       "1                   0                 0                      1   \n",
       "2                   2                 1                      1   \n",
       "3                   1                 1                      1   \n",
       "4                   2                 0                      2   \n",
       "\n",
       "   Most Important Issue  Engagement with Campaign  \\\n",
       "0                     4                         1   \n",
       "1                     3                         1   \n",
       "2                     4                         1   \n",
       "3                     4                         1   \n",
       "4                     3                         2   \n",
       "\n",
       "   Votes for Democrat (Last 8 years)  Votes for Republican (Last 8 years)  \\\n",
       "0                                  1                                    5   \n",
       "1                                  0                                    8   \n",
       "2                                  5                                    3   \n",
       "3                                  7                                    1   \n",
       "4                                  2                                    6   \n",
       "\n",
       "   Votes for Other Candidate (Last 8 years)  \n",
       "0                                         2  \n",
       "1                                         0  \n",
       "2                                         2  \n",
       "3                                         2  \n",
       "4                                         1  "
      ]
     },
     "execution_count": 87,
     "metadata": {},
     "output_type": "execute_result"
    }
   ],
   "source": [
    "rural.head()"
   ]
  },
  {
   "cell_type": "code",
   "execution_count": 88,
   "id": "141e5557",
   "metadata": {},
   "outputs": [],
   "source": [
    "scaler2=StandardScaler()"
   ]
  },
  {
   "cell_type": "code",
   "execution_count": 89,
   "id": "9913d7c8",
   "metadata": {},
   "outputs": [],
   "source": [
    "rural2=scaler2.fit_transform(rural)   #Scale the data"
   ]
  },
  {
   "cell_type": "code",
   "execution_count": 90,
   "id": "1311f678",
   "metadata": {},
   "outputs": [],
   "source": [
    "rural2=pd.DataFrame(rural2, columns=rural.columns)   #Convert back to dataframe with correct column name"
   ]
  },
  {
   "cell_type": "code",
   "execution_count": 91,
   "id": "66639206",
   "metadata": {},
   "outputs": [
    {
     "data": {
      "text/html": [
       "<div>\n",
       "<style scoped>\n",
       "    .dataframe tbody tr th:only-of-type {\n",
       "        vertical-align: middle;\n",
       "    }\n",
       "\n",
       "    .dataframe tbody tr th {\n",
       "        vertical-align: top;\n",
       "    }\n",
       "\n",
       "    .dataframe thead th {\n",
       "        text-align: right;\n",
       "    }\n",
       "</style>\n",
       "<table border=\"1\" class=\"dataframe\">\n",
       "  <thead>\n",
       "    <tr style=\"text-align: right;\">\n",
       "      <th></th>\n",
       "      <th>Age</th>\n",
       "      <th>Gender</th>\n",
       "      <th>Marital Status</th>\n",
       "      <th>Number of Children</th>\n",
       "      <th>Occupation</th>\n",
       "      <th>Salary</th>\n",
       "      <th>Standard of Living</th>\n",
       "      <th>Party Membership</th>\n",
       "      <th>Rate of Voter Turnout</th>\n",
       "      <th>Most Important Issue</th>\n",
       "      <th>Engagement with Campaign</th>\n",
       "      <th>Votes for Democrat (Last 8 years)</th>\n",
       "      <th>Votes for Republican (Last 8 years)</th>\n",
       "      <th>Votes for Other Candidate (Last 8 years)</th>\n",
       "    </tr>\n",
       "  </thead>\n",
       "  <tbody>\n",
       "    <tr>\n",
       "      <th>0</th>\n",
       "      <td>-1.377577</td>\n",
       "      <td>0.730126</td>\n",
       "      <td>-0.449652</td>\n",
       "      <td>1.518183</td>\n",
       "      <td>-1.563236</td>\n",
       "      <td>-0.021032</td>\n",
       "      <td>0.002127</td>\n",
       "      <td>-0.855195</td>\n",
       "      <td>-0.139670</td>\n",
       "      <td>1.412764</td>\n",
       "      <td>-0.266943</td>\n",
       "      <td>-1.104204</td>\n",
       "      <td>0.283720</td>\n",
       "      <td>1.221061</td>\n",
       "    </tr>\n",
       "    <tr>\n",
       "      <th>1</th>\n",
       "      <td>-0.903434</td>\n",
       "      <td>-0.976053</td>\n",
       "      <td>1.338965</td>\n",
       "      <td>0.918576</td>\n",
       "      <td>-1.215309</td>\n",
       "      <td>0.253091</td>\n",
       "      <td>-1.221972</td>\n",
       "      <td>-0.855195</td>\n",
       "      <td>-0.139670</td>\n",
       "      <td>0.706113</td>\n",
       "      <td>-0.266943</td>\n",
       "      <td>-1.514855</td>\n",
       "      <td>1.518736</td>\n",
       "      <td>-1.227647</td>\n",
       "    </tr>\n",
       "    <tr>\n",
       "      <th>2</th>\n",
       "      <td>-1.662063</td>\n",
       "      <td>-0.976053</td>\n",
       "      <td>1.338965</td>\n",
       "      <td>0.918576</td>\n",
       "      <td>-0.867382</td>\n",
       "      <td>0.283388</td>\n",
       "      <td>1.226227</td>\n",
       "      <td>1.169324</td>\n",
       "      <td>-0.139670</td>\n",
       "      <td>1.412764</td>\n",
       "      <td>-0.266943</td>\n",
       "      <td>0.538398</td>\n",
       "      <td>-0.539625</td>\n",
       "      <td>1.221061</td>\n",
       "    </tr>\n",
       "    <tr>\n",
       "      <th>3</th>\n",
       "      <td>1.609526</td>\n",
       "      <td>-0.976053</td>\n",
       "      <td>1.338965</td>\n",
       "      <td>-1.479850</td>\n",
       "      <td>-1.563236</td>\n",
       "      <td>0.084554</td>\n",
       "      <td>0.002127</td>\n",
       "      <td>1.169324</td>\n",
       "      <td>-0.139670</td>\n",
       "      <td>1.412764</td>\n",
       "      <td>-0.266943</td>\n",
       "      <td>1.359699</td>\n",
       "      <td>-1.362970</td>\n",
       "      <td>1.221061</td>\n",
       "    </tr>\n",
       "    <tr>\n",
       "      <th>4</th>\n",
       "      <td>0.803482</td>\n",
       "      <td>-0.976053</td>\n",
       "      <td>0.444656</td>\n",
       "      <td>0.918576</td>\n",
       "      <td>-0.519456</td>\n",
       "      <td>0.432217</td>\n",
       "      <td>1.226227</td>\n",
       "      <td>-0.855195</td>\n",
       "      <td>1.507034</td>\n",
       "      <td>0.706113</td>\n",
       "      <td>1.460102</td>\n",
       "      <td>-0.693554</td>\n",
       "      <td>0.695392</td>\n",
       "      <td>-0.003293</td>\n",
       "    </tr>\n",
       "  </tbody>\n",
       "</table>\n",
       "</div>"
      ],
      "text/plain": [
       "        Age    Gender  Marital Status  Number of Children  Occupation  \\\n",
       "0 -1.377577  0.730126       -0.449652            1.518183   -1.563236   \n",
       "1 -0.903434 -0.976053        1.338965            0.918576   -1.215309   \n",
       "2 -1.662063 -0.976053        1.338965            0.918576   -0.867382   \n",
       "3  1.609526 -0.976053        1.338965           -1.479850   -1.563236   \n",
       "4  0.803482 -0.976053        0.444656            0.918576   -0.519456   \n",
       "\n",
       "     Salary  Standard of Living  Party Membership  Rate of Voter Turnout  \\\n",
       "0 -0.021032            0.002127         -0.855195              -0.139670   \n",
       "1  0.253091           -1.221972         -0.855195              -0.139670   \n",
       "2  0.283388            1.226227          1.169324              -0.139670   \n",
       "3  0.084554            0.002127          1.169324              -0.139670   \n",
       "4  0.432217            1.226227         -0.855195               1.507034   \n",
       "\n",
       "   Most Important Issue  Engagement with Campaign  \\\n",
       "0              1.412764                 -0.266943   \n",
       "1              0.706113                 -0.266943   \n",
       "2              1.412764                 -0.266943   \n",
       "3              1.412764                 -0.266943   \n",
       "4              0.706113                  1.460102   \n",
       "\n",
       "   Votes for Democrat (Last 8 years)  Votes for Republican (Last 8 years)  \\\n",
       "0                          -1.104204                             0.283720   \n",
       "1                          -1.514855                             1.518736   \n",
       "2                           0.538398                            -0.539625   \n",
       "3                           1.359699                            -1.362970   \n",
       "4                          -0.693554                             0.695392   \n",
       "\n",
       "   Votes for Other Candidate (Last 8 years)  \n",
       "0                                  1.221061  \n",
       "1                                 -1.227647  \n",
       "2                                  1.221061  \n",
       "3                                  1.221061  \n",
       "4                                 -0.003293  "
      ]
     },
     "execution_count": 91,
     "metadata": {},
     "output_type": "execute_result"
    }
   ],
   "source": [
    "rural2.head()"
   ]
  },
  {
   "cell_type": "code",
   "execution_count": 92,
   "id": "3f998945",
   "metadata": {},
   "outputs": [
    {
     "data": {
      "text/html": [
       "<style>#sk-container-id-2 {\n",
       "  /* Definition of color scheme common for light and dark mode */\n",
       "  --sklearn-color-text: black;\n",
       "  --sklearn-color-line: gray;\n",
       "  /* Definition of color scheme for unfitted estimators */\n",
       "  --sklearn-color-unfitted-level-0: #fff5e6;\n",
       "  --sklearn-color-unfitted-level-1: #f6e4d2;\n",
       "  --sklearn-color-unfitted-level-2: #ffe0b3;\n",
       "  --sklearn-color-unfitted-level-3: chocolate;\n",
       "  /* Definition of color scheme for fitted estimators */\n",
       "  --sklearn-color-fitted-level-0: #f0f8ff;\n",
       "  --sklearn-color-fitted-level-1: #d4ebff;\n",
       "  --sklearn-color-fitted-level-2: #b3dbfd;\n",
       "  --sklearn-color-fitted-level-3: cornflowerblue;\n",
       "\n",
       "  /* Specific color for light theme */\n",
       "  --sklearn-color-text-on-default-background: var(--sg-text-color, var(--theme-code-foreground, var(--jp-content-font-color1, black)));\n",
       "  --sklearn-color-background: var(--sg-background-color, var(--theme-background, var(--jp-layout-color0, white)));\n",
       "  --sklearn-color-border-box: var(--sg-text-color, var(--theme-code-foreground, var(--jp-content-font-color1, black)));\n",
       "  --sklearn-color-icon: #696969;\n",
       "\n",
       "  @media (prefers-color-scheme: dark) {\n",
       "    /* Redefinition of color scheme for dark theme */\n",
       "    --sklearn-color-text-on-default-background: var(--sg-text-color, var(--theme-code-foreground, var(--jp-content-font-color1, white)));\n",
       "    --sklearn-color-background: var(--sg-background-color, var(--theme-background, var(--jp-layout-color0, #111)));\n",
       "    --sklearn-color-border-box: var(--sg-text-color, var(--theme-code-foreground, var(--jp-content-font-color1, white)));\n",
       "    --sklearn-color-icon: #878787;\n",
       "  }\n",
       "}\n",
       "\n",
       "#sk-container-id-2 {\n",
       "  color: var(--sklearn-color-text);\n",
       "}\n",
       "\n",
       "#sk-container-id-2 pre {\n",
       "  padding: 0;\n",
       "}\n",
       "\n",
       "#sk-container-id-2 input.sk-hidden--visually {\n",
       "  border: 0;\n",
       "  clip: rect(1px 1px 1px 1px);\n",
       "  clip: rect(1px, 1px, 1px, 1px);\n",
       "  height: 1px;\n",
       "  margin: -1px;\n",
       "  overflow: hidden;\n",
       "  padding: 0;\n",
       "  position: absolute;\n",
       "  width: 1px;\n",
       "}\n",
       "\n",
       "#sk-container-id-2 div.sk-dashed-wrapped {\n",
       "  border: 1px dashed var(--sklearn-color-line);\n",
       "  margin: 0 0.4em 0.5em 0.4em;\n",
       "  box-sizing: border-box;\n",
       "  padding-bottom: 0.4em;\n",
       "  background-color: var(--sklearn-color-background);\n",
       "}\n",
       "\n",
       "#sk-container-id-2 div.sk-container {\n",
       "  /* jupyter's `normalize.less` sets `[hidden] { display: none; }`\n",
       "     but bootstrap.min.css set `[hidden] { display: none !important; }`\n",
       "     so we also need the `!important` here to be able to override the\n",
       "     default hidden behavior on the sphinx rendered scikit-learn.org.\n",
       "     See: https://github.com/scikit-learn/scikit-learn/issues/21755 */\n",
       "  display: inline-block !important;\n",
       "  position: relative;\n",
       "}\n",
       "\n",
       "#sk-container-id-2 div.sk-text-repr-fallback {\n",
       "  display: none;\n",
       "}\n",
       "\n",
       "div.sk-parallel-item,\n",
       "div.sk-serial,\n",
       "div.sk-item {\n",
       "  /* draw centered vertical line to link estimators */\n",
       "  background-image: linear-gradient(var(--sklearn-color-text-on-default-background), var(--sklearn-color-text-on-default-background));\n",
       "  background-size: 2px 100%;\n",
       "  background-repeat: no-repeat;\n",
       "  background-position: center center;\n",
       "}\n",
       "\n",
       "/* Parallel-specific style estimator block */\n",
       "\n",
       "#sk-container-id-2 div.sk-parallel-item::after {\n",
       "  content: \"\";\n",
       "  width: 100%;\n",
       "  border-bottom: 2px solid var(--sklearn-color-text-on-default-background);\n",
       "  flex-grow: 1;\n",
       "}\n",
       "\n",
       "#sk-container-id-2 div.sk-parallel {\n",
       "  display: flex;\n",
       "  align-items: stretch;\n",
       "  justify-content: center;\n",
       "  background-color: var(--sklearn-color-background);\n",
       "  position: relative;\n",
       "}\n",
       "\n",
       "#sk-container-id-2 div.sk-parallel-item {\n",
       "  display: flex;\n",
       "  flex-direction: column;\n",
       "}\n",
       "\n",
       "#sk-container-id-2 div.sk-parallel-item:first-child::after {\n",
       "  align-self: flex-end;\n",
       "  width: 50%;\n",
       "}\n",
       "\n",
       "#sk-container-id-2 div.sk-parallel-item:last-child::after {\n",
       "  align-self: flex-start;\n",
       "  width: 50%;\n",
       "}\n",
       "\n",
       "#sk-container-id-2 div.sk-parallel-item:only-child::after {\n",
       "  width: 0;\n",
       "}\n",
       "\n",
       "/* Serial-specific style estimator block */\n",
       "\n",
       "#sk-container-id-2 div.sk-serial {\n",
       "  display: flex;\n",
       "  flex-direction: column;\n",
       "  align-items: center;\n",
       "  background-color: var(--sklearn-color-background);\n",
       "  padding-right: 1em;\n",
       "  padding-left: 1em;\n",
       "}\n",
       "\n",
       "\n",
       "/* Toggleable style: style used for estimator/Pipeline/ColumnTransformer box that is\n",
       "clickable and can be expanded/collapsed.\n",
       "- Pipeline and ColumnTransformer use this feature and define the default style\n",
       "- Estimators will overwrite some part of the style using the `sk-estimator` class\n",
       "*/\n",
       "\n",
       "/* Pipeline and ColumnTransformer style (default) */\n",
       "\n",
       "#sk-container-id-2 div.sk-toggleable {\n",
       "  /* Default theme specific background. It is overwritten whether we have a\n",
       "  specific estimator or a Pipeline/ColumnTransformer */\n",
       "  background-color: var(--sklearn-color-background);\n",
       "}\n",
       "\n",
       "/* Toggleable label */\n",
       "#sk-container-id-2 label.sk-toggleable__label {\n",
       "  cursor: pointer;\n",
       "  display: block;\n",
       "  width: 100%;\n",
       "  margin-bottom: 0;\n",
       "  padding: 0.5em;\n",
       "  box-sizing: border-box;\n",
       "  text-align: center;\n",
       "}\n",
       "\n",
       "#sk-container-id-2 label.sk-toggleable__label-arrow:before {\n",
       "  /* Arrow on the left of the label */\n",
       "  content: \"▸\";\n",
       "  float: left;\n",
       "  margin-right: 0.25em;\n",
       "  color: var(--sklearn-color-icon);\n",
       "}\n",
       "\n",
       "#sk-container-id-2 label.sk-toggleable__label-arrow:hover:before {\n",
       "  color: var(--sklearn-color-text);\n",
       "}\n",
       "\n",
       "/* Toggleable content - dropdown */\n",
       "\n",
       "#sk-container-id-2 div.sk-toggleable__content {\n",
       "  max-height: 0;\n",
       "  max-width: 0;\n",
       "  overflow: hidden;\n",
       "  text-align: left;\n",
       "  /* unfitted */\n",
       "  background-color: var(--sklearn-color-unfitted-level-0);\n",
       "}\n",
       "\n",
       "#sk-container-id-2 div.sk-toggleable__content.fitted {\n",
       "  /* fitted */\n",
       "  background-color: var(--sklearn-color-fitted-level-0);\n",
       "}\n",
       "\n",
       "#sk-container-id-2 div.sk-toggleable__content pre {\n",
       "  margin: 0.2em;\n",
       "  border-radius: 0.25em;\n",
       "  color: var(--sklearn-color-text);\n",
       "  /* unfitted */\n",
       "  background-color: var(--sklearn-color-unfitted-level-0);\n",
       "}\n",
       "\n",
       "#sk-container-id-2 div.sk-toggleable__content.fitted pre {\n",
       "  /* unfitted */\n",
       "  background-color: var(--sklearn-color-fitted-level-0);\n",
       "}\n",
       "\n",
       "#sk-container-id-2 input.sk-toggleable__control:checked~div.sk-toggleable__content {\n",
       "  /* Expand drop-down */\n",
       "  max-height: 200px;\n",
       "  max-width: 100%;\n",
       "  overflow: auto;\n",
       "}\n",
       "\n",
       "#sk-container-id-2 input.sk-toggleable__control:checked~label.sk-toggleable__label-arrow:before {\n",
       "  content: \"▾\";\n",
       "}\n",
       "\n",
       "/* Pipeline/ColumnTransformer-specific style */\n",
       "\n",
       "#sk-container-id-2 div.sk-label input.sk-toggleable__control:checked~label.sk-toggleable__label {\n",
       "  color: var(--sklearn-color-text);\n",
       "  background-color: var(--sklearn-color-unfitted-level-2);\n",
       "}\n",
       "\n",
       "#sk-container-id-2 div.sk-label.fitted input.sk-toggleable__control:checked~label.sk-toggleable__label {\n",
       "  background-color: var(--sklearn-color-fitted-level-2);\n",
       "}\n",
       "\n",
       "/* Estimator-specific style */\n",
       "\n",
       "/* Colorize estimator box */\n",
       "#sk-container-id-2 div.sk-estimator input.sk-toggleable__control:checked~label.sk-toggleable__label {\n",
       "  /* unfitted */\n",
       "  background-color: var(--sklearn-color-unfitted-level-2);\n",
       "}\n",
       "\n",
       "#sk-container-id-2 div.sk-estimator.fitted input.sk-toggleable__control:checked~label.sk-toggleable__label {\n",
       "  /* fitted */\n",
       "  background-color: var(--sklearn-color-fitted-level-2);\n",
       "}\n",
       "\n",
       "#sk-container-id-2 div.sk-label label.sk-toggleable__label,\n",
       "#sk-container-id-2 div.sk-label label {\n",
       "  /* The background is the default theme color */\n",
       "  color: var(--sklearn-color-text-on-default-background);\n",
       "}\n",
       "\n",
       "/* On hover, darken the color of the background */\n",
       "#sk-container-id-2 div.sk-label:hover label.sk-toggleable__label {\n",
       "  color: var(--sklearn-color-text);\n",
       "  background-color: var(--sklearn-color-unfitted-level-2);\n",
       "}\n",
       "\n",
       "/* Label box, darken color on hover, fitted */\n",
       "#sk-container-id-2 div.sk-label.fitted:hover label.sk-toggleable__label.fitted {\n",
       "  color: var(--sklearn-color-text);\n",
       "  background-color: var(--sklearn-color-fitted-level-2);\n",
       "}\n",
       "\n",
       "/* Estimator label */\n",
       "\n",
       "#sk-container-id-2 div.sk-label label {\n",
       "  font-family: monospace;\n",
       "  font-weight: bold;\n",
       "  display: inline-block;\n",
       "  line-height: 1.2em;\n",
       "}\n",
       "\n",
       "#sk-container-id-2 div.sk-label-container {\n",
       "  text-align: center;\n",
       "}\n",
       "\n",
       "/* Estimator-specific */\n",
       "#sk-container-id-2 div.sk-estimator {\n",
       "  font-family: monospace;\n",
       "  border: 1px dotted var(--sklearn-color-border-box);\n",
       "  border-radius: 0.25em;\n",
       "  box-sizing: border-box;\n",
       "  margin-bottom: 0.5em;\n",
       "  /* unfitted */\n",
       "  background-color: var(--sklearn-color-unfitted-level-0);\n",
       "}\n",
       "\n",
       "#sk-container-id-2 div.sk-estimator.fitted {\n",
       "  /* fitted */\n",
       "  background-color: var(--sklearn-color-fitted-level-0);\n",
       "}\n",
       "\n",
       "/* on hover */\n",
       "#sk-container-id-2 div.sk-estimator:hover {\n",
       "  /* unfitted */\n",
       "  background-color: var(--sklearn-color-unfitted-level-2);\n",
       "}\n",
       "\n",
       "#sk-container-id-2 div.sk-estimator.fitted:hover {\n",
       "  /* fitted */\n",
       "  background-color: var(--sklearn-color-fitted-level-2);\n",
       "}\n",
       "\n",
       "/* Specification for estimator info (e.g. \"i\" and \"?\") */\n",
       "\n",
       "/* Common style for \"i\" and \"?\" */\n",
       "\n",
       ".sk-estimator-doc-link,\n",
       "a:link.sk-estimator-doc-link,\n",
       "a:visited.sk-estimator-doc-link {\n",
       "  float: right;\n",
       "  font-size: smaller;\n",
       "  line-height: 1em;\n",
       "  font-family: monospace;\n",
       "  background-color: var(--sklearn-color-background);\n",
       "  border-radius: 1em;\n",
       "  height: 1em;\n",
       "  width: 1em;\n",
       "  text-decoration: none !important;\n",
       "  margin-left: 1ex;\n",
       "  /* unfitted */\n",
       "  border: var(--sklearn-color-unfitted-level-1) 1pt solid;\n",
       "  color: var(--sklearn-color-unfitted-level-1);\n",
       "}\n",
       "\n",
       ".sk-estimator-doc-link.fitted,\n",
       "a:link.sk-estimator-doc-link.fitted,\n",
       "a:visited.sk-estimator-doc-link.fitted {\n",
       "  /* fitted */\n",
       "  border: var(--sklearn-color-fitted-level-1) 1pt solid;\n",
       "  color: var(--sklearn-color-fitted-level-1);\n",
       "}\n",
       "\n",
       "/* On hover */\n",
       "div.sk-estimator:hover .sk-estimator-doc-link:hover,\n",
       ".sk-estimator-doc-link:hover,\n",
       "div.sk-label-container:hover .sk-estimator-doc-link:hover,\n",
       ".sk-estimator-doc-link:hover {\n",
       "  /* unfitted */\n",
       "  background-color: var(--sklearn-color-unfitted-level-3);\n",
       "  color: var(--sklearn-color-background);\n",
       "  text-decoration: none;\n",
       "}\n",
       "\n",
       "div.sk-estimator.fitted:hover .sk-estimator-doc-link.fitted:hover,\n",
       ".sk-estimator-doc-link.fitted:hover,\n",
       "div.sk-label-container:hover .sk-estimator-doc-link.fitted:hover,\n",
       ".sk-estimator-doc-link.fitted:hover {\n",
       "  /* fitted */\n",
       "  background-color: var(--sklearn-color-fitted-level-3);\n",
       "  color: var(--sklearn-color-background);\n",
       "  text-decoration: none;\n",
       "}\n",
       "\n",
       "/* Span, style for the box shown on hovering the info icon */\n",
       ".sk-estimator-doc-link span {\n",
       "  display: none;\n",
       "  z-index: 9999;\n",
       "  position: relative;\n",
       "  font-weight: normal;\n",
       "  right: .2ex;\n",
       "  padding: .5ex;\n",
       "  margin: .5ex;\n",
       "  width: min-content;\n",
       "  min-width: 20ex;\n",
       "  max-width: 50ex;\n",
       "  color: var(--sklearn-color-text);\n",
       "  box-shadow: 2pt 2pt 4pt #999;\n",
       "  /* unfitted */\n",
       "  background: var(--sklearn-color-unfitted-level-0);\n",
       "  border: .5pt solid var(--sklearn-color-unfitted-level-3);\n",
       "}\n",
       "\n",
       ".sk-estimator-doc-link.fitted span {\n",
       "  /* fitted */\n",
       "  background: var(--sklearn-color-fitted-level-0);\n",
       "  border: var(--sklearn-color-fitted-level-3);\n",
       "}\n",
       "\n",
       ".sk-estimator-doc-link:hover span {\n",
       "  display: block;\n",
       "}\n",
       "\n",
       "/* \"?\"-specific style due to the `<a>` HTML tag */\n",
       "\n",
       "#sk-container-id-2 a.estimator_doc_link {\n",
       "  float: right;\n",
       "  font-size: 1rem;\n",
       "  line-height: 1em;\n",
       "  font-family: monospace;\n",
       "  background-color: var(--sklearn-color-background);\n",
       "  border-radius: 1rem;\n",
       "  height: 1rem;\n",
       "  width: 1rem;\n",
       "  text-decoration: none;\n",
       "  /* unfitted */\n",
       "  color: var(--sklearn-color-unfitted-level-1);\n",
       "  border: var(--sklearn-color-unfitted-level-1) 1pt solid;\n",
       "}\n",
       "\n",
       "#sk-container-id-2 a.estimator_doc_link.fitted {\n",
       "  /* fitted */\n",
       "  border: var(--sklearn-color-fitted-level-1) 1pt solid;\n",
       "  color: var(--sklearn-color-fitted-level-1);\n",
       "}\n",
       "\n",
       "/* On hover */\n",
       "#sk-container-id-2 a.estimator_doc_link:hover {\n",
       "  /* unfitted */\n",
       "  background-color: var(--sklearn-color-unfitted-level-3);\n",
       "  color: var(--sklearn-color-background);\n",
       "  text-decoration: none;\n",
       "}\n",
       "\n",
       "#sk-container-id-2 a.estimator_doc_link.fitted:hover {\n",
       "  /* fitted */\n",
       "  background-color: var(--sklearn-color-fitted-level-3);\n",
       "}\n",
       "</style><div id=\"sk-container-id-2\" class=\"sk-top-container\"><div class=\"sk-text-repr-fallback\"><pre>PCA()</pre><b>In a Jupyter environment, please rerun this cell to show the HTML representation or trust the notebook. <br />On GitHub, the HTML representation is unable to render, please try loading this page with nbviewer.org.</b></div><div class=\"sk-container\" hidden><div class=\"sk-item\"><div class=\"sk-estimator fitted sk-toggleable\"><input class=\"sk-toggleable__control sk-hidden--visually\" id=\"sk-estimator-id-2\" type=\"checkbox\" checked><label for=\"sk-estimator-id-2\" class=\"sk-toggleable__label fitted sk-toggleable__label-arrow fitted\">&nbsp;&nbsp;PCA<a class=\"sk-estimator-doc-link fitted\" rel=\"noreferrer\" target=\"_blank\" href=\"https://scikit-learn.org/1.5/modules/generated/sklearn.decomposition.PCA.html\">?<span>Documentation for PCA</span></a><span class=\"sk-estimator-doc-link fitted\">i<span>Fitted</span></span></label><div class=\"sk-toggleable__content fitted\"><pre>PCA()</pre></div> </div></div></div></div>"
      ],
      "text/plain": [
       "PCA()"
      ]
     },
     "execution_count": 92,
     "metadata": {},
     "output_type": "execute_result"
    }
   ],
   "source": [
    "pca2=PCA()\n",
    "pca2.fit(rural2)"
   ]
  },
  {
   "cell_type": "code",
   "execution_count": 93,
   "id": "5cd2a000",
   "metadata": {},
   "outputs": [
    {
     "data": {
      "text/plain": [
       "Text(0.5, 1.0, 'Num of Components vs Variance Explained (Rural)')"
      ]
     },
     "execution_count": 93,
     "metadata": {},
     "output_type": "execute_result"
    },
    {
     "data": {
      "image/png": "[encoded data removed]",
      "text/plain": [
       "<Figure size 432x288 with 1 Axes>"
      ]
     },
     "metadata": {
      "needs_background": "light"
     },
     "output_type": "display_data"
    }
   ],
   "source": [
    "plt.plot(np.cumsum(pca2.explained_variance_ratio_))  #Cumulative sum plot of explained variance ration\n",
    "plt.xlabel(\"Number of Components\")\n",
    "plt.ylabel(\"Explained Variance\")\n",
    "plt.title(\"Num of Components vs Variance Explained (Rural)\")"
   ]
  },
  {
   "cell_type": "markdown",
   "id": "a3842b22",
   "metadata": {},
   "source": [
    "Again, it seems 10 components explain about 90%-95% of the variance, so we will use n_components to be 10."
   ]
  },
  {
   "cell_type": "code",
   "execution_count": 94,
   "id": "3a82c21f",
   "metadata": {},
   "outputs": [],
   "source": [
    "pca2=PCA(n_components=10, random_state=34)"
   ]
  },
  {
   "cell_type": "code",
   "execution_count": 95,
   "id": "77fa2309",
   "metadata": {},
   "outputs": [],
   "source": [
    "pca_x2=pca2.fit_transform(rural2)"
   ]
  },
  {
   "cell_type": "code",
   "execution_count": 96,
   "id": "8b245dd8",
   "metadata": {},
   "outputs": [],
   "source": [
    "components2=pca2.components_"
   ]
  },
  {
   "cell_type": "code",
   "execution_count": 97,
   "id": "fc7188e2",
   "metadata": {},
   "outputs": [],
   "source": [
    "feature_names = [\"Age\", \"Gender\", \"Marital Status\", \"Number of Children\", \"Occupation\", \"Salary\", \"Standard of Living\", \"Party Membership\", \"Rate of Voter Turnout\", \"Most Important Issue\", \"Engagement with Campaign\", \"Votes for Democrat (Last 8 years)\", \"Votes for Republican (Last 8 years)\", \"Votes for Other Candidate (Last 8 years)\"]  "
   ]
  },
  {
   "cell_type": "code",
   "execution_count": 98,
   "id": "8ce2dcfe",
   "metadata": {},
   "outputs": [],
   "source": [
    "components_df2 = pd.DataFrame(components2, columns=feature_names, index=[f'PC{i+1}' for i in range(components2.shape[0])])"
   ]
  },
  {
   "cell_type": "code",
   "execution_count": 99,
   "id": "fb23c817",
   "metadata": {},
   "outputs": [
    {
     "name": "stdout",
     "output_type": "stream",
     "text": [
      "           Age    Gender  Marital Status  Number of Children  Occupation  \\\n",
      "PC1  -0.000676 -0.004213       -0.004742           -0.002108    0.050545   \n",
      "PC2  -0.002624  0.020113       -0.008061           -0.004864    0.006936   \n",
      "PC3   0.090878 -0.546619        0.138058           -0.377938   -0.281182   \n",
      "PC4  -0.186541 -0.145030        0.437692            0.205036   -0.248680   \n",
      "PC5   0.185538  0.110168       -0.153291            0.316044    0.356826   \n",
      "PC6   0.773337  0.046199       -0.337752            0.008550   -0.196673   \n",
      "PC7   0.305522  0.486159        0.662831           -0.060082   -0.263570   \n",
      "PC8  -0.034039 -0.294823       -0.071303            0.755524   -0.430936   \n",
      "PC9  -0.378970  0.056596       -0.179036           -0.190940   -0.037353   \n",
      "PC10 -0.217554  0.449218       -0.015337            0.264351    0.058134   \n",
      "\n",
      "        Salary  Standard of Living  Party Membership  Rate of Voter Turnout  \\\n",
      "PC1  -0.000779            0.000707          0.599132              -0.022784   \n",
      "PC2  -0.011870           -0.020077          0.039669               0.714461   \n",
      "PC3  -0.194277           -0.298109          0.005220               0.005938   \n",
      "PC4   0.583591            0.489934          0.008355               0.006310   \n",
      "PC5   0.078302           -0.121040         -0.007725              -0.019966   \n",
      "PC6   0.030210            0.421458          0.004077               0.000347   \n",
      "PC7  -0.324926           -0.052368          0.009548              -0.013839   \n",
      "PC8  -0.348502           -0.090153          0.012442               0.001742   \n",
      "PC9  -0.547395            0.636928         -0.000214               0.004109   \n",
      "PC10 -0.106031           -0.121404         -0.000606              -0.019770   \n",
      "\n",
      "      Most Important Issue  Engagement with Campaign  \\\n",
      "PC1              -0.002087                 -0.082283   \n",
      "PC2               0.031227                  0.694282   \n",
      "PC3               0.555266                 -0.025687   \n",
      "PC4               0.234731                  0.018325   \n",
      "PC5               0.298662                  0.004713   \n",
      "PC6               0.187615                  0.001742   \n",
      "PC7              -0.097793                  0.007486   \n",
      "PC8              -0.141788                  0.010841   \n",
      "PC9               0.104124                 -0.004731   \n",
      "PC10              0.685122                 -0.030264   \n",
      "\n",
      "      Votes for Democrat (Last 8 years)  Votes for Republican (Last 8 years)  \\\n",
      "PC1                            0.561756                            -0.561758   \n",
      "PC2                            0.043963                            -0.043953   \n",
      "PC3                            0.008737                            -0.005838   \n",
      "PC4                            0.012843                            -0.008160   \n",
      "PC5                           -0.009456                             0.009576   \n",
      "PC6                            0.005090                            -0.006567   \n",
      "PC7                            0.009575                            -0.013809   \n",
      "PC8                            0.012000                            -0.014255   \n",
      "PC9                            0.001668                             0.001149   \n",
      "PC10                          -0.002932                             0.001826   \n",
      "\n",
      "      Votes for Other Candidate (Last 8 years)  \n",
      "PC1                                  -0.001930  \n",
      "PC2                                  -0.003371  \n",
      "PC3                                   0.127373  \n",
      "PC4                                   0.111012  \n",
      "PC5                                   0.769474  \n",
      "PC6                                  -0.182093  \n",
      "PC7                                   0.198439  \n",
      "PC8                                   0.002480  \n",
      "PC9                                   0.258973  \n",
      "PC10                                 -0.425071  \n"
     ]
    }
   ],
   "source": [
    "print(components_df2)  #Get PCA contribution by features."
   ]
  },
  {
   "cell_type": "code",
   "execution_count": null,
   "id": "a8add394",
   "metadata": {},
   "outputs": [],
   "source": []
  },
  {
   "cell_type": "code",
   "execution_count": 100,
   "id": "8643c9cc",
   "metadata": {},
   "outputs": [],
   "source": [
    "aic=[]    #Try a new components and check aic\n",
    "for i in range(1,8):\n",
    "    gm4=GaussianMixture(n_components=i, random_state=430)\n",
    "    gm4.fit(pca_x2)\n",
    "    aic.append(gm4.aic(pca_x2))"
   ]
  },
  {
   "cell_type": "code",
   "execution_count": 101,
   "id": "3bf9ad6a",
   "metadata": {},
   "outputs": [
    {
     "data": {
      "text/plain": [
       "Text(0.5, 1.0, 'AIC Against Number of Clusters (Rural)')"
      ]
     },
     "execution_count": 101,
     "metadata": {},
     "output_type": "execute_result"
    },
    {
     "data": {
      "image/png": "[encoded data removed]",
      "text/plain": [
       "<Figure size 432x288 with 1 Axes>"
      ]
     },
     "metadata": {
      "needs_background": "light"
     },
     "output_type": "display_data"
    }
   ],
   "source": [
    "plt.plot(range(1,8), aic, marker='o')  #Plot of AIC vs components\n",
    "plt.xlabel(\"Clusters\")\n",
    "plt.ylabel(\"AIC\")\n",
    "plt.title(\"AIC Against Number of Clusters (Rural)\")"
   ]
  },
  {
   "cell_type": "code",
   "execution_count": 102,
   "id": "822aa3c6",
   "metadata": {},
   "outputs": [
    {
     "data": {
      "text/plain": [
       "6"
      ]
     },
     "execution_count": 102,
     "metadata": {},
     "output_type": "execute_result"
    }
   ],
   "source": [
    "np.argmin(aic)+1 #Find index of lowest aic add one due to index starting at 0"
   ]
  },
  {
   "cell_type": "markdown",
   "id": "13a63e65",
   "metadata": {},
   "source": [
    "It looks like the AIC is suggesting 6 components for the GMM model."
   ]
  },
  {
   "cell_type": "code",
   "execution_count": 103,
   "id": "149fe128",
   "metadata": {},
   "outputs": [],
   "source": [
    "gm5=GaussianMixture(n_components=6, random_state=14)  #Fit gmm with 6 cluster suggested by AIC"
   ]
  },
  {
   "cell_type": "code",
   "execution_count": 104,
   "id": "beba6ef1",
   "metadata": {},
   "outputs": [
    {
     "data": {
      "text/html": [
       "<style>#sk-container-id-3 {\n",
       "  /* Definition of color scheme common for light and dark mode */\n",
       "  --sklearn-color-text: black;\n",
       "  --sklearn-color-line: gray;\n",
       "  /* Definition of color scheme for unfitted estimators */\n",
       "  --sklearn-color-unfitted-level-0: #fff5e6;\n",
       "  --sklearn-color-unfitted-level-1: #f6e4d2;\n",
       "  --sklearn-color-unfitted-level-2: #ffe0b3;\n",
       "  --sklearn-color-unfitted-level-3: chocolate;\n",
       "  /* Definition of color scheme for fitted estimators */\n",
       "  --sklearn-color-fitted-level-0: #f0f8ff;\n",
       "  --sklearn-color-fitted-level-1: #d4ebff;\n",
       "  --sklearn-color-fitted-level-2: #b3dbfd;\n",
       "  --sklearn-color-fitted-level-3: cornflowerblue;\n",
       "\n",
       "  /* Specific color for light theme */\n",
       "  --sklearn-color-text-on-default-background: var(--sg-text-color, var(--theme-code-foreground, var(--jp-content-font-color1, black)));\n",
       "  --sklearn-color-background: var(--sg-background-color, var(--theme-background, var(--jp-layout-color0, white)));\n",
       "  --sklearn-color-border-box: var(--sg-text-color, var(--theme-code-foreground, var(--jp-content-font-color1, black)));\n",
       "  --sklearn-color-icon: #696969;\n",
       "\n",
       "  @media (prefers-color-scheme: dark) {\n",
       "    /* Redefinition of color scheme for dark theme */\n",
       "    --sklearn-color-text-on-default-background: var(--sg-text-color, var(--theme-code-foreground, var(--jp-content-font-color1, white)));\n",
       "    --sklearn-color-background: var(--sg-background-color, var(--theme-background, var(--jp-layout-color0, #111)));\n",
       "    --sklearn-color-border-box: var(--sg-text-color, var(--theme-code-foreground, var(--jp-content-font-color1, white)));\n",
       "    --sklearn-color-icon: #878787;\n",
       "  }\n",
       "}\n",
       "\n",
       "#sk-container-id-3 {\n",
       "  color: var(--sklearn-color-text);\n",
       "}\n",
       "\n",
       "#sk-container-id-3 pre {\n",
       "  padding: 0;\n",
       "}\n",
       "\n",
       "#sk-container-id-3 input.sk-hidden--visually {\n",
       "  border: 0;\n",
       "  clip: rect(1px 1px 1px 1px);\n",
       "  clip: rect(1px, 1px, 1px, 1px);\n",
       "  height: 1px;\n",
       "  margin: -1px;\n",
       "  overflow: hidden;\n",
       "  padding: 0;\n",
       "  position: absolute;\n",
       "  width: 1px;\n",
       "}\n",
       "\n",
       "#sk-container-id-3 div.sk-dashed-wrapped {\n",
       "  border: 1px dashed var(--sklearn-color-line);\n",
       "  margin: 0 0.4em 0.5em 0.4em;\n",
       "  box-sizing: border-box;\n",
       "  padding-bottom: 0.4em;\n",
       "  background-color: var(--sklearn-color-background);\n",
       "}\n",
       "\n",
       "#sk-container-id-3 div.sk-container {\n",
       "  /* jupyter's `normalize.less` sets `[hidden] { display: none; }`\n",
       "     but bootstrap.min.css set `[hidden] { display: none !important; }`\n",
       "     so we also need the `!important` here to be able to override the\n",
       "     default hidden behavior on the sphinx rendered scikit-learn.org.\n",
       "     See: https://github.com/scikit-learn/scikit-learn/issues/21755 */\n",
       "  display: inline-block !important;\n",
       "  position: relative;\n",
       "}\n",
       "\n",
       "#sk-container-id-3 div.sk-text-repr-fallback {\n",
       "  display: none;\n",
       "}\n",
       "\n",
       "div.sk-parallel-item,\n",
       "div.sk-serial,\n",
       "div.sk-item {\n",
       "  /* draw centered vertical line to link estimators */\n",
       "  background-image: linear-gradient(var(--sklearn-color-text-on-default-background), var(--sklearn-color-text-on-default-background));\n",
       "  background-size: 2px 100%;\n",
       "  background-repeat: no-repeat;\n",
       "  background-position: center center;\n",
       "}\n",
       "\n",
       "/* Parallel-specific style estimator block */\n",
       "\n",
       "#sk-container-id-3 div.sk-parallel-item::after {\n",
       "  content: \"\";\n",
       "  width: 100%;\n",
       "  border-bottom: 2px solid var(--sklearn-color-text-on-default-background);\n",
       "  flex-grow: 1;\n",
       "}\n",
       "\n",
       "#sk-container-id-3 div.sk-parallel {\n",
       "  display: flex;\n",
       "  align-items: stretch;\n",
       "  justify-content: center;\n",
       "  background-color: var(--sklearn-color-background);\n",
       "  position: relative;\n",
       "}\n",
       "\n",
       "#sk-container-id-3 div.sk-parallel-item {\n",
       "  display: flex;\n",
       "  flex-direction: column;\n",
       "}\n",
       "\n",
       "#sk-container-id-3 div.sk-parallel-item:first-child::after {\n",
       "  align-self: flex-end;\n",
       "  width: 50%;\n",
       "}\n",
       "\n",
       "#sk-container-id-3 div.sk-parallel-item:last-child::after {\n",
       "  align-self: flex-start;\n",
       "  width: 50%;\n",
       "}\n",
       "\n",
       "#sk-container-id-3 div.sk-parallel-item:only-child::after {\n",
       "  width: 0;\n",
       "}\n",
       "\n",
       "/* Serial-specific style estimator block */\n",
       "\n",
       "#sk-container-id-3 div.sk-serial {\n",
       "  display: flex;\n",
       "  flex-direction: column;\n",
       "  align-items: center;\n",
       "  background-color: var(--sklearn-color-background);\n",
       "  padding-right: 1em;\n",
       "  padding-left: 1em;\n",
       "}\n",
       "\n",
       "\n",
       "/* Toggleable style: style used for estimator/Pipeline/ColumnTransformer box that is\n",
       "clickable and can be expanded/collapsed.\n",
       "- Pipeline and ColumnTransformer use this feature and define the default style\n",
       "- Estimators will overwrite some part of the style using the `sk-estimator` class\n",
       "*/\n",
       "\n",
       "/* Pipeline and ColumnTransformer style (default) */\n",
       "\n",
       "#sk-container-id-3 div.sk-toggleable {\n",
       "  /* Default theme specific background. It is overwritten whether we have a\n",
       "  specific estimator or a Pipeline/ColumnTransformer */\n",
       "  background-color: var(--sklearn-color-background);\n",
       "}\n",
       "\n",
       "/* Toggleable label */\n",
       "#sk-container-id-3 label.sk-toggleable__label {\n",
       "  cursor: pointer;\n",
       "  display: block;\n",
       "  width: 100%;\n",
       "  margin-bottom: 0;\n",
       "  padding: 0.5em;\n",
       "  box-sizing: border-box;\n",
       "  text-align: center;\n",
       "}\n",
       "\n",
       "#sk-container-id-3 label.sk-toggleable__label-arrow:before {\n",
       "  /* Arrow on the left of the label */\n",
       "  content: \"▸\";\n",
       "  float: left;\n",
       "  margin-right: 0.25em;\n",
       "  color: var(--sklearn-color-icon);\n",
       "}\n",
       "\n",
       "#sk-container-id-3 label.sk-toggleable__label-arrow:hover:before {\n",
       "  color: var(--sklearn-color-text);\n",
       "}\n",
       "\n",
       "/* Toggleable content - dropdown */\n",
       "\n",
       "#sk-container-id-3 div.sk-toggleable__content {\n",
       "  max-height: 0;\n",
       "  max-width: 0;\n",
       "  overflow: hidden;\n",
       "  text-align: left;\n",
       "  /* unfitted */\n",
       "  background-color: var(--sklearn-color-unfitted-level-0);\n",
       "}\n",
       "\n",
       "#sk-container-id-3 div.sk-toggleable__content.fitted {\n",
       "  /* fitted */\n",
       "  background-color: var(--sklearn-color-fitted-level-0);\n",
       "}\n",
       "\n",
       "#sk-container-id-3 div.sk-toggleable__content pre {\n",
       "  margin: 0.2em;\n",
       "  border-radius: 0.25em;\n",
       "  color: var(--sklearn-color-text);\n",
       "  /* unfitted */\n",
       "  background-color: var(--sklearn-color-unfitted-level-0);\n",
       "}\n",
       "\n",
       "#sk-container-id-3 div.sk-toggleable__content.fitted pre {\n",
       "  /* unfitted */\n",
       "  background-color: var(--sklearn-color-fitted-level-0);\n",
       "}\n",
       "\n",
       "#sk-container-id-3 input.sk-toggleable__control:checked~div.sk-toggleable__content {\n",
       "  /* Expand drop-down */\n",
       "  max-height: 200px;\n",
       "  max-width: 100%;\n",
       "  overflow: auto;\n",
       "}\n",
       "\n",
       "#sk-container-id-3 input.sk-toggleable__control:checked~label.sk-toggleable__label-arrow:before {\n",
       "  content: \"▾\";\n",
       "}\n",
       "\n",
       "/* Pipeline/ColumnTransformer-specific style */\n",
       "\n",
       "#sk-container-id-3 div.sk-label input.sk-toggleable__control:checked~label.sk-toggleable__label {\n",
       "  color: var(--sklearn-color-text);\n",
       "  background-color: var(--sklearn-color-unfitted-level-2);\n",
       "}\n",
       "\n",
       "#sk-container-id-3 div.sk-label.fitted input.sk-toggleable__control:checked~label.sk-toggleable__label {\n",
       "  background-color: var(--sklearn-color-fitted-level-2);\n",
       "}\n",
       "\n",
       "/* Estimator-specific style */\n",
       "\n",
       "/* Colorize estimator box */\n",
       "#sk-container-id-3 div.sk-estimator input.sk-toggleable__control:checked~label.sk-toggleable__label {\n",
       "  /* unfitted */\n",
       "  background-color: var(--sklearn-color-unfitted-level-2);\n",
       "}\n",
       "\n",
       "#sk-container-id-3 div.sk-estimator.fitted input.sk-toggleable__control:checked~label.sk-toggleable__label {\n",
       "  /* fitted */\n",
       "  background-color: var(--sklearn-color-fitted-level-2);\n",
       "}\n",
       "\n",
       "#sk-container-id-3 div.sk-label label.sk-toggleable__label,\n",
       "#sk-container-id-3 div.sk-label label {\n",
       "  /* The background is the default theme color */\n",
       "  color: var(--sklearn-color-text-on-default-background);\n",
       "}\n",
       "\n",
       "/* On hover, darken the color of the background */\n",
       "#sk-container-id-3 div.sk-label:hover label.sk-toggleable__label {\n",
       "  color: var(--sklearn-color-text);\n",
       "  background-color: var(--sklearn-color-unfitted-level-2);\n",
       "}\n",
       "\n",
       "/* Label box, darken color on hover, fitted */\n",
       "#sk-container-id-3 div.sk-label.fitted:hover label.sk-toggleable__label.fitted {\n",
       "  color: var(--sklearn-color-text);\n",
       "  background-color: var(--sklearn-color-fitted-level-2);\n",
       "}\n",
       "\n",
       "/* Estimator label */\n",
       "\n",
       "#sk-container-id-3 div.sk-label label {\n",
       "  font-family: monospace;\n",
       "  font-weight: bold;\n",
       "  display: inline-block;\n",
       "  line-height: 1.2em;\n",
       "}\n",
       "\n",
       "#sk-container-id-3 div.sk-label-container {\n",
       "  text-align: center;\n",
       "}\n",
       "\n",
       "/* Estimator-specific */\n",
       "#sk-container-id-3 div.sk-estimator {\n",
       "  font-family: monospace;\n",
       "  border: 1px dotted var(--sklearn-color-border-box);\n",
       "  border-radius: 0.25em;\n",
       "  box-sizing: border-box;\n",
       "  margin-bottom: 0.5em;\n",
       "  /* unfitted */\n",
       "  background-color: var(--sklearn-color-unfitted-level-0);\n",
       "}\n",
       "\n",
       "#sk-container-id-3 div.sk-estimator.fitted {\n",
       "  /* fitted */\n",
       "  background-color: var(--sklearn-color-fitted-level-0);\n",
       "}\n",
       "\n",
       "/* on hover */\n",
       "#sk-container-id-3 div.sk-estimator:hover {\n",
       "  /* unfitted */\n",
       "  background-color: var(--sklearn-color-unfitted-level-2);\n",
       "}\n",
       "\n",
       "#sk-container-id-3 div.sk-estimator.fitted:hover {\n",
       "  /* fitted */\n",
       "  background-color: var(--sklearn-color-fitted-level-2);\n",
       "}\n",
       "\n",
       "/* Specification for estimator info (e.g. \"i\" and \"?\") */\n",
       "\n",
       "/* Common style for \"i\" and \"?\" */\n",
       "\n",
       ".sk-estimator-doc-link,\n",
       "a:link.sk-estimator-doc-link,\n",
       "a:visited.sk-estimator-doc-link {\n",
       "  float: right;\n",
       "  font-size: smaller;\n",
       "  line-height: 1em;\n",
       "  font-family: monospace;\n",
       "  background-color: var(--sklearn-color-background);\n",
       "  border-radius: 1em;\n",
       "  height: 1em;\n",
       "  width: 1em;\n",
       "  text-decoration: none !important;\n",
       "  margin-left: 1ex;\n",
       "  /* unfitted */\n",
       "  border: var(--sklearn-color-unfitted-level-1) 1pt solid;\n",
       "  color: var(--sklearn-color-unfitted-level-1);\n",
       "}\n",
       "\n",
       ".sk-estimator-doc-link.fitted,\n",
       "a:link.sk-estimator-doc-link.fitted,\n",
       "a:visited.sk-estimator-doc-link.fitted {\n",
       "  /* fitted */\n",
       "  border: var(--sklearn-color-fitted-level-1) 1pt solid;\n",
       "  color: var(--sklearn-color-fitted-level-1);\n",
       "}\n",
       "\n",
       "/* On hover */\n",
       "div.sk-estimator:hover .sk-estimator-doc-link:hover,\n",
       ".sk-estimator-doc-link:hover,\n",
       "div.sk-label-container:hover .sk-estimator-doc-link:hover,\n",
       ".sk-estimator-doc-link:hover {\n",
       "  /* unfitted */\n",
       "  background-color: var(--sklearn-color-unfitted-level-3);\n",
       "  color: var(--sklearn-color-background);\n",
       "  text-decoration: none;\n",
       "}\n",
       "\n",
       "div.sk-estimator.fitted:hover .sk-estimator-doc-link.fitted:hover,\n",
       ".sk-estimator-doc-link.fitted:hover,\n",
       "div.sk-label-container:hover .sk-estimator-doc-link.fitted:hover,\n",
       ".sk-estimator-doc-link.fitted:hover {\n",
       "  /* fitted */\n",
       "  background-color: var(--sklearn-color-fitted-level-3);\n",
       "  color: var(--sklearn-color-background);\n",
       "  text-decoration: none;\n",
       "}\n",
       "\n",
       "/* Span, style for the box shown on hovering the info icon */\n",
       ".sk-estimator-doc-link span {\n",
       "  display: none;\n",
       "  z-index: 9999;\n",
       "  position: relative;\n",
       "  font-weight: normal;\n",
       "  right: .2ex;\n",
       "  padding: .5ex;\n",
       "  margin: .5ex;\n",
       "  width: min-content;\n",
       "  min-width: 20ex;\n",
       "  max-width: 50ex;\n",
       "  color: var(--sklearn-color-text);\n",
       "  box-shadow: 2pt 2pt 4pt #999;\n",
       "  /* unfitted */\n",
       "  background: var(--sklearn-color-unfitted-level-0);\n",
       "  border: .5pt solid var(--sklearn-color-unfitted-level-3);\n",
       "}\n",
       "\n",
       ".sk-estimator-doc-link.fitted span {\n",
       "  /* fitted */\n",
       "  background: var(--sklearn-color-fitted-level-0);\n",
       "  border: var(--sklearn-color-fitted-level-3);\n",
       "}\n",
       "\n",
       ".sk-estimator-doc-link:hover span {\n",
       "  display: block;\n",
       "}\n",
       "\n",
       "/* \"?\"-specific style due to the `<a>` HTML tag */\n",
       "\n",
       "#sk-container-id-3 a.estimator_doc_link {\n",
       "  float: right;\n",
       "  font-size: 1rem;\n",
       "  line-height: 1em;\n",
       "  font-family: monospace;\n",
       "  background-color: var(--sklearn-color-background);\n",
       "  border-radius: 1rem;\n",
       "  height: 1rem;\n",
       "  width: 1rem;\n",
       "  text-decoration: none;\n",
       "  /* unfitted */\n",
       "  color: var(--sklearn-color-unfitted-level-1);\n",
       "  border: var(--sklearn-color-unfitted-level-1) 1pt solid;\n",
       "}\n",
       "\n",
       "#sk-container-id-3 a.estimator_doc_link.fitted {\n",
       "  /* fitted */\n",
       "  border: var(--sklearn-color-fitted-level-1) 1pt solid;\n",
       "  color: var(--sklearn-color-fitted-level-1);\n",
       "}\n",
       "\n",
       "/* On hover */\n",
       "#sk-container-id-3 a.estimator_doc_link:hover {\n",
       "  /* unfitted */\n",
       "  background-color: var(--sklearn-color-unfitted-level-3);\n",
       "  color: var(--sklearn-color-background);\n",
       "  text-decoration: none;\n",
       "}\n",
       "\n",
       "#sk-container-id-3 a.estimator_doc_link.fitted:hover {\n",
       "  /* fitted */\n",
       "  background-color: var(--sklearn-color-fitted-level-3);\n",
       "}\n",
       "</style><div id=\"sk-container-id-3\" class=\"sk-top-container\"><div class=\"sk-text-repr-fallback\"><pre>GaussianMixture(n_components=6, random_state=14)</pre><b>In a Jupyter environment, please rerun this cell to show the HTML representation or trust the notebook. <br />On GitHub, the HTML representation is unable to render, please try loading this page with nbviewer.org.</b></div><div class=\"sk-container\" hidden><div class=\"sk-item\"><div class=\"sk-estimator fitted sk-toggleable\"><input class=\"sk-toggleable__control sk-hidden--visually\" id=\"sk-estimator-id-3\" type=\"checkbox\" checked><label for=\"sk-estimator-id-3\" class=\"sk-toggleable__label fitted sk-toggleable__label-arrow fitted\">&nbsp;&nbsp;GaussianMixture<a class=\"sk-estimator-doc-link fitted\" rel=\"noreferrer\" target=\"_blank\" href=\"https://scikit-learn.org/1.5/modules/generated/sklearn.mixture.GaussianMixture.html\">?<span>Documentation for GaussianMixture</span></a><span class=\"sk-estimator-doc-link fitted\">i<span>Fitted</span></span></label><div class=\"sk-toggleable__content fitted\"><pre>GaussianMixture(n_components=6, random_state=14)</pre></div> </div></div></div></div>"
      ],
      "text/plain": [
       "GaussianMixture(n_components=6, random_state=14)"
      ]
     },
     "execution_count": 104,
     "metadata": {},
     "output_type": "execute_result"
    }
   ],
   "source": [
    "gm5.fit(pca_x2)"
   ]
  },
  {
   "cell_type": "code",
   "execution_count": 105,
   "id": "f7bc06f6",
   "metadata": {},
   "outputs": [],
   "source": [
    "pred4=gm5.predict(pca_x2)"
   ]
  },
  {
   "cell_type": "code",
   "execution_count": 106,
   "id": "05fe01fb",
   "metadata": {},
   "outputs": [
    {
     "name": "stdout",
     "output_type": "stream",
     "text": [
      "[[-1.32572581  0.17982957 -0.98508303 -0.31367142  0.19518883  0.07395813\n",
      "   0.89728926 -0.48726991  0.14945361  0.84083758]\n",
      " [-1.29645674 -0.06054481  0.5546056   0.08331466 -0.11334929 -0.04794023\n",
      "  -0.45124327  0.31063659 -0.01054845 -0.42896535]\n",
      " [ 1.77908521  0.05518995  0.09433587  0.02080333  0.42479178 -0.09747334\n",
      "   0.15340882  0.04797426  0.1966443  -0.23312686]\n",
      " [-0.02840715 -0.11361728 -1.82379045  5.41847974  0.72524136  0.29307381\n",
      "  -2.9982926  -3.20797314 -5.00783937 -0.95297944]\n",
      " [ 1.78051191  0.05880986 -0.12984851 -0.18028971 -0.97121752  0.21765092\n",
      "  -0.20444967  0.04142448 -0.27273998  0.53298574]\n",
      " [-1.30193408 -0.05824797 -0.3810898  -0.16541117  0.08379271  0.02326537\n",
      "   0.36312641 -0.19691624  0.09275139  0.32494161]]\n"
     ]
    }
   ],
   "source": [
    "print(gm5.means_)"
   ]
  },
  {
   "cell_type": "code",
   "execution_count": 107,
   "id": "f774b969",
   "metadata": {},
   "outputs": [],
   "source": [
    "means4=np.array(gm5.means_)"
   ]
  },
  {
   "cell_type": "code",
   "execution_count": 108,
   "id": "632f8fb9",
   "metadata": {},
   "outputs": [
    {
     "data": {
      "text/plain": [
       "Text(0.5, 1.0, 'Centroids with 6 components (Rural)')"
      ]
     },
     "execution_count": 108,
     "metadata": {},
     "output_type": "execute_result"
    },
    {
     "data": {
      "image/png": "[encoded data removed]",
      "text/plain": [
       "<Figure size 432x288 with 1 Axes>"
      ]
     },
     "metadata": {
      "needs_background": "light"
     },
     "output_type": "display_data"
    }
   ],
   "source": [
    "plt.scatter(means4[:,0], means4[:,1], marker='x', color='red')   #Check centroids\n",
    "plt.title(\"Centroids with 6 components (Rural)\")"
   ]
  },
  {
   "cell_type": "markdown",
   "id": "191b8689",
   "metadata": {},
   "source": [
    "Here we see a lot of overlap with the centroids with the suggested cluster that the AIC recommended. Looking at the AIC plot, we can see the drop stop being very large drop around 3 components. After 3 clusters, the AIC drop is very minimal and infact, at 7 it goes back up again so to prevent overfitting, we will try 3 clusters. "
   ]
  },
  {
   "cell_type": "code",
   "execution_count": 109,
   "id": "2a21ed34",
   "metadata": {},
   "outputs": [],
   "source": [
    "gm6=GaussianMixture(n_components=3, random_state=84)  #Fit gmm with 3 clusters"
   ]
  },
  {
   "cell_type": "code",
   "execution_count": 110,
   "id": "21cd246f",
   "metadata": {},
   "outputs": [
    {
     "data": {
      "text/html": [
       "<style>#sk-container-id-4 {\n",
       "  /* Definition of color scheme common for light and dark mode */\n",
       "  --sklearn-color-text: black;\n",
       "  --sklearn-color-line: gray;\n",
       "  /* Definition of color scheme for unfitted estimators */\n",
       "  --sklearn-color-unfitted-level-0: #fff5e6;\n",
       "  --sklearn-color-unfitted-level-1: #f6e4d2;\n",
       "  --sklearn-color-unfitted-level-2: #ffe0b3;\n",
       "  --sklearn-color-unfitted-level-3: chocolate;\n",
       "  /* Definition of color scheme for fitted estimators */\n",
       "  --sklearn-color-fitted-level-0: #f0f8ff;\n",
       "  --sklearn-color-fitted-level-1: #d4ebff;\n",
       "  --sklearn-color-fitted-level-2: #b3dbfd;\n",
       "  --sklearn-color-fitted-level-3: cornflowerblue;\n",
       "\n",
       "  /* Specific color for light theme */\n",
       "  --sklearn-color-text-on-default-background: var(--sg-text-color, var(--theme-code-foreground, var(--jp-content-font-color1, black)));\n",
       "  --sklearn-color-background: var(--sg-background-color, var(--theme-background, var(--jp-layout-color0, white)));\n",
       "  --sklearn-color-border-box: var(--sg-text-color, var(--theme-code-foreground, var(--jp-content-font-color1, black)));\n",
       "  --sklearn-color-icon: #696969;\n",
       "\n",
       "  @media (prefers-color-scheme: dark) {\n",
       "    /* Redefinition of color scheme for dark theme */\n",
       "    --sklearn-color-text-on-default-background: var(--sg-text-color, var(--theme-code-foreground, var(--jp-content-font-color1, white)));\n",
       "    --sklearn-color-background: var(--sg-background-color, var(--theme-background, var(--jp-layout-color0, #111)));\n",
       "    --sklearn-color-border-box: var(--sg-text-color, var(--theme-code-foreground, var(--jp-content-font-color1, white)));\n",
       "    --sklearn-color-icon: #878787;\n",
       "  }\n",
       "}\n",
       "\n",
       "#sk-container-id-4 {\n",
       "  color: var(--sklearn-color-text);\n",
       "}\n",
       "\n",
       "#sk-container-id-4 pre {\n",
       "  padding: 0;\n",
       "}\n",
       "\n",
       "#sk-container-id-4 input.sk-hidden--visually {\n",
       "  border: 0;\n",
       "  clip: rect(1px 1px 1px 1px);\n",
       "  clip: rect(1px, 1px, 1px, 1px);\n",
       "  height: 1px;\n",
       "  margin: -1px;\n",
       "  overflow: hidden;\n",
       "  padding: 0;\n",
       "  position: absolute;\n",
       "  width: 1px;\n",
       "}\n",
       "\n",
       "#sk-container-id-4 div.sk-dashed-wrapped {\n",
       "  border: 1px dashed var(--sklearn-color-line);\n",
       "  margin: 0 0.4em 0.5em 0.4em;\n",
       "  box-sizing: border-box;\n",
       "  padding-bottom: 0.4em;\n",
       "  background-color: var(--sklearn-color-background);\n",
       "}\n",
       "\n",
       "#sk-container-id-4 div.sk-container {\n",
       "  /* jupyter's `normalize.less` sets `[hidden] { display: none; }`\n",
       "     but bootstrap.min.css set `[hidden] { display: none !important; }`\n",
       "     so we also need the `!important` here to be able to override the\n",
       "     default hidden behavior on the sphinx rendered scikit-learn.org.\n",
       "     See: https://github.com/scikit-learn/scikit-learn/issues/21755 */\n",
       "  display: inline-block !important;\n",
       "  position: relative;\n",
       "}\n",
       "\n",
       "#sk-container-id-4 div.sk-text-repr-fallback {\n",
       "  display: none;\n",
       "}\n",
       "\n",
       "div.sk-parallel-item,\n",
       "div.sk-serial,\n",
       "div.sk-item {\n",
       "  /* draw centered vertical line to link estimators */\n",
       "  background-image: linear-gradient(var(--sklearn-color-text-on-default-background), var(--sklearn-color-text-on-default-background));\n",
       "  background-size: 2px 100%;\n",
       "  background-repeat: no-repeat;\n",
       "  background-position: center center;\n",
       "}\n",
       "\n",
       "/* Parallel-specific style estimator block */\n",
       "\n",
       "#sk-container-id-4 div.sk-parallel-item::after {\n",
       "  content: \"\";\n",
       "  width: 100%;\n",
       "  border-bottom: 2px solid var(--sklearn-color-text-on-default-background);\n",
       "  flex-grow: 1;\n",
       "}\n",
       "\n",
       "#sk-container-id-4 div.sk-parallel {\n",
       "  display: flex;\n",
       "  align-items: stretch;\n",
       "  justify-content: center;\n",
       "  background-color: var(--sklearn-color-background);\n",
       "  position: relative;\n",
       "}\n",
       "\n",
       "#sk-container-id-4 div.sk-parallel-item {\n",
       "  display: flex;\n",
       "  flex-direction: column;\n",
       "}\n",
       "\n",
       "#sk-container-id-4 div.sk-parallel-item:first-child::after {\n",
       "  align-self: flex-end;\n",
       "  width: 50%;\n",
       "}\n",
       "\n",
       "#sk-container-id-4 div.sk-parallel-item:last-child::after {\n",
       "  align-self: flex-start;\n",
       "  width: 50%;\n",
       "}\n",
       "\n",
       "#sk-container-id-4 div.sk-parallel-item:only-child::after {\n",
       "  width: 0;\n",
       "}\n",
       "\n",
       "/* Serial-specific style estimator block */\n",
       "\n",
       "#sk-container-id-4 div.sk-serial {\n",
       "  display: flex;\n",
       "  flex-direction: column;\n",
       "  align-items: center;\n",
       "  background-color: var(--sklearn-color-background);\n",
       "  padding-right: 1em;\n",
       "  padding-left: 1em;\n",
       "}\n",
       "\n",
       "\n",
       "/* Toggleable style: style used for estimator/Pipeline/ColumnTransformer box that is\n",
       "clickable and can be expanded/collapsed.\n",
       "- Pipeline and ColumnTransformer use this feature and define the default style\n",
       "- Estimators will overwrite some part of the style using the `sk-estimator` class\n",
       "*/\n",
       "\n",
       "/* Pipeline and ColumnTransformer style (default) */\n",
       "\n",
       "#sk-container-id-4 div.sk-toggleable {\n",
       "  /* Default theme specific background. It is overwritten whether we have a\n",
       "  specific estimator or a Pipeline/ColumnTransformer */\n",
       "  background-color: var(--sklearn-color-background);\n",
       "}\n",
       "\n",
       "/* Toggleable label */\n",
       "#sk-container-id-4 label.sk-toggleable__label {\n",
       "  cursor: pointer;\n",
       "  display: block;\n",
       "  width: 100%;\n",
       "  margin-bottom: 0;\n",
       "  padding: 0.5em;\n",
       "  box-sizing: border-box;\n",
       "  text-align: center;\n",
       "}\n",
       "\n",
       "#sk-container-id-4 label.sk-toggleable__label-arrow:before {\n",
       "  /* Arrow on the left of the label */\n",
       "  content: \"▸\";\n",
       "  float: left;\n",
       "  margin-right: 0.25em;\n",
       "  color: var(--sklearn-color-icon);\n",
       "}\n",
       "\n",
       "#sk-container-id-4 label.sk-toggleable__label-arrow:hover:before {\n",
       "  color: var(--sklearn-color-text);\n",
       "}\n",
       "\n",
       "/* Toggleable content - dropdown */\n",
       "\n",
       "#sk-container-id-4 div.sk-toggleable__content {\n",
       "  max-height: 0;\n",
       "  max-width: 0;\n",
       "  overflow: hidden;\n",
       "  text-align: left;\n",
       "  /* unfitted */\n",
       "  background-color: var(--sklearn-color-unfitted-level-0);\n",
       "}\n",
       "\n",
       "#sk-container-id-4 div.sk-toggleable__content.fitted {\n",
       "  /* fitted */\n",
       "  background-color: var(--sklearn-color-fitted-level-0);\n",
       "}\n",
       "\n",
       "#sk-container-id-4 div.sk-toggleable__content pre {\n",
       "  margin: 0.2em;\n",
       "  border-radius: 0.25em;\n",
       "  color: var(--sklearn-color-text);\n",
       "  /* unfitted */\n",
       "  background-color: var(--sklearn-color-unfitted-level-0);\n",
       "}\n",
       "\n",
       "#sk-container-id-4 div.sk-toggleable__content.fitted pre {\n",
       "  /* unfitted */\n",
       "  background-color: var(--sklearn-color-fitted-level-0);\n",
       "}\n",
       "\n",
       "#sk-container-id-4 input.sk-toggleable__control:checked~div.sk-toggleable__content {\n",
       "  /* Expand drop-down */\n",
       "  max-height: 200px;\n",
       "  max-width: 100%;\n",
       "  overflow: auto;\n",
       "}\n",
       "\n",
       "#sk-container-id-4 input.sk-toggleable__control:checked~label.sk-toggleable__label-arrow:before {\n",
       "  content: \"▾\";\n",
       "}\n",
       "\n",
       "/* Pipeline/ColumnTransformer-specific style */\n",
       "\n",
       "#sk-container-id-4 div.sk-label input.sk-toggleable__control:checked~label.sk-toggleable__label {\n",
       "  color: var(--sklearn-color-text);\n",
       "  background-color: var(--sklearn-color-unfitted-level-2);\n",
       "}\n",
       "\n",
       "#sk-container-id-4 div.sk-label.fitted input.sk-toggleable__control:checked~label.sk-toggleable__label {\n",
       "  background-color: var(--sklearn-color-fitted-level-2);\n",
       "}\n",
       "\n",
       "/* Estimator-specific style */\n",
       "\n",
       "/* Colorize estimator box */\n",
       "#sk-container-id-4 div.sk-estimator input.sk-toggleable__control:checked~label.sk-toggleable__label {\n",
       "  /* unfitted */\n",
       "  background-color: var(--sklearn-color-unfitted-level-2);\n",
       "}\n",
       "\n",
       "#sk-container-id-4 div.sk-estimator.fitted input.sk-toggleable__control:checked~label.sk-toggleable__label {\n",
       "  /* fitted */\n",
       "  background-color: var(--sklearn-color-fitted-level-2);\n",
       "}\n",
       "\n",
       "#sk-container-id-4 div.sk-label label.sk-toggleable__label,\n",
       "#sk-container-id-4 div.sk-label label {\n",
       "  /* The background is the default theme color */\n",
       "  color: var(--sklearn-color-text-on-default-background);\n",
       "}\n",
       "\n",
       "/* On hover, darken the color of the background */\n",
       "#sk-container-id-4 div.sk-label:hover label.sk-toggleable__label {\n",
       "  color: var(--sklearn-color-text);\n",
       "  background-color: var(--sklearn-color-unfitted-level-2);\n",
       "}\n",
       "\n",
       "/* Label box, darken color on hover, fitted */\n",
       "#sk-container-id-4 div.sk-label.fitted:hover label.sk-toggleable__label.fitted {\n",
       "  color: var(--sklearn-color-text);\n",
       "  background-color: var(--sklearn-color-fitted-level-2);\n",
       "}\n",
       "\n",
       "/* Estimator label */\n",
       "\n",
       "#sk-container-id-4 div.sk-label label {\n",
       "  font-family: monospace;\n",
       "  font-weight: bold;\n",
       "  display: inline-block;\n",
       "  line-height: 1.2em;\n",
       "}\n",
       "\n",
       "#sk-container-id-4 div.sk-label-container {\n",
       "  text-align: center;\n",
       "}\n",
       "\n",
       "/* Estimator-specific */\n",
       "#sk-container-id-4 div.sk-estimator {\n",
       "  font-family: monospace;\n",
       "  border: 1px dotted var(--sklearn-color-border-box);\n",
       "  border-radius: 0.25em;\n",
       "  box-sizing: border-box;\n",
       "  margin-bottom: 0.5em;\n",
       "  /* unfitted */\n",
       "  background-color: var(--sklearn-color-unfitted-level-0);\n",
       "}\n",
       "\n",
       "#sk-container-id-4 div.sk-estimator.fitted {\n",
       "  /* fitted */\n",
       "  background-color: var(--sklearn-color-fitted-level-0);\n",
       "}\n",
       "\n",
       "/* on hover */\n",
       "#sk-container-id-4 div.sk-estimator:hover {\n",
       "  /* unfitted */\n",
       "  background-color: var(--sklearn-color-unfitted-level-2);\n",
       "}\n",
       "\n",
       "#sk-container-id-4 div.sk-estimator.fitted:hover {\n",
       "  /* fitted */\n",
       "  background-color: var(--sklearn-color-fitted-level-2);\n",
       "}\n",
       "\n",
       "/* Specification for estimator info (e.g. \"i\" and \"?\") */\n",
       "\n",
       "/* Common style for \"i\" and \"?\" */\n",
       "\n",
       ".sk-estimator-doc-link,\n",
       "a:link.sk-estimator-doc-link,\n",
       "a:visited.sk-estimator-doc-link {\n",
       "  float: right;\n",
       "  font-size: smaller;\n",
       "  line-height: 1em;\n",
       "  font-family: monospace;\n",
       "  background-color: var(--sklearn-color-background);\n",
       "  border-radius: 1em;\n",
       "  height: 1em;\n",
       "  width: 1em;\n",
       "  text-decoration: none !important;\n",
       "  margin-left: 1ex;\n",
       "  /* unfitted */\n",
       "  border: var(--sklearn-color-unfitted-level-1) 1pt solid;\n",
       "  color: var(--sklearn-color-unfitted-level-1);\n",
       "}\n",
       "\n",
       ".sk-estimator-doc-link.fitted,\n",
       "a:link.sk-estimator-doc-link.fitted,\n",
       "a:visited.sk-estimator-doc-link.fitted {\n",
       "  /* fitted */\n",
       "  border: var(--sklearn-color-fitted-level-1) 1pt solid;\n",
       "  color: var(--sklearn-color-fitted-level-1);\n",
       "}\n",
       "\n",
       "/* On hover */\n",
       "div.sk-estimator:hover .sk-estimator-doc-link:hover,\n",
       ".sk-estimator-doc-link:hover,\n",
       "div.sk-label-container:hover .sk-estimator-doc-link:hover,\n",
       ".sk-estimator-doc-link:hover {\n",
       "  /* unfitted */\n",
       "  background-color: var(--sklearn-color-unfitted-level-3);\n",
       "  color: var(--sklearn-color-background);\n",
       "  text-decoration: none;\n",
       "}\n",
       "\n",
       "div.sk-estimator.fitted:hover .sk-estimator-doc-link.fitted:hover,\n",
       ".sk-estimator-doc-link.fitted:hover,\n",
       "div.sk-label-container:hover .sk-estimator-doc-link.fitted:hover,\n",
       ".sk-estimator-doc-link.fitted:hover {\n",
       "  /* fitted */\n",
       "  background-color: var(--sklearn-color-fitted-level-3);\n",
       "  color: var(--sklearn-color-background);\n",
       "  text-decoration: none;\n",
       "}\n",
       "\n",
       "/* Span, style for the box shown on hovering the info icon */\n",
       ".sk-estimator-doc-link span {\n",
       "  display: none;\n",
       "  z-index: 9999;\n",
       "  position: relative;\n",
       "  font-weight: normal;\n",
       "  right: .2ex;\n",
       "  padding: .5ex;\n",
       "  margin: .5ex;\n",
       "  width: min-content;\n",
       "  min-width: 20ex;\n",
       "  max-width: 50ex;\n",
       "  color: var(--sklearn-color-text);\n",
       "  box-shadow: 2pt 2pt 4pt #999;\n",
       "  /* unfitted */\n",
       "  background: var(--sklearn-color-unfitted-level-0);\n",
       "  border: .5pt solid var(--sklearn-color-unfitted-level-3);\n",
       "}\n",
       "\n",
       ".sk-estimator-doc-link.fitted span {\n",
       "  /* fitted */\n",
       "  background: var(--sklearn-color-fitted-level-0);\n",
       "  border: var(--sklearn-color-fitted-level-3);\n",
       "}\n",
       "\n",
       ".sk-estimator-doc-link:hover span {\n",
       "  display: block;\n",
       "}\n",
       "\n",
       "/* \"?\"-specific style due to the `<a>` HTML tag */\n",
       "\n",
       "#sk-container-id-4 a.estimator_doc_link {\n",
       "  float: right;\n",
       "  font-size: 1rem;\n",
       "  line-height: 1em;\n",
       "  font-family: monospace;\n",
       "  background-color: var(--sklearn-color-background);\n",
       "  border-radius: 1rem;\n",
       "  height: 1rem;\n",
       "  width: 1rem;\n",
       "  text-decoration: none;\n",
       "  /* unfitted */\n",
       "  color: var(--sklearn-color-unfitted-level-1);\n",
       "  border: var(--sklearn-color-unfitted-level-1) 1pt solid;\n",
       "}\n",
       "\n",
       "#sk-container-id-4 a.estimator_doc_link.fitted {\n",
       "  /* fitted */\n",
       "  border: var(--sklearn-color-fitted-level-1) 1pt solid;\n",
       "  color: var(--sklearn-color-fitted-level-1);\n",
       "}\n",
       "\n",
       "/* On hover */\n",
       "#sk-container-id-4 a.estimator_doc_link:hover {\n",
       "  /* unfitted */\n",
       "  background-color: var(--sklearn-color-unfitted-level-3);\n",
       "  color: var(--sklearn-color-background);\n",
       "  text-decoration: none;\n",
       "}\n",
       "\n",
       "#sk-container-id-4 a.estimator_doc_link.fitted:hover {\n",
       "  /* fitted */\n",
       "  background-color: var(--sklearn-color-fitted-level-3);\n",
       "}\n",
       "</style><div id=\"sk-container-id-4\" class=\"sk-top-container\"><div class=\"sk-text-repr-fallback\"><pre>GaussianMixture(n_components=3, random_state=84)</pre><b>In a Jupyter environment, please rerun this cell to show the HTML representation or trust the notebook. <br />On GitHub, the HTML representation is unable to render, please try loading this page with nbviewer.org.</b></div><div class=\"sk-container\" hidden><div class=\"sk-item\"><div class=\"sk-estimator fitted sk-toggleable\"><input class=\"sk-toggleable__control sk-hidden--visually\" id=\"sk-estimator-id-4\" type=\"checkbox\" checked><label for=\"sk-estimator-id-4\" class=\"sk-toggleable__label fitted sk-toggleable__label-arrow fitted\">&nbsp;&nbsp;GaussianMixture<a class=\"sk-estimator-doc-link fitted\" rel=\"noreferrer\" target=\"_blank\" href=\"https://scikit-learn.org/1.5/modules/generated/sklearn.mixture.GaussianMixture.html\">?<span>Documentation for GaussianMixture</span></a><span class=\"sk-estimator-doc-link fitted\">i<span>Fitted</span></span></label><div class=\"sk-toggleable__content fitted\"><pre>GaussianMixture(n_components=3, random_state=84)</pre></div> </div></div></div></div>"
      ],
      "text/plain": [
       "GaussianMixture(n_components=3, random_state=84)"
      ]
     },
     "execution_count": 110,
     "metadata": {},
     "output_type": "execute_result"
    }
   ],
   "source": [
    "gm6.fit(pca_x2)"
   ]
  },
  {
   "cell_type": "code",
   "execution_count": 111,
   "id": "a07a3aaf",
   "metadata": {},
   "outputs": [],
   "source": [
    "pred5=gm6.predict(pca_x2)\n",
    "means5=np.array(gm6.means_)"
   ]
  },
  {
   "cell_type": "code",
   "execution_count": 112,
   "id": "0f9f504d",
   "metadata": {},
   "outputs": [
    {
     "data": {
      "text/plain": [
       "Text(0.5, 1.0, 'Centroids with 3 Clusters (Rural)')"
      ]
     },
     "execution_count": 112,
     "metadata": {},
     "output_type": "execute_result"
    },
    {
     "data": {
      "image/png": "[encoded data removed]",
      "text/plain": [
       "<Figure size 432x288 with 1 Axes>"
      ]
     },
     "metadata": {
      "needs_background": "light"
     },
     "output_type": "display_data"
    }
   ],
   "source": [
    "plt.scatter(means5[:,0], means5[:,1], marker='x', color='red')   #Replot centroids with 3 clusters\n",
    "plt.title(\"Centroids with 3 Clusters (Rural)\")"
   ]
  },
  {
   "cell_type": "markdown",
   "id": "70c4ea6e",
   "metadata": {},
   "source": [
    "Now we see using 3 clusters, the centroids are seperated from each other pretty well and potentially avoid overfitting that 6 components had."
   ]
  },
  {
   "cell_type": "code",
   "execution_count": 113,
   "id": "e407912f",
   "metadata": {},
   "outputs": [],
   "source": [
    "rural['Cluster']=pred5    #Get cluster means\n",
    "cluster_means2=rural.groupby('Cluster').mean()"
   ]
  },
  {
   "cell_type": "code",
   "execution_count": 114,
   "id": "362bb471",
   "metadata": {},
   "outputs": [
    {
     "name": "stdout",
     "output_type": "stream",
     "text": [
      "               Age    Gender  Marital Status  Number of Children  Occupation  \\\n",
      "Cluster                                                                        \n",
      "0        54.078143  0.573636        1.507458            2.468495    4.368491   \n",
      "1        54.026521  0.569804        1.496035            2.466210    4.661689   \n",
      "2        53.814719  0.577489        1.519481            2.520346    4.559307   \n",
      "\n",
      "                Salary  Standard of Living  Party Membership  \\\n",
      "Cluster                                                        \n",
      "0         50029.160131            0.997685          0.000000   \n",
      "1         49899.602572            0.997844          1.000000   \n",
      "2        500266.003307            1.051082          0.415584   \n",
      "\n",
      "         Rate of Voter Turnout  Most Important Issue  \\\n",
      "Cluster                                                \n",
      "0                     1.090918              2.002734   \n",
      "1                     1.076499              1.997528   \n",
      "2                     1.083983              2.024242   \n",
      "\n",
      "         Engagement with Campaign  Votes for Democrat (Last 8 years)  \\\n",
      "Cluster                                                                \n",
      "0                        1.194381                           1.995660   \n",
      "1                        1.100172                           6.004133   \n",
      "2                        1.153247                           3.661472   \n",
      "\n",
      "         Votes for Republican (Last 8 years)  \\\n",
      "Cluster                                        \n",
      "0                                   5.998626   \n",
      "1                                   2.002887   \n",
      "2                                   4.344589   \n",
      "\n",
      "         Votes for Other Candidate (Last 8 years)  \n",
      "Cluster                                            \n",
      "0                                        1.004066  \n",
      "1                                        1.001009  \n",
      "2                                        0.993939  \n"
     ]
    }
   ],
   "source": [
    "print(cluster_means2)"
   ]
  },
  {
   "cell_type": "code",
   "execution_count": null,
   "id": "ad4d4166",
   "metadata": {},
   "outputs": [],
   "source": []
  },
  {
   "cell_type": "code",
   "execution_count": null,
   "id": "52a34915",
   "metadata": {},
   "outputs": [],
   "source": []
  }
 ],
 "metadata": {
  "kernelspec": {
   "display_name": "Python 3 (ipykernel)",
   "language": "python",
   "name": "python3"
  },
  "language_info": {
   "codemirror_mode": {
    "name": "ipython",
    "version": 3
   },
   "file_extension": ".py",
   "mimetype": "text/x-python",
   "name": "python",
   "nbconvert_exporter": "python",
   "pygments_lexer": "ipython3",
   "version": "3.9.7"
  }
 },
 "nbformat": 4,
 "nbformat_minor": 5
}
